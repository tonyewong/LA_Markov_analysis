{
 "cells": [
  {
   "cell_type": "code",
   "execution_count": 1,
   "metadata": {},
   "outputs": [],
   "source": [
    "import pandas as pd\n",
    "import scipy.stats as stats\n",
    "import numpy as np\n",
    "from time import time\n",
    "import matplotlib.pyplot as plt\n",
    "import math\n",
    "%matplotlib inline"
   ]
  },
  {
   "cell_type": "markdown",
   "metadata": {},
   "source": [
    "Use a colorblind color palette for plotting."
   ]
  },
  {
   "cell_type": "code",
   "execution_count": 2,
   "metadata": {},
   "outputs": [],
   "source": [
    "plt.style.use('tableau-colorblind10')"
   ]
  },
  {
   "cell_type": "markdown",
   "metadata": {},
   "source": [
    "Read in the data set."
   ]
  },
  {
   "cell_type": "code",
   "execution_count": 3,
   "metadata": {},
   "outputs": [
    {
     "name": "stderr",
     "output_type": "stream",
     "text": [
      "/Users/aewsma/anaconda3/lib/python3.7/site-packages/IPython/core/interactiveshell.py:3057: DtypeWarning: Columns (7,8,9,10,30) have mixed types. Specify dtype option on import or set low_memory=False.\n",
      "  interactivity=interactivity, compiler=compiler, result=result)\n"
     ]
    }
   ],
   "source": [
    "df = pd.read_csv(\"../2131-2208_cleaned.csv\") # Fall 2013 - Summer 2021"
   ]
  },
  {
   "cell_type": "markdown",
   "metadata": {},
   "source": [
    "Read in the LA course informtion from Emily"
   ]
  },
  {
   "cell_type": "code",
   "execution_count": 4,
   "metadata": {},
   "outputs": [],
   "source": [
    "LAdf = pd.read_csv(\"../LA_Courses_2205_23Mar2022.csv\")\n",
    "LAdf.rename(columns={\"term\":\"Term\"}, inplace=True)"
   ]
  },
  {
   "cell_type": "markdown",
   "metadata": {},
   "source": [
    "The following changes Pandas options when displaying the DataFrame so that it doesn't give a \"...\" when there are too many columns."
   ]
  },
  {
   "cell_type": "code",
   "execution_count": 5,
   "metadata": {},
   "outputs": [],
   "source": [
    "pd.set_option(\"display.max_columns\", 40, \"display.max_rows\", 200)"
   ]
  },
  {
   "cell_type": "markdown",
   "metadata": {},
   "source": [
    "Note: these forms of the `compute_matrix` function assume that we are working with the LA data\"\n",
    "\n",
    "These versions account for partial data cohorts (e.g., the current Fall 2019 cohort, since they have not had 6 full years yet in the DataFrame)\n",
    "  * uses a series of `if` statements to determine whether to proceed with calculating subsequent rows (year-to-year transitions) within the numbers matrix. Note that years where there is no data are left as 0s, so normalizing will give infinities/nans. Need to account for that on the user side by only adding these partial data fellas to matrices from cohort terms where we have enough data to estimate those entries\n",
    "  \n",
    "`compute_matrix_orig` (lower) is the original code from Mason/Tiana.\n",
    "* takes in a DataFrame and `cohort_term`,\n",
    "* grabs all students from that `cohort_term` who took classes during that term (misses transfer students)\n",
    "* compute the \"persisters\" from Year N to N+1 as the subset of students from Year N who take classes in Year N+1 **OR** who have a `degree_term` that is after Year N.\n",
    "  * those who have a `degree_term` in Year N go into the N-->depart (degree) transition numbers\n",
    "  * those who no longer take classes **and** do not eventually obtain a degree go into the N-->depart (no degree) transition numbers\n",
    "* only would account for students who have LAs during their first year (`cohort_term` or the following spring)\n",
    "  * this original version is not adapted for the LA analysis in any specific way\n",
    "\n",
    "`compute_matrix_tw` is modified by Tony to adapt for the LA analysis\n",
    "* accounts for students who have LAs in years besides their first year \n",
    "  * does this by (eg) checking who had LAs during their second year (relative to `cohort_term`), but were not already in the DataFrame from Year 1 (by virtue of having had LAs during Year 1). then does this for Years 2-6 too."
   ]
  },
  {
   "cell_type": "code",
   "execution_count": 6,
   "metadata": {},
   "outputs": [],
   "source": [
    "def compute_matrix_tw(df, cohort_term): \n",
    "    '''\n",
    "    This version is adding in students who have LAs in years 2-6 to \n",
    "    the students who have persisted from previous years.\n",
    "    '''\n",
    "\n",
    "    # Set up initial matrix for numbers of students making each transition (from row i to column j)\n",
    "    mat = np.zeros((8,8))\n",
    "    \n",
    "    # Check that there's data to at least calculate Y1-->Y2 transitions\n",
    "    if len(df.loc[(df[\"Term\"]>=cohort_term+10) & (df[\"Term\"]<cohort_term+20)])==0:\n",
    "        print(\"WARNING: Insufficient data to calculate any transitions. Ending.\")\n",
    "        return\n",
    "\n",
    "    #===========================================================================\n",
    "    # YEAR 1 CALCULATION \n",
    "    #===========================================================================\n",
    "  \n",
    "    # Find all the IDs of students in the specified cohort that were at RIT for the first year\n",
    "    # Includes students who start/have LAs in fall or spring of their first year\n",
    "    IDY1 = df.loc[(df[\"Cohort Term\"] == cohort_term) & \n",
    "                  ((df[\"Term\"] == cohort_term) | (df[\"Term\"] == cohort_term+4)), \"ID\"].unique()\n",
    "    # Save a new dataframe, dfY1, that just has those IDs, for all years they show up total\n",
    "    dfY1 = df.loc[df[\"ID\"].isin(IDY1)]\n",
    "\n",
    "    #===========================================================================\n",
    "    # YEAR 1 -> 2 CALCULATION AND TRANSITIONS\n",
    "    #===========================================================================\n",
    "    \n",
    "    #Which of the Y1 IDs appear again in a future year? If they show up in the data for a second year (not necessarily right after the first year), they'll get pulled here into this other new dataframe, dfY2\n",
    "    IDY2 = dfY1.loc[(dfY1[\"Term\"]>=cohort_term +10) | (dfY1[\"Degree Term\"]>=cohort_term +10), \"ID\"].unique() \n",
    "    # to get mat[0,1] = Y1->Y2 transition, only want persisters\n",
    "    dfY2 = dfY1.loc[dfY1[\"ID\"].isin(IDY2)]\n",
    "    mat[0,1] = len(dfY2[\"ID\"].unique()) \n",
    "\n",
    "    #Now we want the difference between those in Y1 and those in Y2. Presumably, if they're in Y1 but don't return for another year in the data, they have either graduated or left the program\n",
    "    Y1_set = set(dfY1[\"ID\"]) \n",
    "    Y2_set = set(dfY2[\"ID\"]) \n",
    "    departures = set.difference(Y1_set, Y2_set) \n",
    "\n",
    "    #Now grab all the data for the IDs that stop appearing after Y1, which we're assuming means they only spent one year at RIT\n",
    "    Y1_depart = dfY1.loc[dfY1[\"ID\"].isin(departures)]\n",
    "    #Out of those, we want to distinguish the IDs with any \"Degree Term\" listed during or after first year, which implies they graduated rather than dropping out\n",
    "    Y1_degree = Y1_depart.loc[(Y1_depart[\"Degree Term\"] >= cohort_term) | (Y1_depart[\"Degree Term\"] < cohort_term)]\n",
    "\n",
    "    # Total number of students who stop appearing after Y1, without any degree listed. \n",
    "    mat[0,6] = (len(departures))-len(Y1_degree[\"ID\"].unique())\n",
    "    # Total number of students who stop appearing after Y1, and have a degree listed, so we categorize them as graduates\n",
    "    mat[0,7] = len(Y1_degree[\"ID\"].unique())\n",
    "\n",
    "    #===========================================================================\n",
    "    # YEAR 2 -> 3 CALCULATION AND TRANSITIONS\n",
    "    #===========================================================================\n",
    "\n",
    "    if len(df.loc[(df[\"Term\"]>=cohort_term+20) & (df[\"Term\"]<cohort_term+30)])>0:\n",
    "        # only continue if we have data. otherwise, leave as 0s\n",
    "        \n",
    "        # ***** begin changes to account for LA-having (and changing dfYX --> dfYXc) *****\n",
    "        # Now the starters for Y2 should include persisters from Y1 (dfY2) AND the\n",
    "        # students from the desired cohort_term who have LAs in their second year, AND\n",
    "        # who were not in the Y1 dataframe.\n",
    "        # Concatenate the persisters from Y1 with those from the desired cohort_term who have LAs in their second year\n",
    "        # Note that we can remove the `LAexperience` constraint and this will effectively be accounting for transfer students\n",
    "        IDY2LAs = df.loc[(df[\"Cohort Term\"]==cohort_term) & \n",
    "                         ((df[\"Term\"]>=cohort_term+10) & (df[\"Term\"]<cohort_term+20)) &\n",
    "                         (~df[\"ID\"].isin(Y1_set)) & (df[\"LAexperience\"]==1),\"ID\"].unique()\n",
    "        IDadd = set.difference(set(IDY2LAs),Y1_set)\n",
    "        dfY2LAs = df.loc[(df[\"Term\"]>=cohort_term+10) &\n",
    "                         (df[\"Cohort Term\"]==cohort_term) & (df[\"ID\"].isin(IDadd))]\n",
    "\n",
    "        # Here is where we can concatenate the dfY2 DataFrame with the above\n",
    "        dfY2c = pd.concat([dfY2,dfY2LAs],ignore_index=True)\n",
    "        # Need to reset the set of IDs\n",
    "        Y2_set = set(dfY2c[\"ID\"]) \n",
    "        # ***** end changes to account for LA-having (and changing dfYX --> dfYXc) *****\n",
    "\n",
    "        #Which of the Y2 IDs appear again in a future year? If they show up in the data for a third year (not necessarily right after the second year), they'll get pulled here into dfY3\n",
    "        IDY3 = dfY2c.loc[(dfY2c[\"Term\"]>=cohort_term+20)|(dfY2c[\"Degree Term\"]>=cohort_term+20), \"ID\"].unique() \n",
    "        dfY3 = dfY2c.loc[dfY2c[\"ID\"].isin(IDY3)]\n",
    "        mat[1,2] = len(dfY3[\"ID\"].unique())\n",
    "\n",
    "        #Find the difference between those in Y2 and those in Y3. We're assuming the IDs in Y2 but not Y3 left RIT after their second year\n",
    "        Y3_set = set(dfY3[\"ID\"])\n",
    "        departures = set.difference(Y2_set, Y3_set) \n",
    "\n",
    "        #Now grab all the data for the IDs that stop appearing after Y2, which we're assuming means they only spent two years at RIT\n",
    "        Y2_depart = dfY2c.loc[dfY2c[\"ID\"].isin(departures)]\n",
    "\n",
    "        #Distinguish the IDs with any \"Degree Term\" listed during or after second year, which implies they graduated\n",
    "        Y2_degree = Y2_depart.loc[(Y2_depart[\"Degree Term\"]>=cohort_term) & (Y2_depart[\"Degree Term\"]<cohort_term+20)] \n",
    "\n",
    "        #Total number of students who stop appearing after a second year, without any degree listed \n",
    "        mat[1,6] = len(departures) - len(Y2_degree[\"ID\"].unique())\n",
    "\n",
    "        #Total number of students who stop appearing after a second year, and have a degree listed\n",
    "        mat[1,7] = len(Y2_degree[\"ID\"].unique())\n",
    "\n",
    "    ##### Repeat this process for up to 6 years. This should give us a model esitmating the numbers of students who appear at RIT, leave RIT, and graduate for an indicated cohort\n",
    "\n",
    "        #===========================================================================\n",
    "        # YEAR 3 -> 4 CALCULATION AND TRANSITIONS\n",
    "        #===========================================================================\n",
    "\n",
    "        if len(df.loc[(df[\"Term\"]>=cohort_term+30) & (df[\"Term\"]<cohort_term+40)])>0:\n",
    "            # only continue if we have data. otherwise, leave as 0s\n",
    "\n",
    "            # ***** begin changes to account for LA-having (and changing dfYX --> dfYXc) *****\n",
    "            # Now the starters for Y3 should include persisters from Y2 (dfY3) AND the\n",
    "            # students from the desired cohort_term who have LAs in their third year, AND\n",
    "            # who were not in the Y2 dataframe already.\n",
    "            # Concatenate the persisters from Y2 with those from the desired cohort_term who have LAs in their third year\n",
    "            IDY3LAs = df.loc[(df[\"Cohort Term\"]==cohort_term) & \n",
    "                             ((df[\"Term\"]>=cohort_term+20) & (df[\"Term\"]<cohort_term+30)) &\n",
    "                             (~df[\"ID\"].isin(Y2_set)) & (df[\"LAexperience\"]==1),\"ID\"].unique()\n",
    "            IDadd = set.difference(set(IDY3LAs),Y2_set)\n",
    "            dfY3LAs = df.loc[(df[\"Term\"]>=cohort_term+20) &\n",
    "                             (df[\"Cohort Term\"]==cohort_term) & (df[\"ID\"].isin(IDadd))]\n",
    "\n",
    "            # Here is where we can concatenate the dfY3 DataFrame with the above\n",
    "            dfY3c = pd.concat([dfY3,dfY3LAs],ignore_index=True)\n",
    "            # Need to reset the set of IDs\n",
    "            Y3_set = set(dfY3c[\"ID\"]) \n",
    "            # ***** end changes to account for LA-having (and changing dfYX --> dfYXc) *****\n",
    "\n",
    "            IDY4 = dfY3c.loc[(dfY3c[\"Term\"]>=cohort_term+30) | (dfY3c[\"Degree Term\"]>=cohort_term+30), \"ID\"].unique() \n",
    "            dfY4 = dfY3c.loc[dfY3c[\"ID\"].isin(IDY4)]\n",
    "            mat [2,3] = len(dfY4[\"ID\"].unique())\n",
    "            Y4_set = set(dfY4[\"ID\"]) \n",
    "            departures = set.difference(Y3_set, Y4_set) \n",
    "            Y3_depart = dfY3c.loc[dfY3c[\"ID\"].isin(departures)]\n",
    "            Y3_degree = Y3_depart.loc[(Y3_depart[\"Degree Term\"]>=cohort_term) & (Y3_depart[\"Degree Term\"]<cohort_term+30)]\n",
    "            mat[2,6] = len(departures) - len(Y3_degree[\"ID\"].unique())\n",
    "            mat[2,7] = len(Y3_degree[\"ID\"].unique())\n",
    "\n",
    "            #===========================================================================\n",
    "            # YEAR 4 -> 5 CALCULATION AND TRANSITIONS\n",
    "            #===========================================================================\n",
    "\n",
    "            if len(df.loc[(df[\"Term\"]>=cohort_term+40) & (df[\"Term\"]<cohort_term+50)])>0:\n",
    "                # only continue if we have data. otherwise, leave as 0s\n",
    "\n",
    "                # ***** begin changes to account for LA-having (and changing dfYX --> dfYXc) *****\n",
    "                # Now the starters for Y4 should include persisters from Y3 (dfY4) AND the\n",
    "                # students from the desired cohort_term who have LAs in their fourth year, AND\n",
    "                # who were not in the Y3 dataframe already.\n",
    "                # Concatenate the persisters from Y3 with those from the desired cohort_term who have LAs in their fourth year\n",
    "                IDY4LAs = df.loc[(df[\"Cohort Term\"]==cohort_term) & \n",
    "                                 ((df[\"Term\"]>=cohort_term+30) & (df[\"Term\"]<cohort_term+40)) &\n",
    "                                 (~df[\"ID\"].isin(Y3_set)) & (df[\"LAexperience\"]==1),\"ID\"].unique()\n",
    "                IDadd = set.difference(set(IDY4LAs),Y3_set)\n",
    "                dfY4LAs = df.loc[(df[\"Term\"]>=cohort_term+30) &\n",
    "                                 (df[\"Cohort Term\"]==cohort_term) & (df[\"ID\"].isin(IDadd))]\n",
    "\n",
    "                # Here is where we can concatenate the dfY4 DataFrame with the above\n",
    "                dfY4c = pd.concat([dfY4,dfY4LAs],ignore_index=True)\n",
    "                # Need to reset the set of IDs\n",
    "                Y4_set = set(dfY4c[\"ID\"]) \n",
    "                # ***** end changes to account for LA-having (and changing dfYX --> dfYXc) *****\n",
    "\n",
    "                IDY5 = dfY4c.loc[(dfY4c[\"Term\"]>=cohort_term+40) | (dfY4c[\"Degree Term\"]>=cohort_term+40), \"ID\"].unique()\n",
    "                dfY5 = dfY4c.loc[dfY4c[\"ID\"].isin(IDY5)]\n",
    "                mat[3,4] = len(dfY5[\"ID\"].unique())\n",
    "                Y5_set = set(dfY5[\"ID\"]) \n",
    "                departures = set.difference(Y4_set, Y5_set) \n",
    "                Y4_depart = dfY4c.loc[dfY4c[\"ID\"].isin(departures)]\n",
    "                Y4_degree = Y4_depart.loc[(Y4_depart[\"Degree Term\"]>=cohort_term) & (Y4_depart[\"Degree Term\"]<cohort_term+40)]\n",
    "                mat[3,6] = len(departures) - len(Y4_degree[\"ID\"].unique())\n",
    "                mat[3,7] = len(Y4_degree[\"ID\"].unique())\n",
    "\n",
    "                #===========================================================================\n",
    "                # YEAR 5 -> 6 CALCULATION AND TRANSITIONS\n",
    "                #===========================================================================\n",
    "                \n",
    "                if len(df.loc[(df[\"Term\"]>=cohort_term+50) & (df[\"Term\"]<cohort_term+60)])>0:\n",
    "                    # only continue if we have data. otherwise, leave as 0s\n",
    "\n",
    "                    # ***** begin changes to account for LA-having (and changing dfYX --> dfYXc) *****\n",
    "                    # Now the starters for Y5 should include persisters from Y4 (dfY5) AND the\n",
    "                    # students from the desired cohort_term who have LAs in their fifth year, AND\n",
    "                    # who were not in the Y4 dataframe already.\n",
    "                    # Concatenate the persisters from Y4 with those from the desired cohort_term who have LAs in their fifth year\n",
    "                    IDY5LAs = df.loc[(df[\"Cohort Term\"]==cohort_term) & \n",
    "                                     ((df[\"Term\"]>=cohort_term+40) & (df[\"Term\"]<cohort_term+50)) &\n",
    "                                     (~df[\"ID\"].isin(Y4_set)) & (df[\"LAexperience\"]==1),\"ID\"].unique()\n",
    "                    IDadd = set.difference(set(IDY5LAs),Y5_set)\n",
    "                    dfY5LAs = df.loc[(df[\"Term\"]>=cohort_term+40) &\n",
    "                                     (df[\"Cohort Term\"]==cohort_term) & (df[\"ID\"].isin(IDadd))]\n",
    "\n",
    "                    # Here is where we can concatenate the dfY5 DataFrame with the above\n",
    "                    dfY5c = pd.concat([dfY5,dfY5LAs],ignore_index=True)\n",
    "                    # Need to reset the set of IDs\n",
    "                    Y5_set = set(dfY5c[\"ID\"]) \n",
    "                    # ***** end changes to account for LA-having (and changing dfYX --> dfYXc) *****\n",
    "\n",
    "                    IDY6 = dfY5c.loc[(dfY5c[\"Term\"]>=cohort_term+50) | (dfY5c[\"Degree Term\"]>=cohort_term+50), \"ID\"].unique() \n",
    "                    dfY6 = dfY5c.loc[dfY5c[\"ID\"].isin(IDY6)]   \n",
    "                    mat[4,5] = len(dfY6[\"ID\"].unique())\n",
    "                    Y6_set = set(dfY6[\"ID\"]) \n",
    "                    departures = set.difference(Y5_set,Y6_set) \n",
    "                    Y5_depart = dfY5c.loc[dfY5c[\"ID\"].isin(departures)]\n",
    "                    Y5_degree = Y5_depart.loc[(Y5_depart[\"Degree Term\"]>=cohort_term) & (Y5_depart[\"Degree Term\"]<cohort_term+50)]\n",
    "                    mat[4,6] = len(departures) - len(Y5_degree[\"ID\"].unique())\n",
    "                    mat[4,7] = len(Y5_degree[\"ID\"].unique())\n",
    "\n",
    "                    #===========================================================================\n",
    "                    # YEAR 6-> DEPARTURE AND OTHER CALCULATIONS\n",
    "                    #===========================================================================\n",
    "                    #if len(df.loc[(df[\"Term\"]>=cohort_term+60) & (df[\"Term\"]<cohort_term+70)])>0:\n",
    "                    # only continue if we have data. otherwise, leave as 0s\n",
    "                    # Y6 is a little different, because we only care about whether a degree is \n",
    "                    # obtained before (<) cohort_term+60. So, don't need to check farther out.\n",
    "\n",
    "                    # ***** begin changes to account for LA-having (and changing dfYX --> dfYXc) *****\n",
    "                    # Now the starters for Y6 should include persisters from Y5 (dfY6) AND the\n",
    "                    # students from the desired cohort_term who have LAs in their sixth year, AND\n",
    "                    # who were not in the Y5 dataframe already.\n",
    "                    # Concatenate the persisters from Y5 with those from the desired cohort_term who have LAs in their sixth year\n",
    "                    IDY6LAs = df.loc[(df[\"Cohort Term\"]==cohort_term) & \n",
    "                                     ((df[\"Term\"]>=cohort_term+50) & (df[\"Term\"]<cohort_term+60)) &\n",
    "                                     (~df[\"ID\"].isin(Y5_set)) & (df[\"LAexperience\"]==1),\"ID\"].unique()\n",
    "                    IDadd = set.difference(set(IDY6LAs),Y6_set)\n",
    "                    dfY6LAs = df.loc[(df[\"Term\"]>=cohort_term+50) &\n",
    "                                     (df[\"Cohort Term\"]==cohort_term) & (df[\"ID\"].isin(IDadd))]\n",
    "\n",
    "                    # Here is where we can concatenate the dfY5 DataFrame with the above\n",
    "                    dfY6c = pd.concat([dfY6,dfY6LAs],ignore_index=True)\n",
    "                    # Need to reset the set of IDs\n",
    "                    Y6_set = set(dfY6c[\"ID\"]) \n",
    "                    # ***** end changes to account for LA-having (and changing dfYX --> dfYXc) *****\n",
    "\n",
    "                    #Y6_degree = dfY6.loc[(dfY6[\"Degree Term\"]>=cohort_term) & (dfY6[\"Degree Term\"]<cohort_term+60)]\n",
    "                    Y6_degree = dfY6c.loc[(dfY6c[\"Degree Term\"] == cohort_term+50) | (dfY6c[\"Degree Term\"] == cohort_term+54) | (dfY6c[\"Degree Term\"] == cohort_term+57)]\n",
    "                    mat[5,6] = len(dfY6c[\"ID\"].unique()) - len(Y6_degree[\"ID\"].unique())\n",
    "                    mat[5,7] = len(Y6_degree[\"ID\"].unique())\n",
    "\n",
    "    mat[6,6] = 1\n",
    "    mat[7,7] = 1\n",
    "\n",
    "    #===========================================================================\n",
    "    #NOTES: years aren't necessarily consecutive, and this model excludes transfers\n",
    "\n",
    "    return mat\n",
    "\n",
    "#===========================================================================\n",
    "#===========================================================================\n",
    "\n",
    "def compute_matrix_orig(df, cohort_term): \n",
    "\n",
    "    # Set up initial matrix for numbers of students making each transition (from row i to column j)\n",
    "    mat = np.zeros((8,8))\n",
    "\n",
    "    # Check that there's data to at least calculate Y1-->Y2 transitions\n",
    "    if len(df.loc[(df[\"Term\"]>=cohort_term+10) & (df[\"Term\"]<cohort_term+20)])==0:\n",
    "        print(\"WARNING: Insufficient data to calculate any transitions. Ending.\")\n",
    "        return\n",
    "\n",
    "    #===========================================================================\n",
    "    # YEAR 1 CALCULATION \n",
    "    #===========================================================================\n",
    "  \n",
    "    # Find all the IDs of students in the specified cohort that were at RIT for the first year\n",
    "    IDY1 = df.loc[(df[\"Cohort Term\"] == cohort_term) & (df[\"Term\"] == cohort_term), \"ID\"].unique()\n",
    "    # Save a new dataframe, dfY1, that just has those IDs, for all years they show up total\n",
    "    dfY1 = df.loc[df[\"ID\"].isin(IDY1)]\n",
    "\n",
    "    #===========================================================================\n",
    "    # YEAR 1 -> 2 CALCULATION AND TRANSITIONS\n",
    "    #===========================================================================\n",
    "    \n",
    "    #Which of the Y1 IDs appear again in a future year? If they show up in the data for a second year (not necessarily right after the first year), they'll get pulled here into this other new dataframe, dfY2\n",
    "    IDY2 = dfY1.loc[(dfY1[\"Term\"]>=cohort_term +10) | (dfY1[\"Degree Term\"]>=cohort_term +10), \"ID\"].unique()  \n",
    "    dfY2 = dfY1.loc[dfY1[\"ID\"].isin(IDY2)]\n",
    "    mat[0,1] = len(dfY2[\"ID\"].unique()) \n",
    "\n",
    "    #Now we want the difference between those in Y1 and those in Y2. Presumably, if they're in Y1 but don't return for another year in the data, they have either graduated or left the program\n",
    "    Y1_set = set(dfY1[\"ID\"]) \n",
    "    Y2_set = set(dfY2[\"ID\"]) \n",
    "    departures = set.difference(Y1_set, Y2_set) \n",
    "\n",
    "    #Now grab all the data for the IDs that stop appearing after Y1, which we're assuming means they only spent one year at RIT\n",
    "    Y1_depart = dfY1.loc[dfY1[\"ID\"].isin(departures)]\n",
    "\n",
    "    #Out of those, we want to distinguish the IDs with any \"Degree Term\" listed during or after first year, which implies they graduated rather than dropping out\n",
    "    Y1_degree = Y1_depart.loc[(Y1_depart[\"Degree Term\"] >= cohort_term) | (Y1_depart[\"Degree Term\"] < cohort_term)]\n",
    "\n",
    "    # Total number of students who stop appearing after Y1, without any degree listed. \n",
    "    mat[0,6] = (len(departures))-len(Y1_degree[\"ID\"].unique())\n",
    "\n",
    "    # Total number of students who stop appearing after Y1, and have a degree listed, so we categorize them as graduates\n",
    "    mat[0,7] = len(Y1_degree[\"ID\"].unique())\n",
    "\n",
    "\n",
    "    #===========================================================================\n",
    "    # YEAR 2 -> 3 CALCULATION AND TRANSITIONS\n",
    "    #===========================================================================\n",
    "\n",
    "    if len(df.loc[(df[\"Term\"]>=cohort_term+20) & (df[\"Term\"]<cohort_term+30)])>0:\n",
    "        # only continue if we have data. otherwise, leave as 0s\n",
    "\n",
    "        #Which of the Y2 IDs appear again in a future year? If they show up in the data for a third year (not necessarily right after the second year), they'll get pulled here into dfY3\n",
    "        IDY3 = dfY2.loc[(dfY2[\"Term\"]>=cohort_term+20)|(dfY2[\"Degree Term\"]>=cohort_term +20), \"ID\"].unique() \n",
    "        dfY3 = dfY2.loc[dfY2[\"ID\"].isin(IDY3)]\n",
    "        mat [1,2] = len(dfY3[\"ID\"].unique())\n",
    "\n",
    "        #Find the difference between those in Y2 and those in Y3. We're assuming the IDs in Y2 but not Y3 left RIT after their second year\n",
    "        Y3_set = set(dfY3[\"ID\"])\n",
    "        departures = set.difference(Y2_set, Y3_set) \n",
    "\n",
    "        #Now grab all the data for the IDs that stop appearing after Y2, which we're assuming means they only spent two years at RIT\n",
    "        Y2_depart = dfY2.loc[dfY2[\"ID\"].isin(departures)]\n",
    "\n",
    "        #Distinguish the IDs with any \"Degree Term\" listed during or after second year, which implies they graduated\n",
    "        Y2_degree = Y2_depart.loc[(Y2_depart[\"Degree Term\"]>=cohort_term) & (Y2_depart[\"Degree Term\"]<cohort_term+20)] \n",
    "\n",
    "        #Total number of students who stop appearing after a second year, without any degree listed \n",
    "        mat[1,6] = len(departures) - len(Y2_degree[\"ID\"].unique())\n",
    "\n",
    "        #Total number of students who stop appearing after a second year, and have a degree listed\n",
    "        mat[1,7] = len(Y2_degree[\"ID\"].unique())\n",
    "\n",
    "    ##### Repeat this process for up to 6 years. This should give us a model esitmating the numbers of students who appear at RIT, leave RIT, and graduate for an indicated cohort\n",
    "\n",
    "        #===========================================================================\n",
    "        # YEAR 3 -> 4 CALCULATION AND TRANSITIONS\n",
    "        #===========================================================================\n",
    "        \n",
    "        if len(df.loc[(df[\"Term\"]>=cohort_term+30) & (df[\"Term\"]<cohort_term+40)])>0:\n",
    "            # only continue if we have data. otherwise, leave as 0s\n",
    "\n",
    "            IDY4 = dfY3.loc[(dfY3[\"Term\"]>=cohort_term+30) | (dfY3[\"Degree Term\"]>=cohort_term+30), \"ID\"].unique() \n",
    "            dfY4 = dfY3.loc[dfY3[\"ID\"].isin(IDY4)]\n",
    "            mat [2,3] = len(dfY4[\"ID\"].unique())\n",
    "            Y4_set = set(dfY4[\"ID\"]) \n",
    "            departures = set.difference(Y3_set, Y4_set) \n",
    "            Y3_depart = dfY3.loc[dfY3[\"ID\"].isin(departures)]\n",
    "            Y3_degree = Y3_depart.loc[(Y3_depart[\"Degree Term\"]>=cohort_term) & (Y3_depart[\"Degree Term\"]<cohort_term+30)]\n",
    "            mat[2,6] = len(departures) - len(Y3_degree[\"ID\"].unique())\n",
    "            mat[2,7] = len(Y3_degree[\"ID\"].unique())\n",
    "\n",
    "            #===========================================================================\n",
    "            # YEAR 4 -> 5 CALCULATION AND TRANSITIONS\n",
    "            #===========================================================================\n",
    "            \n",
    "            if len(df.loc[(df[\"Term\"]>=cohort_term+40) & (df[\"Term\"]<cohort_term+50)])>0:\n",
    "                # only continue if we have data. otherwise, leave as 0s\n",
    "\n",
    "                IDY5 = dfY4.loc[(dfY4[\"Term\"]>=cohort_term+40) | (dfY4[\"Degree Term\"]>=cohort_term+40), \"ID\"].unique()\n",
    "                dfY5 = dfY4.loc[dfY4[\"ID\"].isin(IDY5)]\n",
    "                mat [3,4] = len(dfY5[\"ID\"].unique())\n",
    "                Y5_set = set(dfY5[\"ID\"]) \n",
    "                departures = set.difference(Y4_set, Y5_set) \n",
    "                Y4_depart = dfY4.loc[dfY4[\"ID\"].isin(departures)]\n",
    "                Y4_degree = Y4_depart.loc[(Y4_depart[\"Degree Term\"]>=cohort_term) & (Y4_depart[\"Degree Term\"]<cohort_term+40)]\n",
    "                mat[3,6] = len(departures) - len(Y4_degree[\"ID\"].unique())\n",
    "                mat[3,7] = len(Y4_degree[\"ID\"].unique())\n",
    "\n",
    "                #===========================================================================\n",
    "                # YEAR 5 -> 6 CALCULATION AND TRANSITIONS\n",
    "                #===========================================================================\n",
    "                \n",
    "                if len(df.loc[(df[\"Term\"]>=cohort_term+50) & (df[\"Term\"]<cohort_term+60)])>0:\n",
    "                    # only continue if we have data. otherwise, leave as 0s\n",
    "\n",
    "                    IDY6 = dfY5.loc[(dfY5[\"Term\"]>=cohort_term+50) | (dfY5[\"Degree Term\"]>=cohort_term+50), \"ID\"].unique() \n",
    "                    dfY6 = dfY5.loc[dfY5[\"ID\"].isin(IDY6)]   \n",
    "                    mat [4,5] = len(dfY6[\"ID\"].unique())\n",
    "                    Y6_set = set(dfY6[\"ID\"]) \n",
    "                    departures = set.difference(Y5_set,Y6_set) \n",
    "                    Y5_depart = dfY5.loc[dfY5[\"ID\"].isin(departures)]\n",
    "                    Y5_degree = Y5_depart.loc[(Y5_depart[\"Degree Term\"]>=cohort_term) & (Y5_depart[\"Degree Term\"]<cohort_term+50)]\n",
    "                    mat[4,6] = len(departures) - len(Y5_degree[\"ID\"].unique())\n",
    "                    mat[4,7] = len(Y5_degree[\"ID\"].unique())\n",
    "\n",
    "                    #===========================================================================\n",
    "                    # YEAR 6-> DEPARTURE AND OTHER CALCULATIONS\n",
    "                    #===========================================================================\n",
    "                    #Y6_degree = dfY6.loc[(dfY6[\"Degree Term\"]>=cohort_term) & (dfY6[\"Degree Term\"]<cohort_term+60)]\n",
    "                    Y6_degree = dfY6.loc[(dfY6[\"Degree Term\"] == cohort_term+50) | (dfY6[\"Degree Term\"] == cohort_term+54)|(dfY6[\"Degree Term\"] == cohort_term+57)]\n",
    "                    mat[5,6] = len(dfY6[\"ID\"].unique()) - len(Y6_degree[\"ID\"].unique())\n",
    "                    mat[5,7] = len(Y6_degree[\"ID\"].unique())\n",
    "\n",
    "    mat[6,6] = 1\n",
    "    mat[7,7] = 1\n",
    "\n",
    "    #===========================================================================\n",
    "    #NOTES: years aren't necessarily consecutive, and this model excludes transfers\n",
    "\n",
    "    return mat\n",
    "\n",
    "#===========================================================================\n",
    "#===========================================================================\n",
    "\n",
    "def normalize(mat):\n",
    "    # Credit Mason Tedeschi \n",
    "    nmat = mat.copy()\n",
    "    for row in range(mat.shape[0]):\n",
    "        sum_row = np.sum(mat[row,:])\n",
    "        nmat[row,:] = mat[row,:]/sum_row\n",
    "    return nmat # np.around([nmat], decimals=4)\n",
    "    # I changed this return as well"
   ]
  },
  {
   "cell_type": "code",
   "execution_count": 7,
   "metadata": {},
   "outputs": [],
   "source": [
    "# ====================================================================================================\n",
    "# Find the students who took a list of classes\n",
    "# ====================================================================================================\n",
    "\n",
    "\n",
    "def get_IDs(lst, df):\n",
    "    IDs = []\n",
    "    for the_class in lst:\n",
    "        class_IDs = list(df.loc[(df.subject==the_class[0]) & (df.catalog_nbr==the_class[1]) & (df[\"class_section\"]==the_class[2]) & (df[\"Term\"]==the_class[3]), \"ID\"])\n",
    "        if IDs == []:\n",
    "            IDs.extend(class_IDs)\n",
    "        else:\n",
    "            IDs.extend(x for x in class_IDs if x not in IDs)\n",
    "    return IDs"
   ]
  },
  {
   "cell_type": "markdown",
   "metadata": {},
   "source": [
    "Construct a list of tuples of LA course information\n",
    "* subject\n",
    "* catalog number\n",
    "* section\n",
    "* term"
   ]
  },
  {
   "cell_type": "code",
   "execution_count": 8,
   "metadata": {},
   "outputs": [],
   "source": [
    "LAclass_tups = list(LAdf.loc[:,['subject','catalog_nbr','class_section','Term']].drop_duplicates(subset=None, keep='first').to_records(index=False))\n"
   ]
  },
  {
   "cell_type": "markdown",
   "metadata": {},
   "source": [
    "Student IDs who have been in a class with an LA but returning a dict.\n",
    "\n",
    "*edit: **not** doing this:* Using `str()` for the catalog number because some of the numbers have letters in them.\n",
    "\n",
    "**Warning: This takes a few minutes**\n",
    "\n",
    "Will find a few classes that either were combined with other sections or are first-year writing seminars."
   ]
  },
  {
   "cell_type": "code",
   "execution_count": 9,
   "metadata": {},
   "outputs": [
    {
     "name": "stdout",
     "output_type": "stream",
     "text": [
      "WARNING: class not found: ('MATH', '211', '03', 2145)\n",
      "WARNING: class not found: ('FYW', '150', '43', 2155)\n",
      "WARNING: class not found: ('FYW', '150', '58', 2155)\n",
      "WARNING: class not found: ('PHYS', '211', '04', 2171)\n",
      "took  3.961138133207957 minutes\n"
     ]
    }
   ],
   "source": [
    "LA_students_dict = {}\n",
    "\n",
    "start = time()\n",
    "for the_class in LAclass_tups:\n",
    "    class_IDs = list(df.loc[(df.subject==the_class[0]) & (df.catalog_nbr==the_class[1]) & \n",
    "                            (df[\"class_section\"]==the_class[2]) & (df[\"Term\"]==the_class[3]), ['ID','Term']].to_records(index=False))\n",
    "    if len(class_IDs)==0:\n",
    "        print(\"WARNING: class not found:\",the_class)\n",
    "    for x in class_IDs:\n",
    "        if x[0] not in LA_students_dict.keys():\n",
    "            LA_students_dict[x[0]] = x[1] # add them to the dict if they aren't already there\n",
    "        else:\n",
    "            LA_students_dict[x[0]] = np.min([x[1],LA_students_dict[x[0]]]) # if they're there already, make sure the term is the earliest they had an LA\n",
    "stop = time()\n",
    "print(\"took \",(stop-start)/60,\"minutes\")"
   ]
  },
  {
   "cell_type": "markdown",
   "metadata": {},
   "source": [
    "## Breaking out the LA-having students, and the LA-assisted courses\n",
    "\n",
    "Now each student who has had LAs is in `LA_students_dict` exactly once, and is associated with the term in which they **first** had an LA."
   ]
  },
  {
   "cell_type": "markdown",
   "metadata": {},
   "source": [
    "### Create a tag for courses that are LA-assisted so we can subset down to only those later\n",
    "\n",
    "and\n",
    "\n",
    "### Create a tag for students who have ever taken a course that has had LA-assisted sections\n",
    "\n",
    "(includes students that have never had LAs)\n",
    "\n",
    "Note that we just care about the `subject` and the `catalog_nbr` matching. Those are the first two elements in the tuples from `LAclass_tups`."
   ]
  },
  {
   "cell_type": "code",
   "execution_count": 10,
   "metadata": {},
   "outputs": [],
   "source": [
    "LA_classes = [(LAclass_tups[k][0], LAclass_tups[k][1]) for k in range(len(LAclass_tups))]\n",
    "LA_classes = list(set(LA_classes))\n",
    "\n",
    "df[\"LAassisted\"] = 0         # tag for LA-assisted courses\n",
    "df[\"LAclass_students\"] = 0   # tag for students who ever took an LA-assisted course (including those who didn't have an LA)\n",
    "for the_class in LA_classes:\n",
    "    df.loc[(df.subject==the_class[0]) & (df.catalog_nbr==the_class[1]), \"LAassisted\"] = 1\n",
    "    IDs_this_class = df.loc[(df.subject==the_class[0]) & (df.catalog_nbr==the_class[1]), \"ID\"].unique()\n",
    "    df.loc[df.ID.isin(IDs_this_class), \"LAclass_students\"] = 1\n",
    "    "
   ]
  },
  {
   "cell_type": "markdown",
   "metadata": {},
   "source": [
    "### Create a tag for students who have or have previously had an LA\n",
    "\n",
    "Add a `LAexperience` tag column that is a 1 if the student has had an LA that term or previously\n",
    "\n",
    "`dfLAinfo` is the subset of the overall dataframe `df` that has *all* of the rows from students who *ever* have an LA\n",
    "\n",
    "_Update: not bothering with creating another sub-dataframe. instead, just use `df.loc` to grab the LA-having students if you want them_\n",
    "\n",
    "Then, we set column `LAexperience = 1` for the semesters in which, and after, the students have an LA\n",
    "\n",
    "**Warning: This takes a few minutes**"
   ]
  },
  {
   "cell_type": "code",
   "execution_count": 11,
   "metadata": {
    "scrolled": false
   },
   "outputs": [
    {
     "name": "stdout",
     "output_type": "stream",
     "text": [
      "took  13.639663298924765 minutes\n"
     ]
    }
   ],
   "source": [
    "dfLAinfo = df.loc[(df[\"ID\"].isin(LA_students_dict.keys()))].copy() # dfLAinfo contains everyone who ever had an LA\n",
    "df[\"LAexperience\"] = 0\n",
    "start = time()\n",
    "for sid in LA_students_dict.keys():\n",
    "    df.loc[(df[\"ID\"]==sid) & (df[\"Term\"]>=LA_students_dict[sid]), \"LAexperience\"] = 1\n",
    "stop = time()\n",
    "print(\"took \",(stop-start)/60,\"minutes\")"
   ]
  },
  {
   "cell_type": "markdown",
   "metadata": {},
   "source": [
    "#### Number of LA-affected students"
   ]
  },
  {
   "cell_type": "code",
   "execution_count": 12,
   "metadata": {},
   "outputs": [
    {
     "data": {
      "text/plain": [
       "11258"
      ]
     },
     "execution_count": 12,
     "metadata": {},
     "output_type": "execute_result"
    }
   ],
   "source": [
    "len(df.loc[df.LAexperience==1,\"ID\"].unique())"
   ]
  },
  {
   "cell_type": "markdown",
   "metadata": {},
   "source": [
    "#### Number of LA-affected departments/schools"
   ]
  },
  {
   "cell_type": "code",
   "execution_count": 13,
   "metadata": {},
   "outputs": [
    {
     "data": {
      "text/plain": [
       "20"
      ]
     },
     "execution_count": 13,
     "metadata": {},
     "output_type": "execute_result"
    }
   ],
   "source": [
    "subjects = [tup[0] for tup in LAclass_tups]\n",
    "len(np.unique(subjects))"
   ]
  },
  {
   "cell_type": "markdown",
   "metadata": {},
   "source": [
    "#### Number of LA-affected classes (subj+course number combinations)"
   ]
  },
  {
   "cell_type": "code",
   "execution_count": 14,
   "metadata": {},
   "outputs": [
    {
     "data": {
      "text/plain": [
       "91"
      ]
     },
     "execution_count": 14,
     "metadata": {},
     "output_type": "execute_result"
    }
   ],
   "source": [
    "classes = [tup[0]+tup[1] for tup in LAclass_tups]\n",
    "len(np.unique(classes))"
   ]
  },
  {
   "cell_type": "markdown",
   "metadata": {},
   "source": [
    "### ID lists for students who have or previously had a COS major, or PHYS or MATH\n",
    "\n",
    "Subset using `df.loc[(df.ID.isin(IDs_xxx))]`"
   ]
  },
  {
   "cell_type": "code",
   "execution_count": 15,
   "metadata": {},
   "outputs": [],
   "source": [
    "# ever had a COS major (will include students with COS transfer credit?)\n",
    "IDs_cos = df.loc[(df.College==\"COS\"), \"ID\"].unique()\n",
    "# ever had a PHYS major\n",
    "IDs_phys = df.loc[(df[\"Acad Plan\"]==\"PHYS-BS\"), \"ID\"].unique()\n",
    "# ever had an SMS major\n",
    "sms_majors = [\"APPMTH-BS\", \"CMTH-BS\", \"APPSTAT-BS\"]\n",
    "IDs_sms = df.loc[(df[\"Acad Plan\"].isin(sms_majors)), \"ID\"].unique()"
   ]
  },
  {
   "cell_type": "markdown",
   "metadata": {},
   "source": [
    "Data frame with only students who have had an LA that term or previously"
   ]
  },
  {
   "cell_type": "code",
   "execution_count": 16,
   "metadata": {},
   "outputs": [],
   "source": [
    "dfLAs = df.loc[df[\"LAexperience\"]==1].copy()"
   ]
  },
  {
   "cell_type": "markdown",
   "metadata": {},
   "source": [
    "This is a copy of what's done later on:"
   ]
  },
  {
   "cell_type": "code",
   "execution_count": 17,
   "metadata": {},
   "outputs": [],
   "source": [
    "# students who ever took a course that has LA-assisted sections\n",
    "dfLAcoursestudents = df.loc[df.LAclass_students==1]\n",
    "# ... out of those students, who had an LA experience at this point or earlier?\n",
    "dfLAcoursestudents_LA = dfLAcoursestudents.loc[dfLAcoursestudents.LAexperience==1]\n",
    "# ... out of those students, who never had an LA experience ever?\n",
    "dfLAcoursestudents_noLA = dfLAcoursestudents.loc[(~dfLAcoursestudents.ID.isin(LA_students_dict.keys()))]"
   ]
  },
  {
   "cell_type": "markdown",
   "metadata": {},
   "source": [
    "_NB: `dfLAs` is deprecated. Use `dfLAcoursestudents_LA` and `dfLAcoursestudents_noLA` instead._\n",
    "\n",
    "Check:"
   ]
  },
  {
   "cell_type": "code",
   "execution_count": 18,
   "metadata": {},
   "outputs": [
    {
     "data": {
      "text/plain": [
       "329301"
      ]
     },
     "execution_count": 18,
     "metadata": {},
     "output_type": "execute_result"
    }
   ],
   "source": [
    "len(dfLAs)"
   ]
  },
  {
   "cell_type": "code",
   "execution_count": 19,
   "metadata": {},
   "outputs": [
    {
     "data": {
      "text/plain": [
       "329301"
      ]
     },
     "execution_count": 19,
     "metadata": {},
     "output_type": "execute_result"
    }
   ],
   "source": [
    "len(dfLAcoursestudents_LA)"
   ]
  },
  {
   "cell_type": "markdown",
   "metadata": {},
   "source": [
    "And get all the cohort-terms associated with LA-having students"
   ]
  },
  {
   "cell_type": "code",
   "execution_count": 20,
   "metadata": {
    "scrolled": true
   },
   "outputs": [
    {
     "name": "stdout",
     "output_type": "stream",
     "text": [
      "[2131, 2141, 2151, 2161, 2171, 2181, 2191, 2201]\n"
     ]
    }
   ],
   "source": [
    "cohort_terms_LAs = []\n",
    "for x in list(dfLAcoursestudents[\"Cohort Term\"].unique()):\n",
    "    if math.isnan(x) == False and x >= 2131:\n",
    "        cohort_terms_LAs.append(int(x))\n",
    "cohort_terms_LAs.sort()\n",
    "print(cohort_terms_LAs)"
   ]
  },
  {
   "cell_type": "markdown",
   "metadata": {},
   "source": [
    "# Computing the actual results numbers\n",
    "\n",
    "At this point, all of this is only using full-data cohorts (2131, 2141, and 2151)."
   ]
  },
  {
   "cell_type": "code",
   "execution_count": 21,
   "metadata": {},
   "outputs": [],
   "source": [
    "cohort_terms_full = [2131, 2141, 2151]"
   ]
  },
  {
   "cell_type": "markdown",
   "metadata": {},
   "source": [
    "Which cohort terms have partial data? Note that the 2201 cohort won't have any Year 2 data, so can't estimate any transitions for them."
   ]
  },
  {
   "cell_type": "code",
   "execution_count": 22,
   "metadata": {},
   "outputs": [],
   "source": [
    "cohort_terms_part = [2161, 2171, 2181, 2191]"
   ]
  },
  {
   "cell_type": "markdown",
   "metadata": {},
   "source": [
    "Make Python print in normal numbers, not scientific notation"
   ]
  },
  {
   "cell_type": "code",
   "execution_count": 23,
   "metadata": {},
   "outputs": [],
   "source": [
    "np.set_printoptions(suppress=True)"
   ]
  },
  {
   "cell_type": "markdown",
   "metadata": {},
   "source": [
    "<br>\n",
    "\n",
    "## Handy function for printing more compact versions of these matrices"
   ]
  },
  {
   "cell_type": "code",
   "execution_count": 24,
   "metadata": {},
   "outputs": [],
   "source": [
    "def printmat(mat):\n",
    "    ''' Function to print a more compact, human-readable version of the numbers or transition matrices\n",
    "    We want to see: \n",
    "    Y1->Y2  Y1->Depart  Y1->Grad\n",
    "    Y2->Y3  Y2->Depart  Y2->Grad\n",
    "    Y3->Y4  Y3->Depart  Y3->Grad\n",
    "    Y4->Y5  Y4->Depart  Y4->Grad\n",
    "    Y5->Y6  Y5->Depart  Y5->Grad\n",
    "            Y6->Depart  Y6->Grad\n",
    "    '''\n",
    "    if mat[0,1] > 1:\n",
    "        # numbers version\n",
    "        print(\"N   YN->N+1  YN->DropOut  YN->Grad\")\n",
    "        print(\"----------------------------------\")\n",
    "        for i in range(1,6):\n",
    "            print(i,f\"{int(mat[i-1,i]):>8} {int(mat[i-1,6]):>9} {int(mat[i-1,7]):>11}\")\n",
    "        print(6,\"        \",f\"{int(mat[5,6]):>9} {int(mat[5,7]):>11}\")\n",
    "    else:\n",
    "        # transition probabilities version\n",
    "        mat = np.round(mat,3)\n",
    "        print(\"N   YN->N+1  YN->DropOut  YN->Grad\")\n",
    "        print(\"----------------------------------\")\n",
    "        for i in range(1,6):\n",
    "            print(i,f\"{mat[i-1,i]:>8} {mat[i-1,6]:>10} {mat[i-1,7]:>11}\")\n",
    "        print(6,\"        \",f\"{mat[5,6]:>10} {mat[5,7]:>11}\")\n",
    "    return"
   ]
  },
  {
   "cell_type": "markdown",
   "metadata": {},
   "source": [
    "<br>\n",
    "\n",
    "---\n",
    "\n",
    "## All students, overall\n",
    "\n",
    "Raw result `mats_xxx` are storing the numbers of students making these transitions."
   ]
  },
  {
   "cell_type": "code",
   "execution_count": 25,
   "metadata": {},
   "outputs": [],
   "source": [
    "mats_allstudents = {c : None for c in cohort_terms_full}\n",
    "for c in cohort_terms_full+cohort_terms_part:\n",
    "    mats_allstudents[c] = compute_matrix_orig(df,c)"
   ]
  },
  {
   "cell_type": "markdown",
   "metadata": {},
   "source": [
    "Some example matrices showing the numbers of students moving from Year to Year, or to Depart (No Degree) (column 7), or to Depart (With Degree) (column 8).\n",
    "\n",
    "These are to get a feel for what the raw results look like, including both full-data cohort terms (2131, 2141, 2151) and those with partial data (2161, 2171, 2181, 2191).\n",
    "\n",
    "As a reminder:\n",
    "* the (1,2) element is the number of students transitioning from Year 1 to Year 2\n",
    "* the (2,3) element is the number of students transitioning from Year 2 to Year 3\n",
    "* etc...\n",
    "* the (i,7) element is the number of students transitioning from Year $i$ to Departure (No Degree) (Drop Out)\n",
    "* the (i,8) element is the number of students transitioning from Year $i$ to Departure (With Degree) (Graduate)\n",
    "* the (7,7) and (8,8) elements are always just 1s because those are our absorbing states for Departures\n",
    "\n",
    "Some examples:"
   ]
  },
  {
   "cell_type": "code",
   "execution_count": 26,
   "metadata": {
    "scrolled": true
   },
   "outputs": [
    {
     "name": "stdout",
     "output_type": "stream",
     "text": [
      "N   YN->N+1  YN->DropOut  YN->Grad\n",
      "----------------------------------\n",
      "1     2682       396           0\n",
      "2     2454       227           1\n",
      "3     2314        92          48\n",
      "4     1492        64         758\n",
      "5      422        43        1027\n",
      "6                175         247\n"
     ]
    }
   ],
   "source": [
    "printmat(mats_allstudents[2131])"
   ]
  },
  {
   "cell_type": "code",
   "execution_count": 27,
   "metadata": {},
   "outputs": [
    {
     "name": "stdout",
     "output_type": "stream",
     "text": [
      "N   YN->N+1  YN->DropOut  YN->Grad\n",
      "----------------------------------\n",
      "1     2743       382           0\n",
      "2     2503       238           2\n",
      "3        0         0           0\n",
      "4        0         0           0\n",
      "5        0         0           0\n",
      "6                  0           0\n"
     ]
    }
   ],
   "source": [
    "printmat(mats_allstudents[2181])"
   ]
  },
  {
   "cell_type": "markdown",
   "metadata": {},
   "source": [
    "### Computing the transition probabilities\n",
    "\n",
    "Can't do this for the partial data cohorts because of divide by 0 issues in the rows where there is no data to compute transitions. That's fine because we only want to use those when added to previous full-data cohort matrices anyway."
   ]
  },
  {
   "cell_type": "code",
   "execution_count": 28,
   "metadata": {},
   "outputs": [],
   "source": [
    "pmats_allstudents = {c : normalize(mats_allstudents[c]) for c in cohort_terms_full}"
   ]
  },
  {
   "cell_type": "markdown",
   "metadata": {},
   "source": [
    "**Only using the Fall 2013 cohort**\n",
    "\n",
    "1-year transition probabilities:"
   ]
  },
  {
   "cell_type": "code",
   "execution_count": 29,
   "metadata": {},
   "outputs": [
    {
     "name": "stdout",
     "output_type": "stream",
     "text": [
      "N   YN->N+1  YN->DropOut  YN->Grad\n",
      "----------------------------------\n",
      "1    0.871      0.129         0.0\n",
      "2    0.915      0.085         0.0\n",
      "3    0.943      0.037        0.02\n",
      "4    0.645      0.028       0.328\n",
      "5    0.283      0.029       0.688\n",
      "6               0.415       0.585\n"
     ]
    }
   ],
   "source": [
    "printmat(pmats_allstudents[2131])"
   ]
  },
  {
   "cell_type": "markdown",
   "metadata": {},
   "source": [
    "So year 1 retention, eg, is 87%. Close to what's published online:\n",
    "* eg, 86.3% for the fall 2013 cohort is given here: https://www.rit.edu/academicaffairs/outcomes/sites/rit.edu.academicaffairs.outcomes/files/images/MyAnalytics%20Snapshot%20Retention.pdf "
   ]
  },
  {
   "cell_type": "markdown",
   "metadata": {},
   "source": [
    "4-year transition probabilities:"
   ]
  },
  {
   "cell_type": "code",
   "execution_count": 30,
   "metadata": {},
   "outputs": [
    {
     "name": "stdout",
     "output_type": "stream",
     "text": [
      "[[0.     0.     0.     0.     0.4847 0.     0.2531 0.2622]\n",
      " [0.     0.     0.     0.     0.     0.1573 0.1588 0.6838]\n",
      " [0.     0.     0.     0.     0.     0.     0.1524 0.8476]\n",
      " [0.     0.     0.     0.     0.     0.     0.1219 0.8781]\n",
      " [0.     0.     0.     0.     0.     0.     0.1461 0.8539]\n",
      " [0.     0.     0.     0.     0.     0.     0.4147 0.5853]\n",
      " [0.     0.     0.     0.     0.     0.     1.     0.    ]\n",
      " [0.     0.     0.     0.     0.     0.     0.     1.    ]]\n"
     ]
    }
   ],
   "source": [
    "print(np.round(np.linalg.matrix_power(pmats_allstudents[2131],4),4))"
   ]
  },
  {
   "cell_type": "markdown",
   "metadata": {},
   "source": [
    "So, Row 1 tells us:\n",
    "* About 48% of students had not yet graduated after 4 years and persisted\n",
    "* About 25% of the original cohort have departed without a degree\n",
    "* About 26% of the original cohort has departed with a degree\n",
    "* Matches what I can find online fairly well\n",
    "  * e.g., https://www.scholarships.com/colleges/rochester-institute-of-technology/graduation-rates/"
   ]
  },
  {
   "cell_type": "markdown",
   "metadata": {},
   "source": [
    "6-year transition probabilities:"
   ]
  },
  {
   "cell_type": "code",
   "execution_count": 31,
   "metadata": {},
   "outputs": [
    {
     "name": "stdout",
     "output_type": "stream",
     "text": [
      "[[0.     0.     0.     0.     0.     0.     0.3239 0.6761]\n",
      " [0.     0.     0.     0.     0.     0.     0.2241 0.7759]\n",
      " [0.     0.     0.     0.     0.     0.     0.1524 0.8476]\n",
      " [0.     0.     0.     0.     0.     0.     0.1219 0.8781]\n",
      " [0.     0.     0.     0.     0.     0.     0.1461 0.8539]\n",
      " [0.     0.     0.     0.     0.     0.     0.4147 0.5853]\n",
      " [0.     0.     0.     0.     0.     0.     1.     0.    ]\n",
      " [0.     0.     0.     0.     0.     0.     0.     1.    ]]\n"
     ]
    }
   ],
   "source": [
    "print(np.round(np.linalg.matrix_power(pmats_allstudents[2131],6),4))"
   ]
  },
  {
   "cell_type": "markdown",
   "metadata": {},
   "source": [
    "So, Row 1 tells us:\n",
    "* 6-year graduation rate of about 68%\n",
    "  * RIT's published number is 69% (source: https://www.rit.edu/fa/irda/sites/rit.edu.fa.irda/files/pdf/consumerinfo/2020%20Consumer%20Info%20Grad%20Rate%2020200410.pdf)\n",
    "  * Discrepancy could come from transfer students, not subsetting to only students in 4-year degree programs (or only undergraduate degree programs), other factors I'm not thinking of at the moment..."
   ]
  },
  {
   "cell_type": "markdown",
   "metadata": {},
   "source": [
    "### Adding the matrices for all 3 full-data cohorts together and computing the transition probabilities, and compare to the same but including the 4 partial-data cohorts\n",
    "\n",
    "* `full` denotes using only the 3 full-data cohorts\n",
    "* `all` denotes using  both the 3 full-data cohorts _and_ the 4 partial-data cohorts"
   ]
  },
  {
   "cell_type": "code",
   "execution_count": 32,
   "metadata": {},
   "outputs": [],
   "source": [
    "mats_allstudents[\"full\"] = np.sum([mats_allstudents[c] for c in cohort_terms_full], axis=0)\n",
    "pmats_allstudents[\"full\"] = normalize(mats_allstudents[\"full\"])\n",
    "\n",
    "mats_allstudents[\"all\"] = np.sum([mats_allstudents[c] for c in cohort_terms_full+cohort_terms_part], axis=0)\n",
    "pmats_allstudents[\"all\"] = normalize(mats_allstudents[\"all\"])"
   ]
  },
  {
   "cell_type": "markdown",
   "metadata": {},
   "source": [
    "**1-year transition probabilities**, using only full-data cohorts:\n",
    "\n",
    "First the numbers matrix to show how many students are being added by using the partial-data cohorts. We're about doubling the data for the first two year-to-year transitions, which is awesome for improved estimates of Y1 retention."
   ]
  },
  {
   "cell_type": "code",
   "execution_count": 33,
   "metadata": {},
   "outputs": [
    {
     "name": "stdout",
     "output_type": "stream",
     "text": [
      "N   YN->N+1  YN->DropOut  YN->Grad\n",
      "----------------------------------\n",
      "1     8278      1080           1\n",
      "2     7619       655           4\n",
      "3     7213       284         122\n",
      "4     4513       162        2538\n",
      "5     1096       136        3281\n",
      "6                419         677\n"
     ]
    }
   ],
   "source": [
    "printmat(mats_allstudents[\"full\"])"
   ]
  },
  {
   "cell_type": "code",
   "execution_count": 34,
   "metadata": {},
   "outputs": [
    {
     "name": "stdout",
     "output_type": "stream",
     "text": [
      "N   YN->N+1  YN->DropOut  YN->Grad\n",
      "----------------------------------\n",
      "1    0.884      0.115         0.0\n",
      "2     0.92      0.079         0.0\n",
      "3    0.947      0.037       0.016\n",
      "4    0.626      0.022       0.352\n",
      "5    0.243       0.03       0.727\n",
      "6               0.382       0.618\n"
     ]
    }
   ],
   "source": [
    "printmat(pmats_allstudents[\"full\"])"
   ]
  },
  {
   "cell_type": "markdown",
   "metadata": {},
   "source": [
    "**1-year transition probabilities**, using all cohorts:\n",
    "\n",
    "Numbers matrix first, then the overall transition probabilities"
   ]
  },
  {
   "cell_type": "code",
   "execution_count": 35,
   "metadata": {},
   "outputs": [
    {
     "name": "stdout",
     "output_type": "stream",
     "text": [
      "N   YN->N+1  YN->DropOut  YN->Grad\n",
      "----------------------------------\n",
      "1    19088      2442           1\n",
      "2    15144      1315          10\n",
      "3    11937       508         196\n",
      "4     5826       256        3501\n",
      "5     1096       136        3281\n",
      "6                419         677\n"
     ]
    }
   ],
   "source": [
    "printmat(mats_allstudents[\"all\"])"
   ]
  },
  {
   "cell_type": "code",
   "execution_count": 36,
   "metadata": {
    "scrolled": true
   },
   "outputs": [
    {
     "name": "stdout",
     "output_type": "stream",
     "text": [
      "N   YN->N+1  YN->DropOut  YN->Grad\n",
      "----------------------------------\n",
      "1    0.887      0.113         0.0\n",
      "2     0.92       0.08       0.001\n",
      "3    0.944       0.04       0.016\n",
      "4    0.608      0.027       0.365\n",
      "5    0.243       0.03       0.727\n",
      "6               0.382       0.618\n"
     ]
    }
   ],
   "source": [
    "printmat(pmats_allstudents[\"all\"])"
   ]
  },
  {
   "cell_type": "markdown",
   "metadata": {},
   "source": [
    "89% year 1 retention rate is very close to the online numbers: https://www.rit.edu/academicaffairs/outcomes/sites/rit.edu.academicaffairs.outcomes/files/images/MyAnalytics%20Snapshot%20Retention.pdf"
   ]
  },
  {
   "cell_type": "markdown",
   "metadata": {},
   "source": [
    "**4-year transition probabilities:**  Only printing the first row, since that's the only one we care about.\n",
    "* 5th column is P(Y1->Y5) (continuing into a 5th year)\n",
    "* 7th column is P(Y1->DropOut)\n",
    "* 8th column is P(Y1->Graduate) (4Y grad rate)"
   ]
  },
  {
   "cell_type": "code",
   "execution_count": 37,
   "metadata": {},
   "outputs": [
    {
     "name": "stdout",
     "output_type": "stream",
     "text": [
      "Full data cohorts only:\n",
      " [0.    0.    0.    0.    0.482 0.    0.233 0.285]\n"
     ]
    }
   ],
   "source": [
    "print(\"Full data cohorts only:\\n\",np.round(np.linalg.matrix_power(pmats_allstudents[\"full\"],4),3)[0,:])"
   ]
  },
  {
   "cell_type": "code",
   "execution_count": 38,
   "metadata": {},
   "outputs": [
    {
     "name": "stdout",
     "output_type": "stream",
     "text": [
      "All cohorts:\n",
      " [0.    0.    0.    0.    0.468 0.    0.238 0.294]\n"
     ]
    }
   ],
   "source": [
    "print(\"All cohorts:\\n\",np.round(np.linalg.matrix_power(pmats_allstudents[\"all\"],4),3)[0,:])"
   ]
  },
  {
   "cell_type": "markdown",
   "metadata": {},
   "source": [
    "Estimates:\n",
    "* Full data only: 28% overall 4-year graduation rate, 23% drop-out rate\n",
    "* All data (adding partial-data cohorts): 29% overall 4-year graduation rate, 24% drop-out rate"
   ]
  },
  {
   "cell_type": "markdown",
   "metadata": {},
   "source": [
    "**6-year transition probabilities:**  Only printing the first row, since that's the only one we care about."
   ]
  },
  {
   "cell_type": "code",
   "execution_count": 39,
   "metadata": {
    "scrolled": true
   },
   "outputs": [
    {
     "name": "stdout",
     "output_type": "stream",
     "text": [
      "Full data cohorts only:\n",
      " [0.    0.    0.    0.    0.    0.    0.292 0.708]\n"
     ]
    }
   ],
   "source": [
    "print(\"Full data cohorts only:\\n\",np.round(np.linalg.matrix_power(pmats_allstudents[\"full\"],6),3)[0,:])"
   ]
  },
  {
   "cell_type": "code",
   "execution_count": 40,
   "metadata": {},
   "outputs": [
    {
     "name": "stdout",
     "output_type": "stream",
     "text": [
      "All cohorts:\n",
      " [0.    0.    0.    0.    0.    0.    0.295 0.705]\n"
     ]
    }
   ],
   "source": [
    "print(\"All cohorts:\\n\",np.round(np.linalg.matrix_power(pmats_allstudents[\"all\"],6),3)[0,:])"
   ]
  },
  {
   "cell_type": "markdown",
   "metadata": {},
   "source": [
    "Estimates a 71% 6-year graduation rate. No change really from additional partial-data cohorts."
   ]
  },
  {
   "cell_type": "markdown",
   "metadata": {},
   "source": [
    "<h2 style=\"color:blue;font-size:24pt\">Now breaking it up by LA-having students and non-LA-having students</h2>\n",
    "\n",
    "* `dfLAcoursestudents_LA` is the dataframe with only entries for students who have had LAs at some point in their time at RIT\n",
    "  * as a reminder, this is adding students to the analysis starting with the AY in which they have an LA. So, if someone from the Fall 2013 cohort has an LA during Spring 2015 (spring of their second year), they are used in the Y2->Y3 transition calculations, and all subsequent transitions\n",
    "* `dfLAcoursestudents_noLA` is the dataframe with only entries for students who never had LAs during their time at RIT, but did take a non-LA version of a course that has/has had LA assistance at some point"
   ]
  },
  {
   "cell_type": "code",
   "execution_count": 41,
   "metadata": {},
   "outputs": [],
   "source": [
    "# students who ever took a course that has LA-assisted sections\n",
    "dfLAcoursestudents = df.loc[df.LAclass_students==1]\n",
    "# ... out of those students, who had an LA experience at this point or earlier?\n",
    "dfLAcoursestudents_LA = dfLAcoursestudents.loc[dfLAcoursestudents.LAexperience==1]\n",
    "# ... out of those students, who never had an LA experience ever?\n",
    "dfLAcoursestudents_noLA = dfLAcoursestudents.loc[(~dfLAcoursestudents.ID.isin(LA_students_dict.keys()))]"
   ]
  },
  {
   "cell_type": "markdown",
   "metadata": {},
   "source": [
    "How many LA-having and non-LA-having students are there, who have ever taken an LA-assisted course?"
   ]
  },
  {
   "cell_type": "code",
   "execution_count": 42,
   "metadata": {},
   "outputs": [
    {
     "data": {
      "text/plain": [
       "(11258, 19361)"
      ]
     },
     "execution_count": 42,
     "metadata": {},
     "output_type": "execute_result"
    }
   ],
   "source": [
    "len(dfLAcoursestudents_LA[\"ID\"].unique()), len(dfLAcoursestudents_noLA[\"ID\"].unique())"
   ]
  },
  {
   "cell_type": "markdown",
   "metadata": {},
   "source": [
    "### How many transfer students among the students in LA-assisted courses?\n",
    "\n",
    "Estimating based on students' first `Term` being greater than their `Cohort Term`"
   ]
  },
  {
   "cell_type": "code",
   "execution_count": 43,
   "metadata": {},
   "outputs": [
    {
     "name": "stdout",
     "output_type": "stream",
     "text": [
      "Cohort Term  N_transfer  N_total\n",
      "--------------------------------\n",
      "       2131        162     2629\n",
      "       2141         74     2492\n",
      "       2151         73     2713\n",
      "       2161         64     2390\n",
      "       2171         51     2460\n",
      "       2181         34     2452\n",
      "       2191         34     2366\n"
     ]
    }
   ],
   "source": [
    "IDs_transfer = set()\n",
    "print(\"Cohort Term  N_transfer  N_total\")\n",
    "print(\"--------------------------------\")\n",
    "for t in cohort_terms_full+cohort_terms_part:\n",
    "    IDs_this_cohort_term = dfLAcoursestudents.loc[(dfLAcoursestudents[\"Cohort Term\"]==t) & \n",
    "                                                  (dfLAcoursestudents[\"Term\"] < t),\"ID\"].unique()\n",
    "    IDs_transfer = set.union(IDs_transfer, IDs_this_cohort_term)\n",
    "    N_cohort = len(dfLAcoursestudents.loc[(dfLAcoursestudents[\"Cohort Term\"]==t),\"ID\"].unique())\n",
    "    print(f\"{int(t):>11}\",f\"{int(len(IDs_this_cohort_term)):>10}  \",f\"{int(N_cohort):>6}\")\n",
    "    "
   ]
  },
  {
   "cell_type": "markdown",
   "metadata": {},
   "source": [
    "### Enumerate how many LA-having students are Y1, Y2, etc. each academic term"
   ]
  },
  {
   "cell_type": "code",
   "execution_count": 44,
   "metadata": {},
   "outputs": [],
   "source": [
    "#                  fall terms             +         spring terms\n",
    "terms = np.sort(list(range(2131,2211,10)) + list(range(2135,2215,10)))\n",
    "prc_LAstudents = np.zeros((6,len(terms))) # columns are terms, rows are different years [y1-y6]\n",
    "num_LAstudents = np.zeros((6,len(terms))) # columns are terms, rows are different years [y1-y6]\n",
    "\n",
    "LAclasses_each_term = {t : None for t in terms}\n",
    "for t in terms:\n",
    "    # which classes had LAs this term?\n",
    "    LAclasses_each_term[t] = [LAclass_tups[k] for k in range(len(LAclass_tups)) if LAclass_tups[k][3]==t]\n",
    "    # figure out who all had LAs this semester\n",
    "    LAstudent_IDs_this_term = set()\n",
    "    for c in LAclasses_each_term[t]:\n",
    "        IDs_LAstudents = dfLAcoursestudents.loc[(dfLAcoursestudents.subject==c[0]) & \n",
    "                                                (dfLAcoursestudents.catalog_nbr==c[1]) &\n",
    "                                                (dfLAcoursestudents.class_section==c[2]) &\n",
    "                                                (dfLAcoursestudents.Term==c[3]), \"ID\"].unique()\n",
    "        LAstudent_IDs_this_term = set.union(LAstudent_IDs_this_term, IDs_LAstudents)\n",
    "    # of those who had LAs, how many are in Y1 (cohort year == this year), Y2, etc.\n",
    "    LAstudent_IDs_this_term = list(LAstudent_IDs_this_term)\n",
    "    num_total = len(LAstudent_IDs_this_term)\n",
    "    dfTerm = dfLAcoursestudents.loc[(dfLAcoursestudents.ID.isin(LAstudent_IDs_this_term)) &\n",
    "                                    (dfLAcoursestudents.Term==t),\n",
    "                                    [\"ID\",\"Cohort Term\",\"Term\",\"Acad Plan\",\"College\"]].drop_duplicates(subset=\"ID\")\n",
    "    dfTerm[\"Term Offset\"] = dfTerm[\"Term\"] - dfTerm[\"Cohort Term\"]\n",
    "    num_Y1 = dfTerm.loc[(dfTerm[\"Term Offset\"] >= 0 ) & (dfTerm[\"Term Offset\"] < 10),\"ID\"].count()\n",
    "    num_Y2 = dfTerm.loc[(dfTerm[\"Term Offset\"] >= 10) & (dfTerm[\"Term Offset\"] < 20),\"ID\"].count()\n",
    "    num_Y3 = dfTerm.loc[(dfTerm[\"Term Offset\"] >= 20) & (dfTerm[\"Term Offset\"] < 30),\"ID\"].count()\n",
    "    num_Y4 = dfTerm.loc[(dfTerm[\"Term Offset\"] >= 30) & (dfTerm[\"Term Offset\"] < 40),\"ID\"].count()\n",
    "    num_Y5 = dfTerm.loc[(dfTerm[\"Term Offset\"] >= 40) & (dfTerm[\"Term Offset\"] < 50),\"ID\"].count()\n",
    "    num_Y6 = dfTerm.loc[(dfTerm[\"Term Offset\"] >= 50) & (dfTerm[\"Term Offset\"] < 60),\"ID\"].count()\n",
    "    num_total_cohortvalid = num_Y1+num_Y2+num_Y3+num_Y4+num_Y5+num_Y6\n",
    "    num_LAstudents[:,terms==t] = np.transpose(np.array([[num_Y1, num_Y2, num_Y3, num_Y4, num_Y5, num_Y6]]))\n",
    "    prc_LAstudents[:,terms==t] = num_LAstudents[:,terms==t]/num_total_cohortvalid"
   ]
  },
  {
   "cell_type": "code",
   "execution_count": 45,
   "metadata": {},
   "outputs": [
    {
     "data": {
      "image/png": "[encoded data removed]",
      "text/plain": [
       "<Figure size 648x648 with 2 Axes>"
      ]
     },
     "metadata": {
      "needs_background": "light"
     },
     "output_type": "display_data"
    }
   ],
   "source": [
    "fig,ax = plt.subplots(nrows=2, ncols=1, figsize=(9,9))\n",
    "ax[0].bar(terms,num_LAstudents[0,:], width=2, label=\"Y1\")\n",
    "ax[0].bar(terms,num_LAstudents[1,:],bottom=np.sum(num_LAstudents[:1,:],0), width=2, label=\"Y2\")\n",
    "ax[0].bar(terms,num_LAstudents[2,:],bottom=np.sum(num_LAstudents[:2,:],0), width=2, label=\"Y3\")\n",
    "ax[0].bar(terms,num_LAstudents[3,:],bottom=np.sum(num_LAstudents[:3,:],0), width=2, label=\"Y4\")\n",
    "ax[0].bar(terms,num_LAstudents[4,:],bottom=np.sum(num_LAstudents[:4,:],0), width=2, label=\"Y5\")\n",
    "ax[0].bar(terms,num_LAstudents[5,:],bottom=np.sum(num_LAstudents[:5,:],0), width=2, label=\"Y6\")\n",
    "ax[0].set_xlim([2128,2217]); ax[0].legend()\n",
    "ax[0].set_xticks([2133,2143,2153,2163,2173,2183,2193,2203])\n",
    "ax[0].set_xticklabels([\"2013-14\",\"2014-15\",\"2015-16\",\"2016-17\",\"2017-18\",\"2018-19\",\"2019-20\",\"2020-21\"])\n",
    "ax[0].set_xlabel(\"Academic Year\");\n",
    "ax[0].set_ylabel(\"Number of distinct LA-having students in each\\nYear (1-6) since their cohort year\");\n",
    "ax[0].text(2130,1350,\"a.\",fontsize=14);\n",
    "\n",
    "ax[1].bar(terms,prc_LAstudents[0,:], width=2, label=\"Y1\")\n",
    "ax[1].bar(terms,prc_LAstudents[1,:],bottom=np.sum(prc_LAstudents[:1,:],0), width=2, label=\"Y2\")\n",
    "ax[1].bar(terms,prc_LAstudents[2,:],bottom=np.sum(prc_LAstudents[:2,:],0), width=2, label=\"Y3\")\n",
    "ax[1].bar(terms,prc_LAstudents[3,:],bottom=np.sum(prc_LAstudents[:3,:],0), width=2, label=\"Y4\")\n",
    "ax[1].bar(terms,prc_LAstudents[4,:],bottom=np.sum(prc_LAstudents[:4,:],0), width=2, label=\"Y5\")\n",
    "ax[1].bar(terms,prc_LAstudents[5,:],bottom=np.sum(prc_LAstudents[:5,:],0), width=2, label=\"Y6\")\n",
    "ax[1].set_xlim([2128,2217]); #ax[1].legend();\n",
    "ax[1].set_xticks([2133,2143,2153,2163,2173,2183,2193,2203])\n",
    "ax[1].set_xticklabels([\"2013-14\",\"2014-15\",\"2015-16\",\"2016-17\",\"2017-18\",\"2018-19\",\"2019-20\",\"2020-21\"]);\n",
    "ax[1].set_xlabel(\"Academic Year\");\n",
    "ax[1].set_ylabel(\"Proportion of LA-having students in each\\nYear (1-6) since their cohort year\");\n",
    "ax[1].text(2130,1.08,\"b.\",fontsize=14);\n",
    "plt.savefig('LAstudentBreakdownByYear.png')\n"
   ]
  },
  {
   "cell_type": "code",
   "execution_count": 46,
   "metadata": {},
   "outputs": [
    {
     "data": {
      "image/png": "[encoded data removed]",
      "text/plain": [
       "<Figure size 648x360 with 1 Axes>"
      ]
     },
     "metadata": {
      "needs_background": "light"
     },
     "output_type": "display_data"
    },
    {
     "data": {
      "image/png": "[encoded data removed]",
      "text/plain": [
       "<Figure size 648x360 with 1 Axes>"
      ]
     },
     "metadata": {
      "needs_background": "light"
     },
     "output_type": "display_data"
    }
   ],
   "source": [
    "fig,ax = plt.subplots(nrows=1, ncols=1, figsize=(9,5))\n",
    "plt.bar(terms,prc_LAstudents[0,:], width=2, label=\"Y1\")\n",
    "plt.bar(terms,prc_LAstudents[1,:],bottom=np.sum(prc_LAstudents[:1,:],0), width=2, label=\"Y2\")\n",
    "plt.bar(terms,prc_LAstudents[2,:],bottom=np.sum(prc_LAstudents[:2,:],0), width=2, label=\"Y3\")\n",
    "plt.bar(terms,prc_LAstudents[3,:],bottom=np.sum(prc_LAstudents[:3,:],0), width=2, label=\"Y4\")\n",
    "plt.bar(terms,prc_LAstudents[4,:],bottom=np.sum(prc_LAstudents[:4,:],0), width=2, label=\"Y5\")\n",
    "plt.bar(terms,prc_LAstudents[5,:],bottom=np.sum(prc_LAstudents[:5,:],0), width=2, label=\"Y6\")\n",
    "plt.xlim([2128,2217]); plt.legend();\n",
    "plt.xticks([2133,2143,2153,2163,2173,2183,2193,2203],\n",
    "           labels=[\"2013-14\",\"2014-15\",\"2015-16\",\"2016-17\",\"2017-18\",\"2018-19\",\"2019-20\",\"2020-21\"]);\n",
    "plt.xlabel(\"Academic Year\");\n",
    "plt.ylabel(\"Proportion of LA-having students in each\\nYear (1-6) since their cohort year\");\n",
    "plt.savefig('LAstudentBreakdownByYear_prc.png')\n",
    "\n",
    "fig,ax = plt.subplots(nrows=1, ncols=1, figsize=(9,5))\n",
    "plt.bar(terms,num_LAstudents[0,:], width=2, label=\"Y1\")\n",
    "plt.bar(terms,num_LAstudents[1,:],bottom=np.sum(num_LAstudents[:1,:],0), width=2, label=\"Y2\")\n",
    "plt.bar(terms,num_LAstudents[2,:],bottom=np.sum(num_LAstudents[:2,:],0), width=2, label=\"Y3\")\n",
    "plt.bar(terms,num_LAstudents[3,:],bottom=np.sum(num_LAstudents[:3,:],0), width=2, label=\"Y4\")\n",
    "plt.bar(terms,num_LAstudents[4,:],bottom=np.sum(num_LAstudents[:4,:],0), width=2, label=\"Y5\")\n",
    "plt.bar(terms,num_LAstudents[5,:],bottom=np.sum(num_LAstudents[:5,:],0), width=2, label=\"Y6\")\n",
    "plt.xlim([2128,2217]); plt.legend();\n",
    "plt.xticks([2133,2143,2153,2163,2173,2183,2193,2203],\n",
    "           labels=[\"2013-14\",\"2014-15\",\"2015-16\",\"2016-17\",\"2017-18\",\"2018-19\",\"2019-20\",\"2020-21\"]);\n",
    "plt.xlabel(\"Academic Year\");\n",
    "plt.ylabel(\"Number of distinct LA-having students in each\\nYear (1-6) since their cohort year\");\n",
    "plt.savefig('LAstudentBreakdownByYear_num.png')\n"
   ]
  },
  {
   "cell_type": "markdown",
   "metadata": {},
   "source": [
    "Compute the numbers matrices:"
   ]
  },
  {
   "cell_type": "code",
   "execution_count": 47,
   "metadata": {},
   "outputs": [],
   "source": [
    "mats_LA = {c : None for c in cohort_terms_full+cohort_terms_part}\n",
    "mats_noLA = {c : None for c in cohort_terms_full+cohort_terms_part}\n",
    "for c in cohort_terms_full+cohort_terms_part:\n",
    "    mats_LA[c] = compute_matrix_tw(dfLAcoursestudents_LA,c)\n",
    "    mats_noLA[c] = compute_matrix_orig(dfLAcoursestudents_noLA,c)"
   ]
  },
  {
   "cell_type": "markdown",
   "metadata": {},
   "source": [
    "Numbers matrices for COS majors"
   ]
  },
  {
   "cell_type": "code",
   "execution_count": 48,
   "metadata": {},
   "outputs": [],
   "source": [
    "mats_LA_cos = {c : None for c in cohort_terms_full+cohort_terms_part}\n",
    "mats_noLA_cos = {c : None for c in cohort_terms_full+cohort_terms_part}\n",
    "for c in cohort_terms_full+cohort_terms_part:\n",
    "    mats_LA_cos[c] = compute_matrix_tw(dfLAcoursestudents_LA.loc[dfLAcoursestudents_LA.ID.isin(IDs_cos)],c)\n",
    "    mats_noLA_cos[c] = compute_matrix_orig(dfLAcoursestudents_noLA.loc[dfLAcoursestudents_noLA.ID.isin(IDs_cos)],c)"
   ]
  },
  {
   "cell_type": "markdown",
   "metadata": {},
   "source": [
    "Normalize them individually, since might want to look at differences from estimating using a single cohort vs all:\n",
    "\n",
    "(full-data cohorts only)\n",
    "\n",
    "Will get a divide-by-zero error for the normalization of the PHYS no-LA matrices for one of the cohort years. Highlights the importance of the ability of this approach to combine information across cohorts!"
   ]
  },
  {
   "cell_type": "code",
   "execution_count": 49,
   "metadata": {},
   "outputs": [],
   "source": [
    "pmats_LA = {c : normalize(mats_LA[c]) for c in cohort_terms_full}\n",
    "pmats_noLA = {c : normalize(mats_noLA[c]) for c in cohort_terms_full}\n",
    "\n",
    "pmats_LA_cos = {c : normalize(mats_LA_cos[c]) for c in cohort_terms_full}\n",
    "pmats_noLA_cos = {c : normalize(mats_noLA_cos[c]) for c in cohort_terms_full}"
   ]
  },
  {
   "cell_type": "markdown",
   "metadata": {},
   "source": [
    "But the focus is probably on the entire combined matrix, so combine them, and normalize:"
   ]
  },
  {
   "cell_type": "code",
   "execution_count": 50,
   "metadata": {},
   "outputs": [],
   "source": [
    "mats_LA[\"all\"] = np.sum([mats_LA[c] for c in cohort_terms_full+cohort_terms_part], axis=0)\n",
    "pmats_LA[\"all\"] = normalize(mats_LA[\"all\"])\n",
    "mats_LA[\"full\"] = np.sum([mats_LA[c] for c in cohort_terms_full], axis=0)\n",
    "pmats_LA[\"full\"] = normalize(mats_LA[\"full\"])\n",
    "\n",
    "mats_noLA[\"all\"] = np.sum([mats_noLA[c] for c in cohort_terms_full+cohort_terms_part], axis=0)\n",
    "pmats_noLA[\"all\"] = normalize(mats_noLA[\"all\"])\n",
    "mats_noLA[\"full\"] = np.sum([mats_noLA[c] for c in cohort_terms_full], axis=0)\n",
    "pmats_noLA[\"full\"] = normalize(mats_noLA[\"full\"])\n",
    "\n",
    "# for COS majors\n",
    "mats_LA_cos[\"all\"] = np.sum([mats_LA_cos[c] for c in cohort_terms_full+cohort_terms_part], axis=0)\n",
    "pmats_LA_cos[\"all\"] = normalize(mats_LA_cos[\"all\"])\n",
    "mats_LA_cos[\"full\"] = np.sum([mats_LA_cos[c] for c in cohort_terms_full], axis=0)\n",
    "pmats_LA_cos[\"full\"] = normalize(mats_LA_cos[\"full\"])\n",
    "\n",
    "mats_noLA_cos[\"all\"] = np.sum([mats_noLA_cos[c] for c in cohort_terms_full+cohort_terms_part], axis=0)\n",
    "pmats_noLA_cos[\"all\"] = normalize(mats_noLA_cos[\"all\"])\n",
    "mats_noLA_cos[\"full\"] = np.sum([mats_noLA_cos[c] for c in cohort_terms_full], axis=0)\n",
    "pmats_noLA_cos[\"full\"] = normalize(mats_noLA_cos[\"full\"])"
   ]
  },
  {
   "cell_type": "markdown",
   "metadata": {},
   "source": [
    "### Compare Y1 retention:\n",
    "\n",
    "Y1 retention is notably higher among students who have had LAs than those who did not. Full-data only vs using all cohorts (including partial data) don't have much of an effect.\n",
    "\n",
    "The matrices at the top are for all (full+partial) cohorts"
   ]
  },
  {
   "cell_type": "code",
   "execution_count": 51,
   "metadata": {},
   "outputs": [
    {
     "name": "stdout",
     "output_type": "stream",
     "text": [
      "=======================================================\n",
      "All students who touched LA-assisted courses:\n",
      "\n",
      "LAs:\n",
      "N   YN->N+1  YN->DropOut  YN->Grad\n",
      "----------------------------------\n",
      "1     3903       359           0\n",
      "2     5212       405           3\n",
      "3     4472       167          50\n",
      "4     2704        98         973\n",
      "5      461        65        1638\n",
      "6                168         311\n",
      "\n",
      "No LAs:\n",
      "N   YN->N+1  YN->DropOut  YN->Grad\n",
      "----------------------------------\n",
      "1     8605      1190           1\n",
      "2     6684       671           6\n",
      "3     5348       254          97\n",
      "4     2789       122        1428\n",
      "5      569        59        1528\n",
      "6                221         348\n",
      "\n",
      "\n",
      "=======================================================\n",
      "All students who touched LA-assisted courses, and ever had a COS major:\n",
      "\n",
      "LAs:\n",
      "N   YN->N+1  YN->DropOut  YN->Grad\n",
      "----------------------------------\n",
      "1      895       116           0\n",
      "2      918        87           2\n",
      "3      750        44          25\n",
      "4      229        27         362\n",
      "5       58         5         129\n",
      "6                 21          37\n",
      "\n",
      "No LAs:\n",
      "N   YN->N+1  YN->DropOut  YN->Grad\n",
      "----------------------------------\n",
      "1      242        54           1\n",
      "2      192        20           0\n",
      "3      160        10           4\n",
      "4       67         5          68\n",
      "5       16         0          44\n",
      "6                 10           6\n"
     ]
    }
   ],
   "source": [
    "print(\"=======================================================\")\n",
    "print(\"All students who touched LA-assisted courses:\\n\")\n",
    "print(\"LAs:\")\n",
    "printmat(mats_LA[\"all\"])\n",
    "print(\"\\nNo LAs:\")\n",
    "printmat(mats_noLA[\"all\"])\n",
    "\n",
    "print(\"\\n\\n=======================================================\")\n",
    "print(\"All students who touched LA-assisted courses, and ever had a COS major:\\n\")\n",
    "print(\"LAs:\")\n",
    "printmat(mats_LA_cos[\"all\"])\n",
    "print(\"\\nNo LAs:\")\n",
    "printmat(mats_noLA_cos[\"all\"])"
   ]
  },
  {
   "cell_type": "code",
   "execution_count": 52,
   "metadata": {
    "scrolled": false
   },
   "outputs": [
    {
     "name": "stdout",
     "output_type": "stream",
     "text": [
      "=======================================================\n",
      "All students who touched LA-assisted courses:\n",
      "\n",
      "W/ LAs:\n",
      "N   YN->N+1  YN->DropOut  YN->Grad\n",
      "----------------------------------\n",
      "1    0.916      0.084         0.0\n",
      "2    0.927      0.072       0.001\n",
      "3    0.954      0.036       0.011\n",
      "4    0.716      0.026       0.258\n",
      "5    0.213       0.03       0.757\n",
      "6               0.351       0.649\n",
      "\n",
      "No LAs:\n",
      "N   YN->N+1  YN->DropOut  YN->Grad\n",
      "----------------------------------\n",
      "1    0.878      0.121         0.0\n",
      "2    0.908      0.091       0.001\n",
      "3    0.938      0.045       0.017\n",
      "4    0.643      0.028       0.329\n",
      "5    0.264      0.027       0.709\n",
      "6               0.388       0.612\n",
      "\n",
      "Using Full-data cohorts only\n",
      "  Y1 retention among LA-having students 0.927\n",
      "  Y1 retention among students w/ no LAs 0.869\n",
      "Using Full and Partial-data cohorts\n",
      "  Y1 retention among LA-having students 0.916\n",
      "  Y1 retention among students w/ no LAs 0.878\n",
      "\n",
      "\n",
      "=======================================================\n",
      "All students who touched LA-assisted courses, and ever had a COS major:\n",
      "\n",
      "W/ LAs:\n",
      "N   YN->N+1  YN->DropOut  YN->Grad\n",
      "----------------------------------\n",
      "1    0.885      0.115         0.0\n",
      "2    0.912      0.086       0.002\n",
      "3    0.916      0.054       0.031\n",
      "4    0.371      0.044       0.586\n",
      "5    0.302      0.026       0.672\n",
      "6               0.362       0.638\n",
      "\n",
      "No LAs:\n",
      "N   YN->N+1  YN->DropOut  YN->Grad\n",
      "----------------------------------\n",
      "1    0.815      0.182       0.003\n",
      "2    0.906      0.094         0.0\n",
      "3     0.92      0.057       0.023\n",
      "4    0.479      0.036       0.486\n",
      "5    0.267        0.0       0.733\n",
      "6               0.625       0.375\n",
      "\n",
      "Using Full-data cohorts only\n",
      "  Y1 retention among LA-having students 0.894\n",
      "  Y1 retention among students w/ no LAs 0.793\n",
      "Using Full and Partial-data cohorts\n",
      "  Y1 retention among LA-having students 0.885\n",
      "  Y1 retention among students w/ no LAs 0.815\n"
     ]
    }
   ],
   "source": [
    "print(\"=======================================================\")\n",
    "print(\"All students who touched LA-assisted courses:\\n\")\n",
    "print(\"W/ LAs:\")\n",
    "printmat(pmats_LA[\"all\"])\n",
    "print(\"\\nNo LAs:\")\n",
    "printmat(pmats_noLA[\"all\"])\n",
    "print()\n",
    "print(\"Using Full-data cohorts only\")\n",
    "print(\"  Y1 retention among LA-having students {:0.3f}\".format(pmats_LA[\"full\"][0,1]))\n",
    "print(\"  Y1 retention among students w/ no LAs {:0.3f}\".format(pmats_noLA[\"full\"][0,1]))\n",
    "print(\"Using Full and Partial-data cohorts\")\n",
    "print(\"  Y1 retention among LA-having students {:0.3f}\".format(pmats_LA[\"all\"][0,1]))\n",
    "print(\"  Y1 retention among students w/ no LAs {:0.3f}\".format(pmats_noLA[\"all\"][0,1]))\n",
    "\n",
    "print(\"\\n\\n=======================================================\")\n",
    "print(\"All students who touched LA-assisted courses, and ever had a COS major:\\n\")\n",
    "print(\"W/ LAs:\")\n",
    "printmat(pmats_LA_cos[\"all\"])\n",
    "print(\"\\nNo LAs:\")\n",
    "printmat(pmats_noLA_cos[\"all\"])\n",
    "print()\n",
    "print(\"Using Full-data cohorts only\")\n",
    "print(\"  Y1 retention among LA-having students {:0.3f}\".format(pmats_LA_cos[\"full\"][0,1]))\n",
    "print(\"  Y1 retention among students w/ no LAs {:0.3f}\".format(pmats_noLA_cos[\"full\"][0,1]))\n",
    "print(\"Using Full and Partial-data cohorts\")\n",
    "print(\"  Y1 retention among LA-having students {:0.3f}\".format(pmats_LA_cos[\"all\"][0,1]))\n",
    "print(\"  Y1 retention among students w/ no LAs {:0.3f}\".format(pmats_noLA_cos[\"all\"][0,1]))"
   ]
  },
  {
   "cell_type": "markdown",
   "metadata": {},
   "source": [
    "### Compare 4Y graduation rate:"
   ]
  },
  {
   "cell_type": "code",
   "execution_count": 53,
   "metadata": {},
   "outputs": [
    {
     "name": "stdout",
     "output_type": "stream",
     "text": [
      "=======================================================\n",
      "All students who touched LA-assisted courses:\n",
      "\n",
      "Using only Full-data Cohorts:\n",
      "LAs:\n",
      " [0.    0.    0.    0.    0.613 0.    0.17  0.216]\n",
      "No LAs:\n",
      " [0.    0.    0.    0.    0.48  0.    0.27  0.251]\n",
      "4Y graduate rate among LA-having students 0.216\n",
      "4Y graduate rate among students w/ no LAs 0.251\n",
      "\n",
      "Using Full and Partial-data Cohorts:\n",
      "LAs:\n",
      " [0.    0.    0.    0.    0.58  0.    0.202 0.218]\n",
      "No LAs:\n",
      " [0.    0.    0.    0.    0.481 0.    0.258 0.261]\n",
      "4Y graduate rate among LA-having students 0.218\n",
      "4Y graduate rate among students w/ no LAs 0.261\n",
      "\n",
      "\n",
      "=======================================================\n",
      "All students who touched LA-assisted courses, and ever had a COS major:\n",
      "\n",
      "Using only Full-data Cohorts:\n",
      "LAs:\n",
      " [0.    0.    0.    0.    0.302 0.    0.249 0.449]\n",
      "No LAs:\n",
      " [0.    0.    0.    0.    0.335 0.    0.335 0.33 ]\n",
      "4Y graduate rate among LA-having students 0.449\n",
      "4Y graduate rate among students w/ no LAs 0.330\n",
      "\n",
      "Using Full and Partial-data Cohorts:\n",
      "LAs:\n",
      " [0.    0.    0.    0.    0.274 0.    0.267 0.459]\n",
      "No LAs:\n",
      " [0.    0.    0.    0.    0.325 0.    0.325 0.35 ]\n",
      "4Y graduate rate among LA-having students 0.459\n",
      "4Y graduate rate among students w/ no LAs 0.350\n"
     ]
    }
   ],
   "source": [
    "n = 4\n",
    "\n",
    "print(\"=======================================================\")\n",
    "print(\"All students who touched LA-assisted courses:\\n\")\n",
    "print(\"Using only Full-data Cohorts:\")\n",
    "newmats_LA, newmats_noLA = np.linalg.matrix_power(pmats_LA[\"full\"],n), np.linalg.matrix_power(pmats_noLA[\"full\"],n)\n",
    "print(\"LAs:\\n\",np.round(newmats_LA,3)[0,:])\n",
    "print(\"No LAs:\\n\",np.round(newmats_noLA,3)[0,:])\n",
    "print(\"{}Y graduate rate among LA-having students {:0.3f}\".format(n,newmats_LA[0,7]))\n",
    "print(\"{}Y graduate rate among students w/ no LAs {:0.3f}\".format(n,newmats_noLA[0,7]))\n",
    "\n",
    "print(\"\\nUsing Full and Partial-data Cohorts:\")\n",
    "newmats_LA, newmats_noLA = np.linalg.matrix_power(pmats_LA[\"all\"],n), np.linalg.matrix_power(pmats_noLA[\"all\"],n)\n",
    "print(\"LAs:\\n\",np.round(newmats_LA,3)[0,:])\n",
    "print(\"No LAs:\\n\",np.round(newmats_noLA,3)[0,:])\n",
    "print(\"{}Y graduate rate among LA-having students {:0.3f}\".format(n,newmats_LA[0,7]))\n",
    "print(\"{}Y graduate rate among students w/ no LAs {:0.3f}\".format(n,newmats_noLA[0,7]))\n",
    "\n",
    "print(\"\\n\\n=======================================================\")\n",
    "print(\"All students who touched LA-assisted courses, and ever had a COS major:\\n\")\n",
    "print(\"Using only Full-data Cohorts:\")\n",
    "newmats_LA, newmats_noLA = np.linalg.matrix_power(pmats_LA_cos[\"full\"],n), np.linalg.matrix_power(pmats_noLA_cos[\"full\"],n)\n",
    "print(\"LAs:\\n\",np.round(newmats_LA,3)[0,:])\n",
    "print(\"No LAs:\\n\",np.round(newmats_noLA,3)[0,:])\n",
    "print(\"{}Y graduate rate among LA-having students {:0.3f}\".format(n,newmats_LA[0,7]))\n",
    "print(\"{}Y graduate rate among students w/ no LAs {:0.3f}\".format(n,newmats_noLA[0,7]))\n",
    "\n",
    "print(\"\\nUsing Full and Partial-data Cohorts:\")\n",
    "newmats_LA, newmats_noLA = np.linalg.matrix_power(pmats_LA_cos[\"all\"],n), np.linalg.matrix_power(pmats_noLA_cos[\"all\"],n)\n",
    "print(\"LAs:\\n\",np.round(newmats_LA,3)[0,:])\n",
    "print(\"No LAs:\\n\",np.round(newmats_noLA,3)[0,:])\n",
    "print(\"{}Y graduate rate among LA-having students {:0.3f}\".format(n,newmats_LA[0,7]))\n",
    "print(\"{}Y graduate rate among students w/ no LAs {:0.3f}\".format(n,newmats_noLA[0,7]))\n"
   ]
  },
  {
   "cell_type": "markdown",
   "metadata": {},
   "source": [
    "### Compare 6Y graduation rate:"
   ]
  },
  {
   "cell_type": "code",
   "execution_count": 54,
   "metadata": {},
   "outputs": [
    {
     "name": "stdout",
     "output_type": "stream",
     "text": [
      "=======================================================\n",
      "All students who touched LA-assisted courses:\n",
      "\n",
      "Using only Full-data Cohorts:\n",
      "LAs:\n",
      " [0.    0.    0.    0.    0.    0.    0.235 0.765]\n",
      "No LAs:\n",
      " [0.    0.    0.    0.    0.    0.    0.332 0.668]\n",
      "6Y graduate rate among LA-having students 0.765\n",
      "6Y graduate rate among students w/ no LAs 0.668\n",
      "\n",
      "Using Full and Partial-data Cohorts:\n",
      "LAs:\n",
      " [0.    0.    0.    0.    0.    0.    0.262 0.738]\n",
      "No LAs:\n",
      " [0.    0.    0.    0.    0.    0.    0.321 0.679]\n",
      "6Y graduate rate among LA-having students 0.738\n",
      "6Y graduate rate among students w/ no LAs 0.679\n",
      "\n",
      "\n",
      "=======================================================\n",
      "All students who touched LA-assisted courses, and ever had a COS major:\n",
      "\n",
      "Using only Full-data Cohorts:\n",
      "LAs:\n",
      " [0.   0.   0.   0.   0.   0.   0.29 0.71]\n",
      "No LAs:\n",
      " [0.    0.    0.    0.    0.    0.    0.391 0.609]\n",
      "6Y graduate rate among LA-having students 0.710\n",
      "6Y graduate rate among students w/ no LAs 0.609\n",
      "\n",
      "Using Full and Partial-data Cohorts:\n",
      "LAs:\n",
      " [0.    0.    0.    0.    0.    0.    0.304 0.696]\n",
      "No LAs:\n",
      " [0.    0.    0.    0.    0.    0.    0.379 0.621]\n",
      "6Y graduate rate among LA-having students 0.696\n",
      "6Y graduate rate among students w/ no LAs 0.621\n"
     ]
    }
   ],
   "source": [
    "n = 6\n",
    "\n",
    "print(\"=======================================================\")\n",
    "print(\"All students who touched LA-assisted courses:\\n\")\n",
    "print(\"Using only Full-data Cohorts:\")\n",
    "newmats_LA, newmats_noLA = np.linalg.matrix_power(pmats_LA[\"full\"],n), np.linalg.matrix_power(pmats_noLA[\"full\"],n)\n",
    "print(\"LAs:\\n\",np.round(newmats_LA,3)[0,:])\n",
    "print(\"No LAs:\\n\",np.round(newmats_noLA,3)[0,:])\n",
    "print(\"{}Y graduate rate among LA-having students {:0.3f}\".format(n,newmats_LA[0,7]))\n",
    "print(\"{}Y graduate rate among students w/ no LAs {:0.3f}\".format(n,newmats_noLA[0,7]))\n",
    "\n",
    "print(\"\\nUsing Full and Partial-data Cohorts:\")\n",
    "newmats_LA, newmats_noLA = np.linalg.matrix_power(pmats_LA[\"all\"],n), np.linalg.matrix_power(pmats_noLA[\"all\"],n)\n",
    "print(\"LAs:\\n\",np.round(newmats_LA,3)[0,:])\n",
    "print(\"No LAs:\\n\",np.round(newmats_noLA,3)[0,:])\n",
    "print(\"{}Y graduate rate among LA-having students {:0.3f}\".format(n,newmats_LA[0,7]))\n",
    "print(\"{}Y graduate rate among students w/ no LAs {:0.3f}\".format(n,newmats_noLA[0,7]))\n",
    "\n",
    "print(\"\\n\\n=======================================================\")\n",
    "print(\"All students who touched LA-assisted courses, and ever had a COS major:\\n\")\n",
    "print(\"Using only Full-data Cohorts:\")\n",
    "newmats_LA, newmats_noLA = np.linalg.matrix_power(pmats_LA_cos[\"full\"],n), np.linalg.matrix_power(pmats_noLA_cos[\"full\"],n)\n",
    "print(\"LAs:\\n\",np.round(newmats_LA,3)[0,:])\n",
    "print(\"No LAs:\\n\",np.round(newmats_noLA,3)[0,:])\n",
    "print(\"{}Y graduate rate among LA-having students {:0.3f}\".format(n,newmats_LA[0,7]))\n",
    "print(\"{}Y graduate rate among students w/ no LAs {:0.3f}\".format(n,newmats_noLA[0,7]))\n",
    "\n",
    "print(\"\\nUsing Full and Partial-data Cohorts:\")\n",
    "newmats_LA, newmats_noLA = np.linalg.matrix_power(pmats_LA_cos[\"all\"],n), np.linalg.matrix_power(pmats_noLA_cos[\"all\"],n)\n",
    "print(\"LAs:\\n\",np.round(newmats_LA,3)[0,:])\n",
    "print(\"No LAs:\\n\",np.round(newmats_noLA,3)[0,:])\n",
    "print(\"{}Y graduate rate among LA-having students {:0.3f}\".format(n,newmats_LA[0,7]))\n",
    "print(\"{}Y graduate rate among students w/ no LAs {:0.3f}\".format(n,newmats_noLA[0,7]))\n"
   ]
  },
  {
   "cell_type": "markdown",
   "metadata": {},
   "source": [
    "<br>\n",
    "\n",
    "---\n",
    "\n",
    "<h1 style=\"font-size:24pt;color:purple\">Restricting to specific high-DFW COS courses</h1>"
   ]
  },
  {
   "cell_type": "code",
   "execution_count": 55,
   "metadata": {},
   "outputs": [],
   "source": [
    "cohort_terms = cohort_terms_full+cohort_terms_part\n",
    "\n",
    "def matrices_for_course_list(courses, LAclass_tups, df, cohort_terms):\n",
    "    # input: courses (list of (SUBJ, CRS#) tuples), LAclass_tups, df, list of terms to use\n",
    "\n",
    "    IDs_these_courses, IDs_LAs_these_courses = set(), set()\n",
    "    LA_tups_these_courses = []\n",
    "    for c in courses:\n",
    "        IDs_these_courses = set.union(IDs_these_courses,\n",
    "                                      df.loc[(df.subject==c[0]) & (df.catalog_nbr==c[1]),\"ID\"].unique())\n",
    "        this_class = [LAclass_tups[k][0]==c[0] and LAclass_tups[k][1]==c[1] for k in range(len(LAclass_tups))]\n",
    "        if np.sum(this_class) > 0:\n",
    "            LA_tups_this_class = [LAclass_tups[k] for k in [i for i, x in enumerate(this_class) if x]]\n",
    "            LA_tups_these_courses = LA_tups_these_courses + list(LA_tups_this_class)\n",
    "            for cs in LA_tups_this_class:\n",
    "                IDs_LAs_these_courses = set.union(IDs_LAs_these_courses,\n",
    "                                                  df.loc[(df.subject==cs[0]) & (df.catalog_nbr==cs[1]) & \n",
    "                                                         (df.class_section==cs[2]) & (df.Term==cs[3]),\"ID\"].unique())\n",
    "    # restrict to only the list of courses\n",
    "    dfC_all = df.loc[(df.ID.isin(IDs_these_courses))]\n",
    "    dfC_LA = df.loc[(df.ID.isin(IDs_LAs_these_courses))]\n",
    "    dfC_noLA = df.loc[(~df.ID.isin(IDs_LAs_these_courses))]\n",
    "\n",
    "    # numbers matrices for these courses\n",
    "    mats_LA_these_courses = {c : None for c in cohort_terms}\n",
    "    mats_noLA_these_courses = {c : None for c in cohort_terms}\n",
    "    for c in cohort_terms:\n",
    "        mats_LA_these_courses[c] = compute_matrix_tw(dfC_LA,c)\n",
    "        mats_noLA_these_courses[c] = compute_matrix_orig(dfC_noLA,c)\n",
    "\n",
    "    # sum across cohort terms and normalize    \n",
    "    mats_LA_these_courses[\"all\"] = np.sum([mats_LA_these_courses[c] for c in cohort_terms], axis=0)\n",
    "    pmats_LA_these_courses = normalize(mats_LA_these_courses[\"all\"])\n",
    "    mats_noLA_these_courses[\"all\"] = np.sum([mats_noLA_these_courses[c] for c in cohort_terms], axis=0)\n",
    "    pmats_noLA_these_courses = normalize(mats_noLA_these_courses[\"all\"])\n",
    "\n",
    "    return (pmats_LA_these_courses, pmats_noLA_these_courses, mats_LA_these_courses, mats_noLA_these_courses)"
   ]
  },
  {
   "cell_type": "markdown",
   "metadata": {},
   "source": [
    "<br>\n",
    "\n",
    "### High-DFW COS courses\n",
    "\n",
    "Including:\n",
    "* PHYS: 111, 112, 211A, 211, 212\n",
    "* MATH: 111, 171, 182A, 211\n",
    "  * Note that there are no instances of MATH 172, 181(A), or 182 using LAs.\n",
    "  * There is a single instance of MATH 182A using an LA.\n",
    "  * Results without MATH 211 is below this. However, there's an overall DFW rate of 25% in that course, between Fall 2013 and Fall 2019 (see further below)\n",
    "  \n",
    "Y1 retention:\n",
    "* Among students who have LAs in this set of courses: 97%\n",
    "* Non-LA students in this same set of courses: 87%"
   ]
  },
  {
   "cell_type": "code",
   "execution_count": 56,
   "metadata": {},
   "outputs": [
    {
     "name": "stdout",
     "output_type": "stream",
     "text": [
      "N   YN->N+1  YN->DropOut  YN->Grad\n",
      "----------------------------------\n",
      "1    0.974      0.026         0.0\n",
      "2    0.945      0.055         0.0\n",
      "3    0.967       0.03       0.003\n",
      "4    0.817      0.021       0.162\n",
      "5    0.225      0.037       0.738\n",
      "6               0.329       0.671\n",
      "N   YN->N+1  YN->DropOut  YN->Grad\n",
      "----------------------------------\n",
      "1    0.866      0.134         0.0\n",
      "2    0.912      0.087       0.001\n",
      "3    0.938      0.043       0.019\n",
      "4    0.544      0.029       0.427\n",
      "5    0.251      0.027       0.722\n",
      "6               0.403       0.597\n",
      "LAs:\n",
      " [0.    0.    0.    0.    0.727 0.    0.126 0.147]\n",
      "No LAs:\n",
      " [0.    0.    0.    0.    0.403 0.    0.264 0.332]\n",
      "4Y graduate rate among LA-having high-DFW COS course students 0.147\n",
      "4Y graduate rate among high-DFW COS course students w/ no LAs 0.332\n",
      "LAs:\n",
      " [0.    0.    0.    0.    0.    0.    0.206 0.794]\n",
      "No LAs:\n",
      " [0.    0.    0.    0.    0.    0.    0.316 0.684]\n",
      "6Y graduate rate among LA-having high-DFW COS course students 0.794\n",
      "6Y graduate rate among high-DFW COS course students w/ no LAs 0.684\n",
      "\n",
      " 3967 students starting in Y1 with LA in a high-DFW COS course\n"
     ]
    }
   ],
   "source": [
    "courses = [(\"PHYS\",\"111\"),(\"PHYS\",\"112\"),(\"PHYS\",\"211\"),(\"PHYS\",\"211A\"),(\"PHYS\",\"212\"),\n",
    "           (\"MATH\",\"111\"), (\"MATH\",\"171\"),(\"MATH\",\"182A\"),(\"MATH\",\"211\")]\n",
    "pmat_LA_dfw, pmat_noLA_dfw, mats_LA_dfw, mats_noLA_dfw = matrices_for_course_list(courses,\n",
    "                                                                                  LAclass_tups, df, cohort_terms)\n",
    "# Y1 retention\n",
    "printmat(pmat_LA_dfw)\n",
    "printmat(pmat_noLA_dfw)\n",
    "# 4-year grad rate\n",
    "n=4\n",
    "newmats_LA, newmats_noLA = np.linalg.matrix_power(pmat_LA_dfw,n), np.linalg.matrix_power(pmat_noLA_dfw,n)\n",
    "print(\"LAs:\\n\",np.round(newmats_LA,3)[0,:])\n",
    "print(\"No LAs:\\n\",np.round(newmats_noLA,3)[0,:])\n",
    "print(\"{}Y graduate rate among LA-having high-DFW COS course students {:0.3f}\".format(n,newmats_LA[0,7]))\n",
    "print(\"{}Y graduate rate among high-DFW COS course students w/ no LAs {:0.3f}\".format(n,newmats_noLA[0,7]))\n",
    "# 6-year grad rate\n",
    "n=6\n",
    "newmats_LA, newmats_noLA = np.linalg.matrix_power(pmat_LA_dfw,n), np.linalg.matrix_power(pmat_noLA_dfw,n)\n",
    "print(\"LAs:\\n\",np.round(newmats_LA,3)[0,:])\n",
    "print(\"No LAs:\\n\",np.round(newmats_noLA,3)[0,:])\n",
    "print(\"{}Y graduate rate among LA-having high-DFW COS course students {:0.3f}\".format(n,newmats_LA[0,7]))\n",
    "print(\"{}Y graduate rate among high-DFW COS course students w/ no LAs {:0.3f}\".format(n,newmats_noLA[0,7]))\n",
    "\n",
    "print(\"\\n\", int(mats_LA_dfw[\"all\"][0,1]), \"students starting in Y1 with LA in a high-DFW COS course\")"
   ]
  },
  {
   "cell_type": "markdown",
   "metadata": {},
   "source": [
    "<br>\n",
    "\n",
    "### Confidence intervals for difference in proportions\n",
    "\n",
    "$$\\hat{p}_1 - \\hat{p}_2 \\pm z_{\\alpha/2} \\sqrt{\\dfrac{\\hat{p}_1(1-\\hat{p}_1)}{n_1} + \\dfrac{\\hat{p}_2(1-\\hat{p}_2)}{n_2}}$$\n",
    "\n",
    "For a transition probability in row $i$, the sample sizes $n_1$ and $n_2$ should be the total number of students from row $i$."
   ]
  },
  {
   "cell_type": "code",
   "execution_count": 57,
   "metadata": {},
   "outputs": [],
   "source": [
    "z_10 = stats.norm.ppf(1-0.1/2)\n",
    "z_05 = stats.norm.ppf(1-0.05/2)\n",
    "z_01 = stats.norm.ppf(1-0.01/2)"
   ]
  },
  {
   "cell_type": "markdown",
   "metadata": {},
   "source": [
    "#### For year-to-year transitions"
   ]
  },
  {
   "cell_type": "code",
   "execution_count": 58,
   "metadata": {},
   "outputs": [],
   "source": [
    "significances = np.zeros(pmat_LA_dfw.shape)\n",
    "for i in range(pmat_LA_dfw.shape[0]):\n",
    "    for j in range(pmat_LA_dfw.shape[1]):\n",
    "        p1, p2 = pmat_LA_dfw[i,j], pmat_noLA_dfw[i,j]\n",
    "        n1, n2 = np.sum(mats_LA_dfw[\"all\"][i,:]), np.sum(mats_noLA_dfw[\"all\"][i,:])\n",
    "        pdiff = p1-p2\n",
    "        pdiff_std = np.sqrt( p1*(1-p1)/n1 + p2*(1-p2)/n2 )\n",
    "        ci_99 = [pdiff + pm*z_01*pdiff_std for pm in [-1,1]]\n",
    "        if np.prod(ci_99) > 0:\n",
    "            significances[i,j] = 0.01\n",
    "        else:\n",
    "            ci_95 = [pdiff + pm*z_05*pdiff_std for pm in [-1,1]]\n",
    "            if np.prod(ci_95) > 0:\n",
    "                significances[i,j] = 0.05\n",
    "            else:\n",
    "                ci_90 = [pdiff + pm*z_10*pdiff_std for pm in [-1,1]]\n",
    "                if np.prod(ci_90) > 0:\n",
    "                    significances[i,j] = 0.1"
   ]
  },
  {
   "cell_type": "code",
   "execution_count": 59,
   "metadata": {},
   "outputs": [
    {
     "data": {
      "text/plain": [
       "array([[0.  , 0.01, 0.  , 0.  , 0.  , 0.  , 0.01, 0.  ],\n",
       "       [0.  , 0.  , 0.01, 0.  , 0.  , 0.  , 0.01, 0.01],\n",
       "       [0.  , 0.  , 0.  , 0.01, 0.  , 0.  , 0.01, 0.01],\n",
       "       [0.  , 0.  , 0.  , 0.  , 0.01, 0.  , 0.05, 0.01],\n",
       "       [0.  , 0.  , 0.  , 0.  , 0.  , 0.1 , 0.1 , 0.  ],\n",
       "       [0.  , 0.  , 0.  , 0.  , 0.  , 0.  , 0.05, 0.05],\n",
       "       [0.  , 0.  , 0.  , 0.  , 0.  , 0.  , 0.  , 0.  ],\n",
       "       [0.  , 0.  , 0.  , 0.  , 0.  , 0.  , 0.  , 0.  ]])"
      ]
     },
     "execution_count": 59,
     "metadata": {},
     "output_type": "execute_result"
    }
   ],
   "source": [
    "significances    "
   ]
  },
  {
   "cell_type": "markdown",
   "metadata": {},
   "source": [
    "<br>\n",
    "\n",
    "#### Significance for the 4Y and 6Y graduation rates\n",
    "\n",
    "These are the proportions moving from Y1 to Grad states in 4 or 6 steps. So the denominators for these proportions are the Y1 totals."
   ]
  },
  {
   "cell_type": "code",
   "execution_count": 60,
   "metadata": {},
   "outputs": [
    {
     "name": "stdout",
     "output_type": "stream",
     "text": [
      "4Y grad rate difference significant at 1%\n",
      "6Y grad rate difference significant at 1%\n"
     ]
    }
   ],
   "source": [
    "i,j = 0,7\n",
    "\n",
    "n=4\n",
    "newmats_LA, newmats_noLA = np.linalg.matrix_power(pmat_LA_dfw,n), np.linalg.matrix_power(pmat_noLA_dfw,n)\n",
    "p1, p2 = newmats_LA[i,j], newmats_noLA[i,j]\n",
    "n1, n2 = np.sum(mats_LA_dfw[\"all\"][i,:]), np.sum(mats_noLA_dfw[\"all\"][i,:])\n",
    "pdiff = p1-p2\n",
    "pdiff_std = np.sqrt( p1*(1-p1)/n1 + p2*(1-p2)/n2 )\n",
    "ci_99 = [pdiff + pm*z_01*pdiff_std for pm in [-1,1]]\n",
    "if np.prod(ci_99) > 0:\n",
    "    print(\"4Y grad rate difference significant at 1%\")\n",
    "else:\n",
    "    ci_95 = [pdiff + pm*z_05*pdiff_std for pm in [-1,1]]\n",
    "    if np.prod(ci_95) > 0:\n",
    "        print(\"4Y grad rate difference significant at 5%\")\n",
    "    else:\n",
    "        ci_90 = [pdiff + pm*z_10*pdiff_std for pm in [-1,1]]\n",
    "        if np.prod(ci_90) > 0:\n",
    "            print(\"4Y grad rate difference significant at 10%\")\n",
    "        else:\n",
    "            print(\"4Y grad rate difference NOT significant\")\n",
    "\n",
    "n=6\n",
    "newmats_LA, newmats_noLA = np.linalg.matrix_power(pmat_LA_dfw,n), np.linalg.matrix_power(pmat_noLA_dfw,n)\n",
    "p1, p2 = newmats_LA[i,j], newmats_noLA[i,j]\n",
    "n1, n2 = np.sum(mats_LA_dfw[\"all\"][i,:]), np.sum(mats_noLA_dfw[\"all\"][i,:])\n",
    "pdiff = p1-p2\n",
    "pdiff_std = np.sqrt( p1*(1-p1)/n1 + p2*(1-p2)/n2 )\n",
    "ci_99 = [pdiff + pm*z_01*pdiff_std for pm in [-1,1]]\n",
    "if np.prod(ci_99) > 0:\n",
    "    print(\"6Y grad rate difference significant at 1%\")\n",
    "else:\n",
    "    ci_95 = [pdiff + pm*z_05*pdiff_std for pm in [-1,1]]\n",
    "    if np.prod(ci_95) > 0:\n",
    "        print(\"6Y grad rate difference significant at 5%\")\n",
    "    else:\n",
    "        ci_90 = [pdiff + pm*z_10*pdiff_std for pm in [-1,1]]\n",
    "        if np.prod(ci_90) > 0:\n",
    "            print(\"6Y grad rate difference significant at 10%\")\n",
    "        else:\n",
    "            print(\"6Y grad rate difference NOT significant\")"
   ]
  },
  {
   "cell_type": "markdown",
   "metadata": {},
   "source": [
    "<br>\n",
    "\n",
    "#### Calculate numbers of students in each of the courses, and numbers of sections"
   ]
  },
  {
   "cell_type": "code",
   "execution_count": 61,
   "metadata": {},
   "outputs": [],
   "source": [
    "student_counts_LA, section_counts_LA = np.zeros((len(courses),len(terms))), np.zeros((len(courses),len(terms)))\n",
    "student_counts_noLA, section_counts_noLA = np.zeros((len(courses),len(terms))), np.zeros((len(courses),len(terms)))\n",
    "total_no_student = 0\n",
    "for t in terms:\n",
    "    ti = list(terms).index(t)\n",
    "    for c in courses:\n",
    "        ci = courses.index(c)\n",
    "        subj = c[0]\n",
    "        crs = c[1]\n",
    "        dfSubset = df.loc[(df.subject==subj) & (df.catalog_nbr==crs) & (df.Term==t)].copy()\n",
    "        # LA sections of this course this term, excluding recitation, lab, and \"splits\"\n",
    "        LA_tups_this_class = [tup for tup in LAclass_tups if (tup[0]==subj and tup[1]==crs and tup[3]==t and\n",
    "                                                              \"L\" not in tup[2] and \"R\" not in tup[2] and \"S\" not in tup[2])]\n",
    "        # check that they actually have students in them\n",
    "        num_no_students = 0\n",
    "        LA_sections = []\n",
    "        for tup in LA_tups_this_class:\n",
    "            num_students_this_section = len(dfSubset.loc[(dfSubset.class_section==tup[2]),\"ID\"].unique())\n",
    "            student_counts_LA[ci,ti] += num_students_this_section\n",
    "            LA_sections.append(tup[2])\n",
    "            if num_students_this_section==0:\n",
    "                num_no_students += 1\n",
    "                total_no_student += 1\n",
    "        section_counts_LA[ci,ti] = len(LA_tups_this_class) - num_no_students\n",
    "        # non-LA sections of this course, this term, ... \n",
    "        sections_this_term = dfSubset.loc[(dfSubset[\"class_section\"].str.find(\"S\")==-1) &\n",
    "                                          (dfSubset[\"class_section\"].str.find(\"R\")==-1) & \n",
    "                                          (dfSubset[\"class_section\"].str.find(\"L\")==-1),\"class_section\"].unique()\n",
    "        noLA_sections = list(set.difference(set(sections_this_term), set(LA_sections)))\n",
    "        section_counts_noLA[ci,ti] = len(noLA_sections) \n",
    "        # non-LA students this course\n",
    "        for sec in noLA_sections:\n",
    "            student_counts_noLA[ci,ti] += len(dfSubset.loc[(dfSubset[\"class_section\"]==sec),\"ID\"].unique())\n",
    "        "
   ]
  },
  {
   "cell_type": "code",
   "execution_count": 62,
   "metadata": {},
   "outputs": [],
   "source": [
    "csv_to_write = []\n",
    "for c in courses:\n",
    "    ci = courses.index(c)\n",
    "    row_str_LA = c[0]+c[1]+\" LA\"\n",
    "    row_str_noLA = c[0]+c[1]+\" no-LA\"\n",
    "    for t in terms:\n",
    "        ti = list(terms).index(t)\n",
    "        row_str_LA = row_str_LA + \",\" + str(int(student_counts_LA[ci,ti])) + \" (\" + str(int(section_counts_LA[ci,ti])) + \")\"\n",
    "        row_str_noLA = row_str_noLA + \",\" + str(int(student_counts_noLA[ci,ti])) + \" (\" + str(int(section_counts_noLA[ci,ti])) + \")\"\n",
    "    row_str_LA = row_str_LA + \",\" + str(int(np.sum(student_counts_LA[ci,:]))) + \" (\" + str(int(np.sum(section_counts_LA[ci,:]))) + \")\"\n",
    "    row_str_noLA = row_str_noLA + \",\" + str(int(np.sum(student_counts_noLA[ci,:]))) + \" (\" + str(int(np.sum(section_counts_noLA[ci,:]))) + \")\"\n",
    "    csv_to_write.append(row_str_LA)\n",
    "    csv_to_write.append(row_str_noLA)\n"
   ]
  },
  {
   "cell_type": "code",
   "execution_count": 63,
   "metadata": {},
   "outputs": [],
   "source": [
    "pd.DataFrame(csv_to_write).to_csv(\"counts.csv\")"
   ]
  },
  {
   "cell_type": "code",
   "execution_count": 64,
   "metadata": {},
   "outputs": [
    {
     "data": {
      "text/plain": [
       "(6130.0, 26970.0)"
      ]
     },
     "execution_count": 64,
     "metadata": {},
     "output_type": "execute_result"
    }
   ],
   "source": [
    "np.sum(student_counts_LA), np.sum(student_counts_noLA)"
   ]
  },
  {
   "cell_type": "markdown",
   "metadata": {},
   "source": [
    "<br>\n",
    "\n",
    "### Same, subsetting down to only students who ever had a COS major"
   ]
  },
  {
   "cell_type": "code",
   "execution_count": 65,
   "metadata": {},
   "outputs": [
    {
     "name": "stdout",
     "output_type": "stream",
     "text": [
      "N   YN->N+1  YN->DropOut  YN->Grad\n",
      "----------------------------------\n",
      "1     0.97       0.03         0.0\n",
      "2    0.935      0.065         0.0\n",
      "3    0.946      0.038       0.017\n",
      "4    0.446      0.027       0.527\n",
      "5    0.238      0.032        0.73\n",
      "6               0.533       0.467\n",
      "N   YN->N+1  YN->DropOut  YN->Grad\n",
      "----------------------------------\n",
      "1    0.867      0.132       0.001\n",
      "2     0.91      0.088       0.002\n",
      "3    0.909      0.058       0.032\n",
      "4    0.377      0.047       0.576\n",
      "5    0.312      0.016       0.672\n",
      "6                0.39        0.61\n",
      "LAs:\n",
      " [0.    0.    0.    0.    0.383 0.    0.15  0.467]\n",
      "No LAs:\n",
      " [0.    0.    0.    0.    0.27  0.    0.288 0.442]\n",
      "4Y graduate rate among LA-having high-DFW COS course students (COS-only) 0.467\n",
      "4Y graduate rate among high-DFW COS course students w/ no LAs (COS-only) 0.442\n",
      "LAs:\n",
      " [0.    0.    0.    0.    0.    0.    0.211 0.789]\n",
      "No LAs:\n",
      " [0.    0.    0.    0.    0.    0.    0.325 0.675]\n",
      "6Y graduate rate among LA-having high-DFW COS course students (COS-only) 0.789\n",
      "6Y graduate rate among high-DFW COS course students w/ no LAs (COS-only) 0.675\n",
      "\n",
      " 327 students starting in Y1 with LA in a high-DFW COS course (COS-only)\n"
     ]
    }
   ],
   "source": [
    "pmat_LA_dfw_cos, pmat_noLA_dfw_cos, mats_LA_dfw_cos, mats_noLA_dfw_cos = matrices_for_course_list(courses, \n",
    "                                                                                                  LAclass_tups, \n",
    "                                                                                                  df.loc[df.ID.isin(IDs_cos)], \n",
    "                                                                                                  cohort_terms)\n",
    "# Y1 retention\n",
    "printmat(pmat_LA_dfw_cos)\n",
    "printmat(pmat_noLA_dfw_cos)\n",
    "# 4-year grad rate\n",
    "n=4\n",
    "newmats_LA, newmats_noLA = np.linalg.matrix_power(pmat_LA_dfw_cos,n), np.linalg.matrix_power(pmat_noLA_dfw_cos,n)\n",
    "print(\"LAs:\\n\",np.round(newmats_LA,3)[0,:])\n",
    "print(\"No LAs:\\n\",np.round(newmats_noLA,3)[0,:])\n",
    "print(\"{}Y graduate rate among LA-having high-DFW COS course students (COS-only) {:0.3f}\".format(n,newmats_LA[0,7]))\n",
    "print(\"{}Y graduate rate among high-DFW COS course students w/ no LAs (COS-only) {:0.3f}\".format(n,newmats_noLA[0,7]))\n",
    "# 6-year grad rate\n",
    "n=6\n",
    "newmats_LA, newmats_noLA = np.linalg.matrix_power(pmat_LA_dfw_cos,n), np.linalg.matrix_power(pmat_noLA_dfw_cos,n)\n",
    "print(\"LAs:\\n\",np.round(newmats_LA,3)[0,:])\n",
    "print(\"No LAs:\\n\",np.round(newmats_noLA,3)[0,:])\n",
    "print(\"{}Y graduate rate among LA-having high-DFW COS course students (COS-only) {:0.3f}\".format(n,newmats_LA[0,7]))\n",
    "print(\"{}Y graduate rate among high-DFW COS course students w/ no LAs (COS-only) {:0.3f}\".format(n,newmats_noLA[0,7]))\n",
    "\n",
    "print(\"\\n\", int(mats_LA_dfw_cos[\"all\"][0,1]), \"students starting in Y1 with LA in a high-DFW COS course (COS-only)\")"
   ]
  },
  {
   "cell_type": "markdown",
   "metadata": {},
   "source": [
    "Significances for year-to-year transitions:"
   ]
  },
  {
   "cell_type": "code",
   "execution_count": 66,
   "metadata": {},
   "outputs": [
    {
     "name": "stdout",
     "output_type": "stream",
     "text": [
      "[[0.   0.01 0.   0.   0.   0.   0.01 0.  ]\n",
      " [0.   0.   0.   0.   0.   0.   0.   0.  ]\n",
      " [0.   0.   0.   0.05 0.   0.   0.   0.  ]\n",
      " [0.   0.   0.   0.   0.1  0.   0.   0.  ]\n",
      " [0.   0.   0.   0.   0.   0.   0.   0.  ]\n",
      " [0.   0.   0.   0.   0.   0.   0.   0.  ]\n",
      " [0.   0.   0.   0.   0.   0.   0.   0.  ]\n",
      " [0.   0.   0.   0.   0.   0.   0.   0.  ]]\n"
     ]
    }
   ],
   "source": [
    "significances_cos = np.zeros(pmat_LA_dfw_cos.shape)\n",
    "for i in range(pmat_LA_dfw_cos.shape[0]):\n",
    "    for j in range(pmat_LA_dfw_cos.shape[1]):\n",
    "        p1, p2 = pmat_LA_dfw_cos[i,j], pmat_noLA_dfw_cos[i,j]\n",
    "        n1, n2 = np.sum(mats_LA_dfw_cos[\"all\"][i,:]), np.sum(mats_noLA_dfw_cos[\"all\"][i,:])\n",
    "        pdiff = p1-p2\n",
    "        pdiff_std = np.sqrt( p1*(1-p1)/n1 + p2*(1-p2)/n2 )\n",
    "        ci_99 = [pdiff + pm*z_01*pdiff_std for pm in [-1,1]]\n",
    "        if np.prod(ci_99) > 0:\n",
    "            significances_cos[i,j] = 0.01\n",
    "        else:\n",
    "            ci_95 = [pdiff + pm*z_05*pdiff_std for pm in [-1,1]]\n",
    "            if np.prod(ci_95) > 0:\n",
    "                significances_cos[i,j] = 0.05\n",
    "            else:\n",
    "                ci_90 = [pdiff + pm*z_10*pdiff_std for pm in [-1,1]]\n",
    "                if np.prod(ci_90) > 0:\n",
    "                    significances_cos[i,j] = 0.1\n",
    "print(significances_cos)"
   ]
  },
  {
   "cell_type": "markdown",
   "metadata": {},
   "source": [
    "Significances for 4y and 6y graduation rates:"
   ]
  },
  {
   "cell_type": "code",
   "execution_count": 67,
   "metadata": {},
   "outputs": [
    {
     "name": "stdout",
     "output_type": "stream",
     "text": [
      "4Y grad rate difference NOT significant\n",
      "6Y grad rate difference significant at 1%\n"
     ]
    }
   ],
   "source": [
    "i,j = 0,7\n",
    "\n",
    "n=4\n",
    "newmats_LA, newmats_noLA = np.linalg.matrix_power(pmat_LA_dfw_cos,n), np.linalg.matrix_power(pmat_noLA_dfw_cos,n)\n",
    "p1, p2 = newmats_LA[i,j], newmats_noLA[i,j]\n",
    "n1, n2 = np.sum(mats_LA_dfw_cos[\"all\"][i,:]), np.sum(mats_noLA_dfw_cos[\"all\"][i,:])\n",
    "pdiff = p1-p2\n",
    "pdiff_std = np.sqrt( p1*(1-p1)/n1 + p2*(1-p2)/n2 )\n",
    "ci_99 = [pdiff + pm*z_01*pdiff_std for pm in [-1,1]]\n",
    "if np.prod(ci_99) > 0:\n",
    "    print(\"4Y grad rate difference significant at 1%\")\n",
    "else:\n",
    "    ci_95 = [pdiff + pm*z_05*pdiff_std for pm in [-1,1]]\n",
    "    if np.prod(ci_95) > 0:\n",
    "        print(\"4Y grad rate difference significant at 5%\")\n",
    "    else:\n",
    "        ci_90 = [pdiff + pm*z_10*pdiff_std for pm in [-1,1]]\n",
    "        if np.prod(ci_90) > 0:\n",
    "            print(\"4Y grad rate difference significant at 10%\")\n",
    "        else:\n",
    "            print(\"4Y grad rate difference NOT significant\")\n",
    "\n",
    "n=6\n",
    "newmats_LA, newmats_noLA = np.linalg.matrix_power(pmat_LA_dfw_cos,n), np.linalg.matrix_power(pmat_noLA_dfw_cos,n)\n",
    "p1, p2 = newmats_LA[i,j], newmats_noLA[i,j]\n",
    "n1, n2 = np.sum(mats_LA_dfw_cos[\"all\"][i,:]), np.sum(mats_noLA_dfw_cos[\"all\"][i,:])\n",
    "pdiff = p1-p2\n",
    "pdiff_std = np.sqrt( p1*(1-p1)/n1 + p2*(1-p2)/n2 )\n",
    "ci_99 = [pdiff + pm*z_01*pdiff_std for pm in [-1,1]]\n",
    "if np.prod(ci_99) > 0:\n",
    "    print(\"6Y grad rate difference significant at 1%\")\n",
    "else:\n",
    "    ci_95 = [pdiff + pm*z_05*pdiff_std for pm in [-1,1]]\n",
    "    if np.prod(ci_95) > 0:\n",
    "        print(\"6Y grad rate difference significant at 5%\")\n",
    "    else:\n",
    "        ci_90 = [pdiff + pm*z_10*pdiff_std for pm in [-1,1]]\n",
    "        if np.prod(ci_90) > 0:\n",
    "            print(\"6Y grad rate difference significant at 10%\")\n",
    "        else:\n",
    "            print(\"6Y grad rate difference NOT significant\")"
   ]
  },
  {
   "cell_type": "code",
   "execution_count": null,
   "metadata": {},
   "outputs": [],
   "source": []
  }
 ],
 "metadata": {
  "kernelspec": {
   "display_name": "Python 3",
   "language": "python",
   "name": "python3"
  },
  "language_info": {
   "codemirror_mode": {
    "name": "ipython",
    "version": 3
   },
   "file_extension": ".py",
   "mimetype": "text/x-python",
   "name": "python",
   "nbconvert_exporter": "python",
   "pygments_lexer": "ipython3",
   "version": "3.7.3"
  }
 },
 "nbformat": 4,
 "nbformat_minor": 4
}
