{
 "cells": [
  {
   "cell_type": "code",
   "execution_count": 1,
   "metadata": {},
   "outputs": [],
   "source": [
    "import pandas as pd\n",
    "import scipy.stats as stats\n",
    "import numpy as np\n",
    "from time import time\n",
    "import matplotlib.pyplot as plt\n",
    "import math\n",
    "import joypy\n",
    "%matplotlib inline"
   ]
  },
  {
   "cell_type": "markdown",
   "metadata": {},
   "source": [
    "Use a colorblind color palette for plotting."
   ]
  },
  {
   "cell_type": "code",
   "execution_count": 2,
   "metadata": {},
   "outputs": [],
   "source": [
    "plt.style.use('tableau-colorblind10')"
   ]
  },
  {
   "attachments": {},
   "cell_type": "markdown",
   "metadata": {},
   "source": [
    "Set the random seed here - reproducibility."
   ]
  },
  {
   "cell_type": "code",
   "execution_count": 3,
   "metadata": {},
   "outputs": [],
   "source": [
    "np.random.seed(2225)"
   ]
  },
  {
   "cell_type": "markdown",
   "metadata": {},
   "source": [
    "Read in the data set."
   ]
  },
  {
   "cell_type": "code",
   "execution_count": 4,
   "metadata": {},
   "outputs": [
    {
     "name": "stderr",
     "output_type": "stream",
     "text": [
      "/var/folders/8y/r62j7z6j4md8f6m5__xps3hn3v0r_4/T/ipykernel_76461/2305442081.py:2: DtypeWarning: Columns (7,8,9,10,30) have mixed types. Specify dtype option on import or set low_memory=False.\n",
      "  dfL = pd.read_csv(\"../data/2021-2208_cleaned_anon.csv\") # Fall 2002 - Summer 2021, longer data set\n"
     ]
    }
   ],
   "source": [
    "df = pd.read_csv(\"../data/2131-2208_cleaned.csv\") # Fall 2013 - Summer 2021\n",
    "dfL = pd.read_csv(\"../data/2021-2208_cleaned_anon.csv\") # Fall 2002 - Summer 2021, longer data set"
   ]
  },
  {
   "cell_type": "markdown",
   "metadata": {},
   "source": [
    "Read in the LA course informtion from Emily"
   ]
  },
  {
   "cell_type": "code",
   "execution_count": 5,
   "metadata": {},
   "outputs": [
    {
     "data": {
      "text/plain": [
       "Index(['ID', 'Cohort Term', 'degree_seeking', 'acad_level_code',\n",
       "       'NTID support', 'gender', 'AALANA', 'subject', 'catalog_nbr',\n",
       "       'class_section', 'Course Title', 'section Type', 'Course hours',\n",
       "       'grade type', 'Grade', 'dlmode', 'Acad Plan', 'College',\n",
       "       'term Hours Att', 'term Hours Earn', 'term gpa', 'Cum GPA', 'sat_math',\n",
       "       'sat_verb', 'act_math', 'act_write', 'Math Placement',\n",
       "       'Degree Received', 'Degree Major', 'Degree Term', 'First Generation',\n",
       "       'Term', 'Entry Term'],\n",
       "      dtype='object')"
      ]
     },
     "execution_count": 5,
     "metadata": {},
     "output_type": "execute_result"
    }
   ],
   "source": [
    "df.columns"
   ]
  },
  {
   "cell_type": "code",
   "execution_count": 6,
   "metadata": {},
   "outputs": [],
   "source": [
    "sms_majors = [\"APPMTH-BS\", \"CMTH-BS\", \"APPSTAT-BS\"]\n",
    "IDs_sms = df.loc[(df[\"Acad Plan\"].isin(sms_majors)), \"ID\"].unique()"
   ]
  },
  {
   "cell_type": "code",
   "execution_count": 7,
   "metadata": {},
   "outputs": [
    {
     "data": {
      "text/plain": [
       "32"
      ]
     },
     "execution_count": 7,
     "metadata": {},
     "output_type": "execute_result"
    }
   ],
   "source": [
    "len(df.loc[(df.ID.isin(IDs_sms)) & (df.AALANA==\"AALANA\") & \n",
    "           (df[\"Degree Term\"]>=2131) & (df[\"Degree Term\"]<=2208),\"ID\"].unique())"
   ]
  },
  {
   "cell_type": "code",
   "execution_count": 8,
   "metadata": {},
   "outputs": [
    {
     "data": {
      "text/plain": [
       "4"
      ]
     },
     "execution_count": 8,
     "metadata": {},
     "output_type": "execute_result"
    }
   ],
   "source": [
    "len(df.loc[(df[\"Degree Major\"].isin(sms_majors)) & (df.AALANA==\"AALANA\") & \n",
    "           (df[\"Degree Term\"]>=2191) & (df[\"Degree Term\"]<=2198),\"ID\"].unique())"
   ]
  },
  {
   "cell_type": "code",
   "execution_count": 9,
   "metadata": {},
   "outputs": [],
   "source": [
    "LAdf = pd.read_csv(\"../data/LA_Courses_2205_23Mar2022.csv\")\n",
    "LAdf.rename(columns={\"term\":\"Term\"}, inplace=True)"
   ]
  },
  {
   "cell_type": "markdown",
   "metadata": {},
   "source": [
    "The following changes Pandas options when displaying the DataFrame so that it doesn't give a \"...\" when there are too many columns."
   ]
  },
  {
   "cell_type": "code",
   "execution_count": 10,
   "metadata": {},
   "outputs": [],
   "source": [
    "pd.set_option(\"display.max_columns\", 40, \"display.max_rows\", 200)"
   ]
  },
  {
   "cell_type": "markdown",
   "metadata": {},
   "source": [
    "Note: these forms of the `compute_matrix` function assume that we are working with the LA data\"\n",
    "\n",
    "These versions account for partial data cohorts (e.g., the current Fall 2019 cohort, since they have not had 6 full years yet in the DataFrame)\n",
    "  * uses a series of `if` statements to determine whether to proceed with calculating subsequent rows (year-to-year transitions) within the numbers matrix. Note that years where there is no data are left as 0s, so normalizing will give infinities/nans. Need to account for that on the user side by only adding these partial data fellas to matrices from cohort terms where we have enough data to estimate those entries\n",
    "  \n",
    "`compute_matrix_orig` (lower) is the original code from Mason/Tiana.\n",
    "* takes in a DataFrame and `cohort_term`,\n",
    "* grabs all students from that `cohort_term` who took classes during that term (misses transfer students)\n",
    "* compute the \"persisters\" from Year N to N+1 as the subset of students from Year N who take classes in Year N+1 **OR** who have a `degree_term` that is after Year N.\n",
    "  * those who have a `degree_term` in Year N go into the N-->depart (degree) transition numbers\n",
    "  * those who no longer take classes **and** do not eventually obtain a degree go into the N-->depart (no degree) transition numbers\n",
    "* only would account for students who have LAs during their first year (`cohort_term` or the following spring)\n",
    "  * this original version is not adapted for the LA analysis in any specific way\n",
    "\n",
    "`compute_matrix_las` is modified by Tony to adapt for the LA analysis\n",
    "* accounts for students who have LAs in years besides their first year \n",
    "  * does this by (eg) checking who had LAs during their second year (relative to `cohort_term`), but were not already in the DataFrame from Year 1 (by virtue of having had LAs during Year 1). then does this for Years 2-6 too."
   ]
  },
  {
   "cell_type": "code",
   "execution_count": 11,
   "metadata": {},
   "outputs": [],
   "source": [
    "def compute_matrix_las(df, cohort_term, las=False, get_grad_ids=False): \n",
    "    '''\n",
    "    This version is adding in students who have LAs in years 2-6 to \n",
    "    the students who have persisted from previous years (if las=True)\n",
    "    '''\n",
    "\n",
    "    # Set up initial matrix for numbers of students making each transition (from row i to column j)\n",
    "    mat = np.zeros((8,8))\n",
    "    grad_ids = set() # IDs of everyone who graduates\n",
    "\n",
    "    # Check that there's data to at least calculate Y1-->Y2 transitions\n",
    "    if len(df.loc[(df[\"Term\"]>=cohort_term+10) & (df[\"Term\"]<cohort_term+20)])==0:\n",
    "        print(\"WARNING: Insufficient data to calculate any transitions. Ending.\")\n",
    "        return\n",
    "\n",
    "    #===========================================================================\n",
    "    # YEAR 1 CALCULATION \n",
    "    #===========================================================================\n",
    "  \n",
    "    # Find all the IDs of students in the specified cohort that were at RIT for the first year\n",
    "    if las:\n",
    "        IDY1 = df.loc[(df[\"Cohort Term\"] == cohort_term) & \n",
    "                      ((df[\"Term\"] >= cohort_term) & (df[\"Term\"] < cohort_term+10)) &\n",
    "                      (df[\"LAexperience\"]==1), \"ID\"].unique()\n",
    "    else:\n",
    "        IDY1 = df.loc[(df[\"Cohort Term\"] == cohort_term) & \n",
    "                      ((df[\"Term\"] >= cohort_term) & (df[\"Term\"] < cohort_term+10)), \"ID\"].unique()\n",
    "    # Save a new dataframe, dfY1, that just has those IDs, for all years they show up total\n",
    "    dfY1 = df.loc[df[\"ID\"].isin(IDY1)]\n",
    "\n",
    "    #===========================================================================\n",
    "    # YEAR 1 -> 2 CALCULATION AND TRANSITIONS\n",
    "    #===========================================================================\n",
    "    \n",
    "    # Among those who started Y1, who is Y1->Grad?\n",
    "    grads = dfY1.loc[(dfY1[\"Degree Term\"]>=cohort_term) & (dfY1[\"Degree Term\"]<cohort_term+10),\"ID\"].unique()\n",
    "    mat[0,7] = len(grads)\n",
    "    grad_ids = set.union(grad_ids, set(grads))\n",
    "    \n",
    "    # continue and dropout IDs\n",
    "    CandD = set.difference(set(IDY1),set(grads))\n",
    "    \n",
    "    # Among Y1->(not Grad), who appears again in a future year? (either classes or a degree)\n",
    "    IDY2 = dfY1.loc[(dfY1.ID.isin(CandD)) & \n",
    "                    ((dfY1[\"Term\"]>=cohort_term+10) | (dfY1[\"Degree Term\"]>=cohort_term+10)),\"ID\"].unique()\n",
    "    dfY2 = dfY1.loc[dfY1.ID.isin(IDY2)]\n",
    "    mat[0,1] = len(dfY2.ID.unique()) \n",
    "    \n",
    "    departures = set.difference(CandD, set(IDY2)) \n",
    "    mat[0,6] = len(departures)\n",
    "\n",
    "    #===========================================================================\n",
    "    # YEAR 2 -> 3 CALCULATION AND TRANSITIONS\n",
    "    #===========================================================================\n",
    "\n",
    "    if len(df.loc[(df[\"Term\"]>=cohort_term+20) & (df[\"Term\"]<cohort_term+30)])>0:\n",
    "        # only continue if we have data. otherwise, leave as 0s\n",
    "        \n",
    "        # ***** begin changes to account for LA-having (and changing dfYX --> dfYXc) *****\n",
    "        # Now the starters for Y2 should include persisters from Y1 (dfY2) AND the\n",
    "        # students from the desired cohort_term who have LAs in their second year, AND\n",
    "        # who were not in the Y1 dataframe.\n",
    "        # Concatenate the persisters from Y1 with those from the desired cohort_term who have LAs in their second year\n",
    "        # Note that we can remove the `LAexperience` constraint and this will effectively be accounting for transfer students\n",
    "        if las:\n",
    "            IDY2LAs = df.loc[(df[\"Cohort Term\"]==cohort_term) & \n",
    "                             ((df[\"Term\"]>=cohort_term+10) & (df[\"Term\"]<cohort_term+20)) &\n",
    "                             (~df[\"ID\"].isin(IDY1)) & (df[\"LAexperience\"]==1),\"ID\"].unique()\n",
    "            IDadd = set.difference(set(IDY2LAs),set(IDY1))\n",
    "            dfY2LAs = df.loc[(df[\"Term\"]>=cohort_term+10) &\n",
    "                             (df[\"Cohort Term\"]==cohort_term) & (df[\"ID\"].isin(IDadd))]\n",
    "            # Concatenate the dfY2 DataFrame with the above\n",
    "            dfY2c = pd.concat([dfY2,dfY2LAs],ignore_index=True)\n",
    "            # Need to reset the set of IDs\n",
    "            IDY2 = dfY2c[\"ID\"].unique()\n",
    "        else:\n",
    "            dfY2c = dfY2.copy()\n",
    "        # ***** end changes to account for LA-having (and changing dfYX --> dfYXc) *****\n",
    "        \n",
    "        # Among those who started Y2, who is Y2->Grad?\n",
    "        grads = dfY2c.loc[(dfY2c[\"Degree Term\"]>=cohort_term+10) & (dfY2c[\"Degree Term\"]<cohort_term+20),\"ID\"].unique()\n",
    "        mat[1,7] = len(grads)\n",
    "        grad_ids = set.union(grad_ids, set(grads))\n",
    "\n",
    "        # continue and dropout IDs\n",
    "        CandD = set.difference(set(IDY2),set(grads))\n",
    "\n",
    "        # Among Y2->(not Grad), who appears again in a future year? (either classes or a degree)\n",
    "        IDY3 = dfY2c.loc[(dfY2c.ID.isin(CandD)) & \n",
    "                         ((dfY2c[\"Term\"]>=cohort_term+20) | (dfY2c[\"Degree Term\"]>=cohort_term+20)),\"ID\"].unique()\n",
    "        dfY3 = dfY2c.loc[dfY2c.ID.isin(IDY3)]\n",
    "        mat[1,2] = len(dfY3.ID.unique()) \n",
    "\n",
    "        departures = set.difference(CandD, set(IDY3))\n",
    "        mat[1,6] = len(departures)\n",
    "\n",
    "        #===========================================================================\n",
    "        # YEAR 3 -> 4 CALCULATION AND TRANSITIONS\n",
    "        #===========================================================================\n",
    "\n",
    "        if len(df.loc[(df[\"Term\"]>=cohort_term+30) & (df[\"Term\"]<cohort_term+40)])>0:\n",
    "            # only continue if we have data. otherwise, leave as 0s\n",
    "\n",
    "            # ***** begin changes to account for LA-having (and changing dfYX --> dfYXc) *****\n",
    "            # Now the starters for Y3 should include persisters from Y2 (dfY3) AND the\n",
    "            # students from the desired cohort_term who have LAs in their third year, AND\n",
    "            # who were not in the Y2 dataframe already.\n",
    "            # Concatenate the persisters from Y2 with those from the desired cohort_term who have LAs in their third year\n",
    "            if las:\n",
    "                IDY3LAs = df.loc[(df[\"Cohort Term\"]==cohort_term) & \n",
    "                                 ((df[\"Term\"]>=cohort_term+20) & (df[\"Term\"]<cohort_term+30)) &\n",
    "                                 (~df[\"ID\"].isin(IDY2)) & (df[\"LAexperience\"]==1),\"ID\"].unique()\n",
    "                IDadd = set.difference(set(IDY3LAs),set(IDY2))\n",
    "                dfY3LAs = df.loc[(df[\"Term\"]>=cohort_term+20) &\n",
    "                                 (df[\"Cohort Term\"]==cohort_term) & (df[\"ID\"].isin(IDadd))]\n",
    "                # Concatenate the dfY3 DataFrame with the above\n",
    "                dfY3c = pd.concat([dfY3,dfY3LAs],ignore_index=True)\n",
    "                # Need to reset the set of IDs\n",
    "                IDY3 = dfY3c[\"ID\"].unique()\n",
    "            else:\n",
    "                dfY3c = dfY3.copy()\n",
    "            # ***** end changes to account for LA-having (and changing dfYX --> dfYXc) *****\n",
    "\n",
    "            # Among those who started Y3, who is Y3->Grad?\n",
    "            grads = dfY3c.loc[(dfY3c[\"Degree Term\"]>=cohort_term+20) & (dfY3c[\"Degree Term\"]<cohort_term+30),\"ID\"].unique()\n",
    "            mat[2,7] = len(grads)\n",
    "            grad_ids = set.union(grad_ids, set(grads))\n",
    "\n",
    "            # continue and dropout IDs\n",
    "            CandD = set.difference(set(IDY3),set(grads))\n",
    "\n",
    "            # Among Y3->(not Grad), who appears again in a future year? (either classes or a degree)\n",
    "            IDY4 = dfY3c.loc[(dfY3c.ID.isin(CandD)) & \n",
    "                             ((dfY3c[\"Term\"]>=cohort_term+30) | (dfY3c[\"Degree Term\"]>=cohort_term+30)),\"ID\"].unique()\n",
    "            dfY4 = dfY3c.loc[dfY3c.ID.isin(IDY4)]\n",
    "            mat[2,3] = len(dfY4.ID.unique()) \n",
    "\n",
    "            departures = set.difference(CandD, set(IDY4))\n",
    "            mat[2,6] = len(departures)\n",
    "\n",
    "            #===========================================================================\n",
    "            # YEAR 4 -> 5 CALCULATION AND TRANSITIONS\n",
    "            #===========================================================================\n",
    "\n",
    "            if len(df.loc[(df[\"Term\"]>=cohort_term+40) & (df[\"Term\"]<cohort_term+50)])>0:\n",
    "                # only continue if we have data. otherwise, leave as 0s\n",
    "\n",
    "                # ***** begin changes to account for LA-having (and changing dfYX --> dfYXc) *****\n",
    "                # Now the starters for Y4 should include persisters from Y3 (dfY4) AND the\n",
    "                # students from the desired cohort_term who have LAs in their fourth year, AND\n",
    "                # who were not in the Y3 dataframe already.\n",
    "                # Concatenate the persisters from Y3 with those from the desired cohort_term who have LAs in their fourth year\n",
    "                if las:\n",
    "                    IDY4LAs = df.loc[(df[\"Cohort Term\"]==cohort_term) & \n",
    "                                     ((df[\"Term\"]>=cohort_term+30) & (df[\"Term\"]<cohort_term+40)) &\n",
    "                                     (~df[\"ID\"].isin(IDY3)) & (df[\"LAexperience\"]==1),\"ID\"].unique()\n",
    "                    IDadd = set.difference(set(IDY4LAs),set(IDY3))\n",
    "                    dfY4LAs = df.loc[(df[\"Term\"]>=cohort_term+30) &\n",
    "                                     (df[\"Cohort Term\"]==cohort_term) & (df[\"ID\"].isin(IDadd))]\n",
    "                    # Concatenate the dfY4 DataFrame with the above\n",
    "                    dfY4c = pd.concat([dfY4,dfY4LAs],ignore_index=True)\n",
    "                    # Need to reset the set of IDs\n",
    "                    IDY4 = dfY4c[\"ID\"].unique()\n",
    "                else:\n",
    "                    dfY4c = dfY4.copy()\n",
    "                # ***** end changes to account for LA-having (and changing dfYX --> dfYXc) *****\n",
    "\n",
    "                # Among those who started Y4, who is Y4->Grad?\n",
    "                grads = dfY4c.loc[(dfY4c[\"Degree Term\"]>=cohort_term+30) & (dfY4c[\"Degree Term\"]<cohort_term+40),\"ID\"].unique()\n",
    "                mat[3,7] = len(grads)\n",
    "                grad_ids = set.union(grad_ids, set(grads))\n",
    "\n",
    "                # continue and dropout IDs\n",
    "                CandD = set.difference(set(IDY4),set(grads))\n",
    "\n",
    "                # Among Y4->(not Grad), who appears again in a future year? (either classes or a degree)\n",
    "                IDY5 = dfY4c.loc[(dfY4c.ID.isin(CandD)) & \n",
    "                                 ((dfY4c[\"Term\"]>=cohort_term+40) | (dfY4c[\"Degree Term\"]>=cohort_term+40)),\"ID\"].unique()\n",
    "                dfY5 = dfY4c.loc[dfY4c.ID.isin(IDY5)]\n",
    "                mat[3,4] = len(dfY5.ID.unique()) \n",
    "\n",
    "                departures = set.difference(CandD, set(IDY5))\n",
    "                mat[3,6] = len(departures)\n",
    "\n",
    "                #===========================================================================\n",
    "                # YEAR 5 -> 6 CALCULATION AND TRANSITIONS\n",
    "                #===========================================================================\n",
    "                \n",
    "                if len(df.loc[(df[\"Term\"]>=cohort_term+50) & (df[\"Term\"]<cohort_term+60)])>0:\n",
    "                    # only continue if we have data. otherwise, leave as 0s\n",
    "\n",
    "                    # ***** begin changes to account for LA-having (and changing dfYX --> dfYXc) *****\n",
    "                    # Now the starters for Y5 should include persisters from Y4 (dfY5) AND the\n",
    "                    # students from the desired cohort_term who have LAs in their fifth year, AND\n",
    "                    # who were not in the Y4 dataframe already.\n",
    "                    # Concatenate the persisters from Y4 with those from the desired cohort_term who have LAs in their fifth year\n",
    "                    if las:\n",
    "                        IDY5LAs = df.loc[(df[\"Cohort Term\"]==cohort_term) & \n",
    "                                         ((df[\"Term\"]>=cohort_term+40) & (df[\"Term\"]<cohort_term+50)) &\n",
    "                                         (~df[\"ID\"].isin(IDY4)) & (df[\"LAexperience\"]==1),\"ID\"].unique()\n",
    "                        IDadd = set.difference(set(IDY5LAs),set(IDY4))\n",
    "                        dfY5LAs = df.loc[(df[\"Term\"]>=cohort_term+40) &\n",
    "                                         (df[\"Cohort Term\"]==cohort_term) & (df[\"ID\"].isin(IDadd))]\n",
    "                        # Concatenate the dfY5 DataFrame with the above\n",
    "                        dfY5c = pd.concat([dfY5,dfY5LAs],ignore_index=True)\n",
    "                        # Need to reset the set of IDs\n",
    "                        IDY5 = dfY5c[\"ID\"].unique()\n",
    "                    else:\n",
    "                        dfY5c = dfY5.copy()\n",
    "                    # ***** end changes to account for LA-having (and changing dfYX --> dfYXc) *****\n",
    "\n",
    "                    # Among those who started Y5, who is Y5->Grad?\n",
    "                    grads = dfY5c.loc[(dfY5c[\"Degree Term\"]>=cohort_term+40) & (dfY5c[\"Degree Term\"]<cohort_term+50),\"ID\"].unique()\n",
    "                    mat[4,7] = len(grads)\n",
    "                    grad_ids = set.union(grad_ids, set(grads))\n",
    "\n",
    "                    # continue and dropout IDs\n",
    "                    CandD = set.difference(set(IDY5),set(grads))\n",
    "\n",
    "                    # Among Y5->(not Grad), who appears again in a future year? (either classes or a degree)\n",
    "                    IDY6 = dfY5c.loc[(dfY5c.ID.isin(CandD)) & \n",
    "                                     ((dfY5c[\"Term\"]>=cohort_term+50) | (dfY5c[\"Degree Term\"]>=cohort_term+50)),\"ID\"].unique()\n",
    "                    dfY6 = dfY5c.loc[dfY5c.ID.isin(IDY6)]\n",
    "                    mat[4,5] = len(dfY6.ID.unique()) \n",
    "\n",
    "                    departures = set.difference(CandD, set(IDY6))\n",
    "                    mat[4,6] = len(departures)\n",
    "\n",
    "                    #===========================================================================\n",
    "                    # YEAR 6-> DEPARTURE AND OTHER CALCULATIONS\n",
    "                    #===========================================================================\n",
    "                    #if len(df.loc[(df[\"Term\"]>=cohort_term+60) & (df[\"Term\"]<cohort_term+70)])>0:\n",
    "                    # only continue if we have data. otherwise, leave as 0s\n",
    "                    # Y6 is a little different, because we only care about whether a degree is \n",
    "                    # obtained before (<) cohort_term+60. So, don't need to check farther out.\n",
    "\n",
    "                    # ***** begin changes to account for LA-having (and changing dfYX --> dfYXc) *****\n",
    "                    # Now the starters for Y6 should include persisters from Y5 (dfY6) AND the\n",
    "                    # students from the desired cohort_term who have LAs in their sixth year, AND\n",
    "                    # who were not in the Y5 dataframe already.\n",
    "                    # Concatenate the persisters from Y5 with those from the desired cohort_term who have LAs in their sixth year\n",
    "                    if las:\n",
    "                        IDY6LAs = df.loc[(df[\"Cohort Term\"]==cohort_term) & \n",
    "                                         ((df[\"Term\"]>=cohort_term+50) & (df[\"Term\"]<cohort_term+60)) &\n",
    "                                         (~df[\"ID\"].isin(IDY5)) & (df[\"LAexperience\"]==1),\"ID\"].unique()\n",
    "                        IDadd = set.difference(set(IDY6LAs),set(IDY5))\n",
    "                        dfY6LAs = df.loc[(df[\"Term\"]>=cohort_term+50) &\n",
    "                                         (df[\"Cohort Term\"]==cohort_term) & (df[\"ID\"].isin(IDadd))]\n",
    "                        # Concatenate the dfY5 DataFrame with the above\n",
    "                        dfY6c = pd.concat([dfY6,dfY6LAs],ignore_index=True)\n",
    "                        # Need to reset the set of IDs\n",
    "                        IDY6 = dfY6c[\"ID\"].unique()\n",
    "                    else:\n",
    "                        dfY6c = dfY6.copy()\n",
    "                    # ***** end changes to account for LA-having (and changing dfYX --> dfYXc) *****\n",
    "\n",
    "                    # Among those who started Y6, who is Y6->Grad?\n",
    "                    grads = dfY6c.loc[(dfY6c[\"Degree Term\"]>=cohort_term+50) & (dfY6c[\"Degree Term\"]<cohort_term+60),\"ID\"].unique()\n",
    "                    mat[5,7] = len(grads)\n",
    "                    grad_ids = set.union(grad_ids, set(grads))\n",
    "\n",
    "                    # After 6 years, everyone else goes into the Depart/Drop-out state\n",
    "                    departures = set.difference(set(IDY6),set(grads))\n",
    "                    mat[5,6] = len(departures)\n",
    "\n",
    "    mat[6,6] = 1\n",
    "    mat[7,7] = 1\n",
    "\n",
    "    if get_grad_ids:\n",
    "        return mat, grad_ids\n",
    "    else:\n",
    "        return mat\n",
    "\n",
    "#===========================================================================\n",
    "#===========================================================================\n",
    "\n",
    "def normalize(mat):\n",
    "    # Credit Mason Tedeschi \n",
    "    nmat = mat.copy()\n",
    "    for row in range(mat.shape[0]):\n",
    "        sum_row = np.sum(mat[row,:])\n",
    "        if sum_row==0:\n",
    "            nmat[row,:] = np.zeros(len(mat[row,:]))\n",
    "        else:\n",
    "            nmat[row,:] = mat[row,:]/sum_row\n",
    "    return nmat # np.around([nmat], decimals=4)\n",
    "    # I changed this return as well"
   ]
  },
  {
   "cell_type": "code",
   "execution_count": 12,
   "metadata": {},
   "outputs": [],
   "source": [
    "# ====================================================================================================\n",
    "# Find the students who took a list of classes\n",
    "# ====================================================================================================\n",
    "\n",
    "\n",
    "def get_IDs(lst, df):\n",
    "    IDs = []\n",
    "    for the_class in lst:\n",
    "        class_IDs = list(df.loc[(df.subject==the_class[0]) & (df.catalog_nbr==the_class[1]) & (df[\"class_section\"]==the_class[2]) & (df[\"Term\"]==the_class[3]), \"ID\"])\n",
    "        if IDs == []:\n",
    "            IDs.extend(class_IDs)\n",
    "        else:\n",
    "            IDs.extend(x for x in class_IDs if x not in IDs)\n",
    "    return IDs"
   ]
  },
  {
   "cell_type": "markdown",
   "metadata": {},
   "source": [
    "Construct a list of tuples of LA course information\n",
    "* subject\n",
    "* catalog number\n",
    "* section\n",
    "* term"
   ]
  },
  {
   "cell_type": "code",
   "execution_count": 13,
   "metadata": {},
   "outputs": [],
   "source": [
    "LAclass_tups = list(LAdf.loc[:,['subject','catalog_nbr','class_section','Term']].drop_duplicates(subset=None, keep='first').to_records(index=False))\n"
   ]
  },
  {
   "cell_type": "markdown",
   "metadata": {},
   "source": [
    "Student IDs who have been in a class with an LA but returning a dict.\n",
    "\n",
    "*edit: **not** doing this:* Using `str()` for the catalog number because some of the numbers have letters in them.\n",
    "\n",
    "**Warning: This takes a few minutes**\n",
    "\n",
    "Will find a few classes that either were combined with other sections or are first-year writing seminars."
   ]
  },
  {
   "cell_type": "code",
   "execution_count": 14,
   "metadata": {},
   "outputs": [
    {
     "name": "stdout",
     "output_type": "stream",
     "text": [
      "WARNING: class not found: ('MATH', '211', '03', 2145)\n",
      "WARNING: class not found: ('FYW', '150', '43', 2155)\n",
      "WARNING: class not found: ('FYW', '150', '58', 2155)\n",
      "WARNING: class not found: ('PHYS', '211', '04', 2171)\n",
      "took  1.0954068660736085 minutes\n"
     ]
    }
   ],
   "source": [
    "LA_students_dict = {}\n",
    "\n",
    "start = time()\n",
    "for the_class in LAclass_tups:\n",
    "    class_IDs = list(df.loc[(df.subject==the_class[0]) & (df.catalog_nbr==the_class[1]) & \n",
    "                            (df[\"class_section\"]==the_class[2]) & (df[\"Term\"]==the_class[3]), ['ID','Term']].to_records(index=False))\n",
    "    if len(class_IDs)==0:\n",
    "        print(\"WARNING: class not found:\",the_class)\n",
    "    for x in class_IDs:\n",
    "        if x[0] not in LA_students_dict.keys():\n",
    "            LA_students_dict[x[0]] = x[1] # add them to the dict if they aren't already there\n",
    "        else:\n",
    "            LA_students_dict[x[0]] = np.min([x[1],LA_students_dict[x[0]]]) # if they're there already, make sure the term is the earliest they had an LA\n",
    "stop = time()\n",
    "print(\"took \",(stop-start)/60,\"minutes\")"
   ]
  },
  {
   "cell_type": "markdown",
   "metadata": {},
   "source": [
    "## Breaking out the LA-having students, and the LA-assisted courses\n",
    "\n",
    "Now each student who has had LAs is in `LA_students_dict` exactly once, and is associated with the term in which they **first** had an LA."
   ]
  },
  {
   "cell_type": "markdown",
   "metadata": {},
   "source": [
    "### Create a tag for courses that are LA-assisted so we can subset down to only those later\n",
    "\n",
    "and\n",
    "\n",
    "### Create a tag for students who have ever taken a course that has had LA-assisted sections\n",
    "\n",
    "(includes students that have never had LAs)\n",
    "\n",
    "Note that we just care about the `subject` and the `catalog_nbr` matching. Those are the first two elements in the tuples from `LAclass_tups`."
   ]
  },
  {
   "cell_type": "code",
   "execution_count": 15,
   "metadata": {},
   "outputs": [],
   "source": [
    "LA_classes = [(LAclass_tups[k][0], LAclass_tups[k][1]) for k in range(len(LAclass_tups))]\n",
    "LA_classes = list(set(LA_classes))\n",
    "\n",
    "df[\"LAassisted\"] = 0         # tag for LA-assisted courses\n",
    "df[\"LAclass_students\"] = 0   # tag for students who ever took an LA-assisted course (including those who didn't have an LA)\n",
    "for the_class in LA_classes:\n",
    "    df.loc[(df.subject==the_class[0]) & (df.catalog_nbr==the_class[1]), \"LAassisted\"] = 1\n",
    "    IDs_this_class = df.loc[(df.subject==the_class[0]) & (df.catalog_nbr==the_class[1]), \"ID\"].unique()\n",
    "    df.loc[df.ID.isin(IDs_this_class), \"LAclass_students\"] = 1\n",
    "    "
   ]
  },
  {
   "cell_type": "markdown",
   "metadata": {},
   "source": [
    "### Create a tag for students who have or have previously had an LA\n",
    "\n",
    "Add a `LAexperience` tag column that is a 1 if the student has had an LA that term or previously\n",
    "\n",
    "`dfLAinfo` is the subset of the overall dataframe `df` that has *all* of the rows from students who *ever* have an LA\n",
    "\n",
    "_Update: not bothering with creating another sub-dataframe. instead, just use `df.loc` to grab the LA-having students if you want them_\n",
    "\n",
    "Then, we set column `LAexperience = 1` for the semesters in which, and after, the students have an LA\n",
    "\n",
    "**Warning: This takes a few minutes**"
   ]
  },
  {
   "cell_type": "code",
   "execution_count": 16,
   "metadata": {
    "scrolled": false
   },
   "outputs": [
    {
     "name": "stdout",
     "output_type": "stream",
     "text": [
      "took  0.4448330005009969 minutes\n"
     ]
    }
   ],
   "source": [
    "dfLAinfo = df.loc[(df[\"ID\"].isin(LA_students_dict.keys()))].copy() # dfLAinfo contains everyone who ever had an LA\n",
    "df[\"LAexperience\"] = 0\n",
    "start = time()\n",
    "for sid in LA_students_dict.keys():\n",
    "    df.loc[(df[\"ID\"]==sid) & (df[\"Term\"]>=LA_students_dict[sid]), \"LAexperience\"] = 1\n",
    "stop = time()\n",
    "print(\"took \",(stop-start)/60,\"minutes\")"
   ]
  },
  {
   "cell_type": "markdown",
   "metadata": {},
   "source": [
    "#### Number of LA-affected students"
   ]
  },
  {
   "cell_type": "code",
   "execution_count": 17,
   "metadata": {},
   "outputs": [
    {
     "data": {
      "text/plain": [
       "11258"
      ]
     },
     "execution_count": 17,
     "metadata": {},
     "output_type": "execute_result"
    }
   ],
   "source": [
    "len(df.loc[df.LAexperience==1,\"ID\"].unique())"
   ]
  },
  {
   "cell_type": "markdown",
   "metadata": {},
   "source": [
    "#### Number of LA-affected departments/schools"
   ]
  },
  {
   "cell_type": "code",
   "execution_count": 18,
   "metadata": {},
   "outputs": [
    {
     "data": {
      "text/plain": [
       "20"
      ]
     },
     "execution_count": 18,
     "metadata": {},
     "output_type": "execute_result"
    }
   ],
   "source": [
    "subjects = [tup[0] for tup in LAclass_tups]\n",
    "len(np.unique(subjects))"
   ]
  },
  {
   "cell_type": "markdown",
   "metadata": {},
   "source": [
    "#### Number of LA-affected classes (subj+course number combinations)"
   ]
  },
  {
   "cell_type": "code",
   "execution_count": 19,
   "metadata": {},
   "outputs": [
    {
     "data": {
      "text/plain": [
       "91"
      ]
     },
     "execution_count": 19,
     "metadata": {},
     "output_type": "execute_result"
    }
   ],
   "source": [
    "classes = [tup[0]+tup[1] for tup in LAclass_tups]\n",
    "len(np.unique(classes))"
   ]
  },
  {
   "cell_type": "markdown",
   "metadata": {},
   "source": [
    "### ID lists for students who have or previously had a COS major, or PHYS or MATH\n",
    "\n",
    "Subset using `df.loc[(df.ID.isin(IDs_xxx))]`"
   ]
  },
  {
   "cell_type": "code",
   "execution_count": 20,
   "metadata": {},
   "outputs": [],
   "source": [
    "# ever had a COS major (will include students with COS transfer credit?)\n",
    "IDs_cos = df.loc[(df.College==\"COS\"), \"ID\"].unique()\n",
    "IDs_cosL = dfL.loc[(dfL.College==\"COS\"), \"ID\"].unique()\n",
    "# ever had a PHYS major\n",
    "IDs_phys = df.loc[(df[\"Acad Plan\"]==\"PHYS-BS\"), \"ID\"].unique()\n",
    "# ever had an SMS major\n",
    "sms_majors = [\"APPMTH-BS\", \"CMTH-BS\", \"APPSTAT-BS\"]\n",
    "IDs_sms = df.loc[(df[\"Acad Plan\"].isin(sms_majors)), \"ID\"].unique()"
   ]
  },
  {
   "cell_type": "markdown",
   "metadata": {},
   "source": [
    "Data frame with only students who have had an LA that term or previously"
   ]
  },
  {
   "cell_type": "code",
   "execution_count": 21,
   "metadata": {},
   "outputs": [],
   "source": [
    "dfLAs = df.loc[df[\"LAexperience\"]==1].copy()"
   ]
  },
  {
   "cell_type": "markdown",
   "metadata": {},
   "source": [
    "This is a copy of what's done later on:"
   ]
  },
  {
   "cell_type": "code",
   "execution_count": 22,
   "metadata": {},
   "outputs": [],
   "source": [
    "# students who ever took a course that has LA-assisted sections\n",
    "dfLAcoursestudents = df.loc[df.LAclass_students==1]\n",
    "# ... out of those students, who had an LA experience at this point or earlier?\n",
    "dfLAcoursestudents_LA = dfLAcoursestudents.loc[dfLAcoursestudents.LAexperience==1]\n",
    "# ... out of those students, who never had an LA experience ever?\n",
    "dfLAcoursestudents_noLA = dfLAcoursestudents.loc[(~dfLAcoursestudents.ID.isin(LA_students_dict.keys()))]"
   ]
  },
  {
   "cell_type": "markdown",
   "metadata": {},
   "source": [
    "_NB: `dfLAs` is deprecated. Use `dfLAcoursestudents_LA` and `dfLAcoursestudents_noLA` instead._\n",
    "\n",
    "Check:"
   ]
  },
  {
   "cell_type": "code",
   "execution_count": 23,
   "metadata": {},
   "outputs": [
    {
     "data": {
      "text/plain": [
       "329301"
      ]
     },
     "execution_count": 23,
     "metadata": {},
     "output_type": "execute_result"
    }
   ],
   "source": [
    "len(dfLAs)"
   ]
  },
  {
   "cell_type": "code",
   "execution_count": 24,
   "metadata": {},
   "outputs": [
    {
     "data": {
      "text/plain": [
       "329301"
      ]
     },
     "execution_count": 24,
     "metadata": {},
     "output_type": "execute_result"
    }
   ],
   "source": [
    "len(dfLAcoursestudents_LA)"
   ]
  },
  {
   "cell_type": "markdown",
   "metadata": {},
   "source": [
    "And get all the cohort-terms associated with LA-having students"
   ]
  },
  {
   "cell_type": "code",
   "execution_count": 25,
   "metadata": {
    "scrolled": true
   },
   "outputs": [
    {
     "name": "stdout",
     "output_type": "stream",
     "text": [
      "[2131, 2141, 2151, 2161, 2171, 2181, 2191, 2201]\n"
     ]
    }
   ],
   "source": [
    "cohort_terms_LAs = []\n",
    "for x in list(dfLAcoursestudents[\"Cohort Term\"].unique()):\n",
    "    if math.isnan(x) == False and x >= 2131:\n",
    "        cohort_terms_LAs.append(int(x))\n",
    "cohort_terms_LAs.sort()\n",
    "print(cohort_terms_LAs)"
   ]
  },
  {
   "cell_type": "markdown",
   "metadata": {},
   "source": [
    "# Computing the actual results numbers\n",
    "\n",
    "At this point, all of this is only using full-data cohorts (2131, 2141, and 2151)."
   ]
  },
  {
   "cell_type": "code",
   "execution_count": 26,
   "metadata": {},
   "outputs": [],
   "source": [
    "cohort_terms_full = [2131, 2141, 2151]"
   ]
  },
  {
   "cell_type": "markdown",
   "metadata": {},
   "source": [
    "Which cohort terms have partial data? Note that the 2201 cohort won't have any Year 2 data, so can't estimate any transitions for them."
   ]
  },
  {
   "cell_type": "code",
   "execution_count": 27,
   "metadata": {},
   "outputs": [],
   "source": [
    "cohort_terms_part = [2161, 2171, 2181, 2191]"
   ]
  },
  {
   "cell_type": "markdown",
   "metadata": {},
   "source": [
    "Make Python print in normal numbers, not scientific notation"
   ]
  },
  {
   "cell_type": "code",
   "execution_count": 28,
   "metadata": {},
   "outputs": [],
   "source": [
    "np.set_printoptions(suppress=True)"
   ]
  },
  {
   "cell_type": "markdown",
   "metadata": {},
   "source": [
    "<br>\n",
    "\n",
    "## Handy function for printing more compact versions of these matrices"
   ]
  },
  {
   "cell_type": "code",
   "execution_count": 29,
   "metadata": {},
   "outputs": [],
   "source": [
    "def printmat(mat):\n",
    "    ''' Function to print a more compact, human-readable version of the numbers or transition matrices\n",
    "    We want to see: \n",
    "    Y1->Y2  Y1->Depart  Y1->Grad\n",
    "    Y2->Y3  Y2->Depart  Y2->Grad\n",
    "    Y3->Y4  Y3->Depart  Y3->Grad\n",
    "    Y4->Y5  Y4->Depart  Y4->Grad\n",
    "    Y5->Y6  Y5->Depart  Y5->Grad\n",
    "            Y6->Depart  Y6->Grad\n",
    "    '''\n",
    "    if mat[0,1] > 1:\n",
    "        # numbers version\n",
    "        print(\"N   YN->N+1  YN->DropOut  YN->Grad\")\n",
    "        print(\"----------------------------------\")\n",
    "        for i in range(1,6):\n",
    "            print(i,f\"{int(mat[i-1,i]):>8} {int(mat[i-1,6]):>9} {int(mat[i-1,7]):>11}\")\n",
    "        print(6,\"        \",f\"{int(mat[5,6]):>9} {int(mat[5,7]):>11}\")\n",
    "    else:\n",
    "        # transition probabilities version\n",
    "        mat = np.round(mat,3)\n",
    "        print(\"N   YN->N+1  YN->DropOut  YN->Grad\")\n",
    "        print(\"----------------------------------\")\n",
    "        for i in range(1,6):\n",
    "            print(i,f\"{mat[i-1,i]:>8} {mat[i-1,6]:>10} {mat[i-1,7]:>11}\")\n",
    "        print(6,\"        \",f\"{mat[5,6]:>10} {mat[5,7]:>11}\")\n",
    "    return"
   ]
  },
  {
   "cell_type": "markdown",
   "metadata": {},
   "source": [
    "## Subset down to only students who ever have/had a COS major"
   ]
  },
  {
   "cell_type": "code",
   "execution_count": 30,
   "metadata": {},
   "outputs": [],
   "source": [
    "dfC = df.loc[(df.ID.isin(IDs_cos))]\n",
    "dfCL = dfL.loc[(dfL.ID.isin(IDs_cosL))]"
   ]
  },
  {
   "cell_type": "code",
   "execution_count": 31,
   "metadata": {},
   "outputs": [],
   "source": [
    "cohort_terms = cohort_terms_full\n",
    "cohort_termsL = list(range(2011,2161,10))"
   ]
  },
  {
   "cell_type": "code",
   "execution_count": 32,
   "metadata": {},
   "outputs": [],
   "source": [
    "# confidence level for confidence intervals\n",
    "conf = 95"
   ]
  },
  {
   "cell_type": "code",
   "execution_count": 33,
   "metadata": {},
   "outputs": [],
   "source": [
    "# number of bootstrap replicates for uncertainty estimates\n",
    "num_samples = 1000"
   ]
  },
  {
   "cell_type": "markdown",
   "metadata": {},
   "source": [
    "<br>\n",
    "\n",
    "---\n",
    "\n",
    "## Results Section 1: All COS students, biases in traditional graduation rate compared to using partial data as it becomes available\n",
    "\n",
    "Comparing grad rate for the fall 2013 cohort (traditional), which would be calculated using data from fall 2013 through summer 2019. So in fall 2019, that's what we'd say the graduation rate is. \n",
    "\n",
    "On the other hand, we could use the Markov model and include all the data from fall 2013 through summer 2019, including the not-yet-been-here-6-years students, and estimate a graduation rate. And it'll include info from the 2014 and 2015 cohorts, so should be closer to the actual graduate rate for the 2014 and 2015 cohorts, which will become available in summer 2020 and summer 2021.\n",
    "\n",
    "So the idea is that the Markov model leads to a grad rate computed in summer 2019, that is a better estimate/more forward looking, of the graduation rates that will become available in summer 2020 (2014 cohort), and in summer 2021 (2015 cohort). \n",
    "\n",
    "**Key Point: The Markov model yields a better indicator of future graduation rates/future student success.**\n"
   ]
  },
  {
   "cell_type": "markdown",
   "metadata": {},
   "source": [
    "### Traditional calculation:"
   ]
  },
  {
   "cell_type": "code",
   "execution_count": 34,
   "metadata": {},
   "outputs": [],
   "source": [
    "sygr_trad = {ct : None for ct in cohort_terms+[\"all\"]}\n",
    "\n",
    "# each cohort\n",
    "for ct in cohort_terms:\n",
    "    ID_beg1 = dfC.loc[(dfC[\"Cohort Term\"]==ct), \"ID\"].unique()\n",
    "    ID_grad = dfC.loc[(dfC[\"Cohort Term\"]==ct) &\n",
    "                      (dfC[\"Degree Term\"]>=ct) &\n",
    "                      (dfC[\"Degree Term\"]< ct+60),\"ID\"].unique()\n",
    "    sygr_trad[ct] = len(ID_grad)/len(ID_beg1)\n",
    "\n",
    "# overall:\n",
    "ID_beg1 = dfC.loc[(dfC[\"Cohort Term\"].isin(cohort_terms)), \"ID\"].unique()\n",
    "ID_grad = dfC.loc[(dfC[\"Cohort Term\"]==cohort_terms[0]) &\n",
    "                  (dfC[\"Degree Term\"]>=cohort_terms[0]) &\n",
    "                  (dfC[\"Degree Term\"]< cohort_terms[0]+60),\"ID\"].unique()\n",
    "if len(cohort_terms) > 1:\n",
    "    for ct in cohort_terms[1:]:\n",
    "        new = dfC.loc[(dfC[\"Cohort Term\"]==ct) &\n",
    "                      (dfC[\"Degree Term\"]>=ct) &\n",
    "                      (dfC[\"Degree Term\"]< ct+60),\"ID\"].unique()\n",
    "        ID_grad = list(set.union(set(ID_grad), set(new)))\n",
    "sygr_trad[\"all\"] = len(ID_grad)/len(ID_beg1)"
   ]
  },
  {
   "cell_type": "code",
   "execution_count": 35,
   "metadata": {
    "scrolled": true
   },
   "outputs": [
    {
     "data": {
      "text/plain": [
       "{2131: 0.7063829787234043,\n",
       " 2141: 0.7086614173228346,\n",
       " 2151: 0.7330827067669173,\n",
       " 'all': 0.7165562913907285}"
      ]
     },
     "execution_count": 35,
     "metadata": {},
     "output_type": "execute_result"
    }
   ],
   "source": [
    "sygr_trad"
   ]
  },
  {
   "cell_type": "markdown",
   "metadata": {},
   "source": [
    "### Traditional, but bootstrapping for uncertainty"
   ]
  },
  {
   "cell_type": "markdown",
   "metadata": {},
   "source": [
    "atm, the code below is checking for students who are taking courses during their cohort term or the following semester. this isn't being applied to the \"all\" calculation. this is to see if that accounts for the difference between the traditional and markov grad rates."
   ]
  },
  {
   "cell_type": "code",
   "execution_count": 36,
   "metadata": {},
   "outputs": [],
   "source": [
    "sygr_trad_bs = {ct : np.zeros(num_samples) for ct in cohort_terms+[\"all\"]}\n",
    "ID_beg1_trad = {ct : None for ct in cohort_terms}\n",
    "\n",
    "for ib in range(num_samples):    \n",
    "    for ct in cohort_terms:\n",
    "        ID_beg1_trad[ct] = dfC.loc[(dfC[\"Cohort Term\"]==ct) & \n",
    "                                   (dfC[\"Term\"]>=ct) & (dfC[\"Term\"] < ct+10), \"ID\"].unique() # who all is in the full data set?\n",
    "        IDBS = np.unique(np.random.choice(ID_beg1_trad[ct], size=len(ID_beg1_trad[ct]), replace=True)) # bootstrap resample of the full data\n",
    "        dfBS = dfC.loc[dfC.ID.isin(IDBS)].copy() # resampled data for just this cohort\n",
    "        ID_grad = dfBS.loc[(dfBS[\"Cohort Term\"]==ct) &\n",
    "                           (dfBS[\"Degree Term\"]>=ct) &\n",
    "                           (dfBS[\"Degree Term\"]< ct+60),\"ID\"].unique()\n",
    "        sygr_trad_bs[ct][ib] = len(ID_grad)/len(IDBS)\n",
    "\n",
    "    # overall:\n",
    "    ID_beg1 = np.array(list(ID_beg1_trad[2131])+list(ID_beg1_trad[2141])+list(ID_beg1_trad[2151]))\n",
    "    IDBS = np.unique(np.random.choice(ID_beg1, size=len(ID_beg1), replace=True)) # bootstrap resample of the full data\n",
    "    dfBS = dfC.loc[dfC.ID.isin(IDBS)].copy() # resampled data for just this cohort\n",
    "    ID_grad = dfBS.loc[(dfBS[\"Cohort Term\"]==cohort_terms[0]) &\n",
    "                       (dfBS[\"Degree Term\"]>=cohort_terms[0]) &\n",
    "                       (dfBS[\"Degree Term\"]< cohort_terms[0]+60),\"ID\"].unique()\n",
    "    if len(cohort_terms) > 1:\n",
    "        for ct in cohort_terms[1:]:\n",
    "            new = dfBS.loc[(dfBS[\"Cohort Term\"]==ct) &\n",
    "                           (dfBS[\"Degree Term\"]>=ct) &\n",
    "                           (dfBS[\"Degree Term\"]< ct+60),\"ID\"].unique()\n",
    "            ID_grad = list(set.union(set(ID_grad), set(new)))\n",
    "    sygr_trad_bs[\"all\"][ib] = len(ID_grad)/len(IDBS)"
   ]
  },
  {
   "cell_type": "code",
   "execution_count": 37,
   "metadata": {},
   "outputs": [
    {
     "name": "stdout",
     "output_type": "stream",
     "text": [
      "2131 [0.66438236 0.70588235 0.7482027 ]\n",
      "2141 [0.66242038 0.70700637 0.75308642]\n",
      "2151 [0.68711656 0.73170732 0.77382404]\n",
      "all [0.69214034 0.71622778 0.74004804]\n"
     ]
    }
   ],
   "source": [
    "for ct in sygr_trad_bs.keys():\n",
    "    print(ct, np.percentile(sygr_trad_bs[ct], [(100-conf)/2,50,100-(100-conf)/2]))"
   ]
  },
  {
   "cell_type": "markdown",
   "metadata": {},
   "source": [
    "#### Check that CIs are stable with respect to `num_samples`\n",
    "\n",
    "Just using 2131 for this as a representative case"
   ]
  },
  {
   "cell_type": "code",
   "execution_count": 38,
   "metadata": {},
   "outputs": [],
   "source": [
    "sygr_trad_check = {int(k*num_samples) : np.zeros(int(k*num_samples)) for k in [2,4,8]}\n",
    "ct = 2131\n",
    "for k in sygr_trad_check.keys():\n",
    "    for ib in range(k):    \n",
    "        IDBS = np.unique(np.random.choice(ID_beg1_trad[ct], size=len(ID_beg1_trad[ct]), replace=True)) # bootstrap resample of the full data\n",
    "        dfBS = dfC.loc[dfC.ID.isin(IDBS)].copy() # resampled data for just this cohort\n",
    "        ID_grad = dfBS.loc[(dfBS[\"Cohort Term\"]==ct) &\n",
    "                           (dfBS[\"Degree Term\"]>=ct) &\n",
    "                           (dfBS[\"Degree Term\"]< ct+60),\"ID\"].unique()\n",
    "        sygr_trad_check[k][ib] = len(ID_grad)/len(IDBS)"
   ]
  },
  {
   "cell_type": "code",
   "execution_count": 39,
   "metadata": {},
   "outputs": [
    {
     "name": "stdout",
     "output_type": "stream",
     "text": [
      "2000 [0.66225166 0.70469799 0.75      ]\n",
      "4000 [0.66216216 0.70469799 0.75      ]\n",
      "8000 [0.66225166 0.70629371 0.75163399]\n"
     ]
    }
   ],
   "source": [
    "for k in sygr_trad_check.keys():\n",
    "    print(k, np.percentile(sygr_trad_check[k], [(100-conf)/2,50,100-(100-conf)/2]))"
   ]
  },
  {
   "cell_type": "markdown",
   "metadata": {},
   "source": [
    "### Markov model:"
   ]
  },
  {
   "cell_type": "markdown",
   "metadata": {},
   "source": [
    "#### Positive control: using only the cohort term of students:"
   ]
  },
  {
   "cell_type": "code",
   "execution_count": 40,
   "metadata": {},
   "outputs": [],
   "source": [
    "sygr_mark_ctrl = {ct : None for ct in cohort_terms+[\"all\"]}\n",
    "nmats_com = {ct : None for ct in cohort_terms+[\"all\"]}\n",
    "pmats_com = {ct : None for ct in cohort_terms+[\"all\"]}\n",
    "\n",
    "# each cohort\n",
    "for ct in cohort_terms:\n",
    "    cohorts = [ct]\n",
    "    nmats = {c : None for c in cohorts+[\"all\"]}\n",
    "    pmats = {c : None for c in cohorts+[\"all\"]}\n",
    "    for c in cohorts:\n",
    "        nmats[c] = compute_matrix_las(dfC,c)\n",
    "        pmats[c] = normalize(nmats[c])\n",
    "    nmats[\"all\"] = np.sum([nmats[c] for c in cohorts], axis=0)\n",
    "    pmats[\"all\"] = normalize(nmats[\"all\"])\n",
    "    sygr_mark_ctrl[ct] = np.linalg.matrix_power(pmats[\"all\"],6)[0,7]\n",
    "    nmats_com[ct] = nmats[\"all\"]\n",
    "    pmats_com[ct] = normalize(nmats_com[ct])\n",
    "    \n",
    "# combined\n",
    "nmats_com[\"all\"] = np.sum([nmats_com[ct] for ct in cohort_terms], axis=0)\n",
    "pmats_com[\"all\"] = normalize(nmats_com[\"all\"])\n",
    "sygr_mark_ctrl[\"all\"] = np.linalg.matrix_power(pmats_com[\"all\"],6)[0,7]"
   ]
  },
  {
   "cell_type": "markdown",
   "metadata": {},
   "source": [
    "#### Now using all of the cohorts that would be available at the time"
   ]
  },
  {
   "cell_type": "code",
   "execution_count": 41,
   "metadata": {
    "scrolled": true
   },
   "outputs": [],
   "source": [
    "sygr_mark = {ct : None for ct in cohort_terms+[\"all\"]}\n",
    "nmats_com = {ct : None for ct in cohort_terms+[\"all\"]}\n",
    "pmats_com = {ct : None for ct in cohort_terms+[\"all\"]}\n",
    "\n",
    "# each cohort\n",
    "for ct in cohort_terms:\n",
    "    cohorts = [ct,ct+10,ct+20,ct+30,ct+40]\n",
    "    nmats = {c : None for c in cohorts+[\"all\"]}\n",
    "    pmats = {c : None for c in cohorts+[\"all\"]}\n",
    "    for c in cohorts:\n",
    "        nmats[c] = compute_matrix_las(dfC,c)\n",
    "        pmats[c] = normalize(nmats[c])\n",
    "    nmats[\"all\"] = np.sum([nmats[c] for c in cohorts], axis=0)\n",
    "    pmats[\"all\"] = normalize(nmats[\"all\"])\n",
    "    sygr_mark[ct] = np.linalg.matrix_power(pmats[\"all\"],6)[0,7]\n",
    "    nmats_com[ct] = nmats[\"all\"]\n",
    "    pmats_com[ct] = normalize(nmats_com[ct])\n",
    "    \n",
    "# combined\n",
    "nmats_com[\"all\"] = np.sum([nmats_com[ct] for ct in cohort_terms], axis=0)\n",
    "pmats_com[\"all\"] = normalize(nmats_com[\"all\"])\n",
    "sygr_mark[\"all\"] = np.linalg.matrix_power(pmats_com[\"all\"],6)[0,7]"
   ]
  },
  {
   "cell_type": "code",
   "execution_count": 42,
   "metadata": {},
   "outputs": [
    {
     "data": {
      "text/plain": [
       "{2131: 0.7063829787234043,\n",
       " 2141: 0.7086614173228346,\n",
       " 2151: 0.7330827067669173,\n",
       " 'all': 0.7165562913907285}"
      ]
     },
     "execution_count": 42,
     "metadata": {},
     "output_type": "execute_result"
    }
   ],
   "source": [
    "sygr_trad"
   ]
  },
  {
   "cell_type": "code",
   "execution_count": 43,
   "metadata": {},
   "outputs": [
    {
     "data": {
      "text/plain": [
       "{2131: 0.7063829787234043,\n",
       " 2141: 0.7086614173228347,\n",
       " 2151: 0.7330827067669173,\n",
       " 'all': 0.7165562913907285}"
      ]
     },
     "execution_count": 43,
     "metadata": {},
     "output_type": "execute_result"
    }
   ],
   "source": [
    "sygr_mark_ctrl # with only cohort term"
   ]
  },
  {
   "cell_type": "code",
   "execution_count": 44,
   "metadata": {},
   "outputs": [
    {
     "data": {
      "text/plain": [
       "{2131: 0.719439735911366,\n",
       " 2141: 0.7153478457041593,\n",
       " 2151: 0.7156672018466926,\n",
       " 'all': 0.7149520260706188}"
      ]
     },
     "execution_count": 44,
     "metadata": {},
     "output_type": "execute_result"
    }
   ],
   "source": [
    "sygr_mark # with all cohorts present in data at the time"
   ]
  },
  {
   "cell_type": "markdown",
   "metadata": {},
   "source": [
    "### Markov, but bootstrapping for uncertainty"
   ]
  },
  {
   "attachments": {},
   "cell_type": "markdown",
   "metadata": {},
   "source": [
    "#### with only full data cohorts (for Table 2)"
   ]
  },
  {
   "cell_type": "code",
   "execution_count": 45,
   "metadata": {},
   "outputs": [],
   "source": [
    "sygr_mark_bs = {ct : np.zeros(num_samples) for ct in cohort_terms+[\"all\"]}\n",
    "\n",
    "for b in range(num_samples):\n",
    "    nmats_com = {ct : None for ct in cohort_terms+[\"all\"]}\n",
    "    pmats_com = {ct : None for ct in cohort_terms+[\"all\"]}\n",
    "\n",
    "    # each cohort\n",
    "    for ct in cohort_terms:\n",
    "        dfC_sub = dfC.loc[(dfC.Term >= ct) & (dfC.Term < ct+60)] # what data would we have at the time?\n",
    "        IDs_sub = dfC_sub.ID.unique() # who all is in the full data set?\n",
    "        IDBS = np.unique(np.random.choice(IDs_sub, size=len(IDs_sub), replace=True)) # bootstrap resample of the full data\n",
    "        dfBS = dfC_sub.loc[dfC_sub.ID.isin(IDBS)].copy() # resampled data for just this cohort term\n",
    "\n",
    "        cohorts = [ct]\n",
    "        nmats = {c : None for c in cohorts+[\"all\"]}\n",
    "        pmats = {c : None for c in cohorts+[\"all\"]}\n",
    "        for c in cohorts:\n",
    "            nmats[c] = compute_matrix_las(dfBS,c)\n",
    "            pmats[c] = normalize(nmats[c])\n",
    "        nmats[\"all\"] = np.sum([nmats[c] for c in cohorts], axis=0)\n",
    "        pmats[\"all\"] = normalize(nmats[\"all\"])\n",
    "        sygr_mark_bs[ct][b] = np.linalg.matrix_power(pmats[\"all\"],6)[0,7]\n",
    "        nmats_com[ct] = nmats[\"all\"]\n",
    "        pmats_com[ct] = normalize(nmats_com[ct])\n",
    "\n",
    "    # combined\n",
    "    nmats_com[\"all\"] = np.sum([nmats_com[ct] for ct in cohort_terms], axis=0)\n",
    "    pmats_com[\"all\"] = normalize(nmats_com[\"all\"])\n",
    "    sygr_mark_bs[\"all\"][b] = np.linalg.matrix_power(pmats_com[\"all\"],6)[0,7]\n"
   ]
  },
  {
   "cell_type": "code",
   "execution_count": 46,
   "metadata": {},
   "outputs": [
    {
     "name": "stdout",
     "output_type": "stream",
     "text": [
      "2131 TRAD: [0.664 0.706 0.748] [0.084]\n",
      "2131 MARK: [0.662 0.707 0.752] [0.089]\n",
      "2131 % change in CI width: [0.068]\n",
      "\n",
      "2141 TRAD: [0.662 0.707 0.753] [0.091]\n",
      "2141 MARK: [0.665 0.708 0.752] [0.087]\n",
      "2141 % change in CI width: [-0.042]\n",
      "\n",
      "2151 TRAD: [0.687 0.732 0.774] [0.087]\n",
      "2151 MARK: [0.694 0.734 0.773] [0.08]\n",
      "2151 % change in CI width: [-0.082]\n",
      "\n",
      "all TRAD: [0.692 0.716 0.74 ] [0.048]\n",
      "all MARK: [0.691 0.717 0.741] [0.049]\n",
      "all % change in CI width: [0.026]\n",
      "\n"
     ]
    }
   ],
   "source": [
    "for ct in sygr_trad_bs.keys():\n",
    "    prcs_trad = np.percentile(sygr_trad_bs[ct], [(100-conf)/2,50,100-(100-conf)/2])\n",
    "    prcs_mark = np.percentile(sygr_mark_bs[ct], [(100-conf)/2,50,100-(100-conf)/2])\n",
    "    print(ct, \"TRAD:\", np.round(prcs_trad, 3), np.round(np.diff(prcs_trad[[0,2]]),3))\n",
    "    print(ct, \"MARK:\", np.round(prcs_mark, 3), np.round(np.diff(prcs_mark[[0,2]]),3))\n",
    "    print(ct, \"% change in CI width:\",np.round((np.diff(prcs_mark[[0,2]])-np.diff(prcs_trad[[0,2]]))/np.diff(prcs_trad[[0,2]]),3))\n",
    "    print(\"\")"
   ]
  },
  {
   "attachments": {},
   "cell_type": "markdown",
   "metadata": {},
   "source": [
    "#### with all cohorts available at that time (Table 3, Figure 1)"
   ]
  },
  {
   "cell_type": "code",
   "execution_count": 47,
   "metadata": {},
   "outputs": [],
   "source": [
    "sygr_mark_bs = {ct : np.zeros(num_samples) for ct in cohort_terms+[\"all\"]}\n",
    "\n",
    "for b in range(num_samples):\n",
    "    nmats_com = {ct : None for ct in cohort_terms+[\"all\"]}\n",
    "    pmats_com = {ct : None for ct in cohort_terms+[\"all\"]}\n",
    "\n",
    "    # each cohort\n",
    "    for ct in cohort_terms:\n",
    "        dfC_sub = dfC.loc[(dfC.Term >= ct) & (dfC.Term < ct+60)] # what data would we have at the time?\n",
    "        IDs_sub = dfC_sub.ID.unique() # who all is in the full data set?\n",
    "        IDBS = np.unique(np.random.choice(IDs_sub, size=len(IDs_sub), replace=True)) # bootstrap resample of the full data\n",
    "        dfBS = dfC_sub.loc[dfC_sub.ID.isin(IDBS)].copy() # resampled data for just this cohort term\n",
    "\n",
    "        cohorts = [ct,ct+10,ct+20,ct+30,ct+40]\n",
    "        nmats = {c : None for c in cohorts+[\"all\"]}\n",
    "        pmats = {c : None for c in cohorts+[\"all\"]}\n",
    "        for c in cohorts:\n",
    "            nmats[c] = compute_matrix_las(dfBS,c)\n",
    "            pmats[c] = normalize(nmats[c])\n",
    "        nmats[\"all\"] = np.sum([nmats[c] for c in cohorts], axis=0)\n",
    "        pmats[\"all\"] = normalize(nmats[\"all\"])\n",
    "        sygr_mark_bs[ct][b] = np.linalg.matrix_power(pmats[\"all\"],6)[0,7]\n",
    "        nmats_com[ct] = nmats[\"all\"]\n",
    "        pmats_com[ct] = normalize(nmats_com[ct])\n",
    "\n",
    "    # combined\n",
    "    nmats_com[\"all\"] = np.sum([nmats_com[ct] for ct in cohort_terms], axis=0)\n",
    "    pmats_com[\"all\"] = normalize(nmats_com[\"all\"])\n",
    "    sygr_mark_bs[\"all\"][b] = np.linalg.matrix_power(pmats_com[\"all\"],6)[0,7]\n"
   ]
  },
  {
   "cell_type": "code",
   "execution_count": 48,
   "metadata": {},
   "outputs": [
    {
     "name": "stdout",
     "output_type": "stream",
     "text": [
      "2131 TRAD: [0.664 0.706 0.748] [0.084]\n",
      "2131 MARK: [0.677 0.706 0.734] [0.056]\n",
      "2131 % change in CI width: [-0.326]\n",
      "\n",
      "2141 TRAD: [0.662 0.707 0.753] [0.091]\n",
      "2141 MARK: [0.684 0.709 0.739] [0.055]\n",
      "2141 % change in CI width: [-0.393]\n",
      "\n",
      "2151 TRAD: [0.687 0.732 0.774] [0.087]\n",
      "2151 MARK: [0.691 0.715 0.74 ] [0.049]\n",
      "2151 % change in CI width: [-0.436]\n",
      "\n",
      "all TRAD: [0.692 0.716 0.74 ] [0.048]\n",
      "all MARK: [0.696 0.711 0.727] [0.031]\n",
      "all % change in CI width: [-0.344]\n",
      "\n"
     ]
    }
   ],
   "source": [
    "for ct in sygr_trad_bs.keys():\n",
    "    prcs_trad = np.percentile(sygr_trad_bs[ct], [(100-conf)/2,50,100-(100-conf)/2])\n",
    "    prcs_mark = np.percentile(sygr_mark_bs[ct], [(100-conf)/2,50,100-(100-conf)/2])\n",
    "    print(ct, \"TRAD:\", np.round(prcs_trad, 3), np.round(np.diff(prcs_trad[[0,2]]),3))\n",
    "    print(ct, \"MARK:\", np.round(prcs_mark, 3), np.round(np.diff(prcs_mark[[0,2]]),3))\n",
    "    print(ct, \"% change in CI width:\",np.round((np.diff(prcs_mark[[0,2]])-np.diff(prcs_trad[[0,2]]))/np.diff(prcs_trad[[0,2]]),3))\n",
    "    print(\"\")"
   ]
  },
  {
   "attachments": {},
   "cell_type": "markdown",
   "metadata": {},
   "source": [
    "Figure 1"
   ]
  },
  {
   "cell_type": "code",
   "execution_count": 49,
   "metadata": {},
   "outputs": [
    {
     "data": {
      "image/png": "[encoded data removed]",
      "text/plain": [
       "<Figure size 600x600 with 3 Axes>"
      ]
     },
     "metadata": {},
     "output_type": "display_data"
    }
   ],
   "source": [
    "tmp = {\"Traditional\" : sygr_trad_bs, \"Markov\" : sygr_mark_bs}\n",
    "for k in tmp.keys():\n",
    "    if 2131 in tmp[k].keys():\n",
    "        tmp[k][\"2013\"] = tmp[k][2131].copy()\n",
    "        del tmp[k][2131]\n",
    "        tmp[k][\"2014\"] = tmp[k][2141].copy()\n",
    "        del tmp[k][2141]\n",
    "        tmp[k][\"2015\"] = tmp[k][2151].copy()\n",
    "        del tmp[k][2151]\n",
    "        tmp[k][\"All\"] = tmp[k][\"all\"].copy()\n",
    "        del tmp[k][\"all\"]\n",
    "\n",
    "fig, ax = joypy.joyplot(tmp, color=[\"C9\",\"C6\",\"C3\",\"C1\"], alpha=0.45, overlap=.5, legend=True, \n",
    "                        grid=True, figsize=(6,6), xlabelsize=14, ylabelsize=14, x_range=[0.63,0.80])\n",
    "ax[2].set_xlabel(\"6-year graduation rate (%)\", fontsize=14)\n",
    "ax[2].set_xticks(np.arange(0.64,0.78,0.02))\n",
    "ax[2].set_xticklabels(list(range(64,80,2)))\n",
    "ax[0].text(0.63,45,\"a.\",fontsize=14)\n",
    "ax[2].text(0.63,0.43,\"b.\",fontsize=14)\n",
    "ax[0].legend(fontsize=14);"
   ]
  },
  {
   "cell_type": "markdown",
   "metadata": {},
   "source": [
    "<br>\n",
    "\n",
    "---\n",
    "\n",
    "## Results Section 2: Drill down to subsets of students, show that the biases from the traditional calculation are worse for these smaller groups (AALANA, first-gen, etc)\n",
    "\n",
    "Three comparisons we can make, since RIT has been on semesters:\n",
    "* Traditional (fall 2013 cohort, viewed in summer 2019) vs Markov (fall 2013-summer 2019 data)\n",
    "* Traditional (fall 2014 cohort, viewed in summer 2020) vs Markov (fall 2014-summer 2020 data)\n",
    "* Traditional (fall 2015 cohort, viewed in summer 2021) vs Markov (fall 2015-summer 2021 data)\n",
    "\n",
    "Look at traditional vs Markov grad rates for:\n",
    "* AALANA students\n",
    "* first generation students\n",
    "* female in COS\n",
    "\n",
    "**Key Point: The biases between the traditional and Markov approaches are larger/less stable for smaller groups of students.** Demonstrated by the AALANA grad rate for 2151 not even being in the 95% CI from the 2131 cohort. (and the AALANA subgroup is the smallest, at about 30-40 students per cohort) \n",
    "\n",
    "The dispairity in grad rates between URM students and non-URM students is well-documented, and there are widespread efforts to address this issue. However, those efforts would be undermined if their efficacy is evaluated using biased metrics. Markov method provides greater confidence."
   ]
  },
  {
   "cell_type": "markdown",
   "metadata": {},
   "source": [
    "### AALANA students"
   ]
  },
  {
   "cell_type": "markdown",
   "metadata": {},
   "source": [
    "#### Traditional:"
   ]
  },
  {
   "cell_type": "code",
   "execution_count": 50,
   "metadata": {},
   "outputs": [
    {
     "name": "stdout",
     "output_type": "stream",
     "text": [
      "N =...\n",
      "2131 31\n",
      "2141 42\n",
      "2151 34\n",
      "All: 107\n"
     ]
    }
   ],
   "source": [
    "sygr_trad_bs_aalana = {ct : np.zeros(num_samples) for ct in cohort_terms+[\"all\"]}\n",
    "ID_beg1_trad = {ct : None for ct in cohort_terms}\n",
    "\n",
    "dfSub = dfC.loc[dfC.AALANA==\"AALANA\"]\n",
    "for ib in range(num_samples):    \n",
    "    for ct in cohort_terms:\n",
    "        ID_beg1_trad[ct] = dfSub.loc[(dfSub[\"Cohort Term\"]==ct) & \n",
    "                                     (dfSub[\"Term\"]>=ct) & (dfSub[\"Term\"] < ct+10), \"ID\"].unique() # who all is in the full data set?\n",
    "        IDBS = np.unique(np.random.choice(ID_beg1_trad[ct], size=len(ID_beg1_trad[ct]), replace=True)) # bootstrap resample of the full data\n",
    "        dfBS = dfSub.loc[dfSub.ID.isin(IDBS)].copy() # resampled data for just this cohort\n",
    "        ID_grad = dfBS.loc[(dfBS[\"Cohort Term\"]==ct) &\n",
    "                           (dfBS[\"Degree Term\"]>=ct) &\n",
    "                           (dfBS[\"Degree Term\"]< ct+60),\"ID\"].unique()\n",
    "        sygr_trad_bs_aalana[ct][ib] = len(ID_grad)/len(IDBS)\n",
    "\n",
    "    # overall:\n",
    "    ID_beg1 = np.array(list(ID_beg1_trad[2131])+list(ID_beg1_trad[2141])+list(ID_beg1_trad[2151]))\n",
    "    IDBS = np.unique(np.random.choice(ID_beg1, size=len(ID_beg1), replace=True)) # bootstrap resample of the full data\n",
    "    dfBS = dfSub.loc[dfSub.ID.isin(IDBS)].copy() # resampled data for just this cohort\n",
    "    ID_grad = dfBS.loc[(dfBS[\"Cohort Term\"]==cohort_terms[0]) &\n",
    "                       (dfBS[\"Degree Term\"]>=cohort_terms[0]) &\n",
    "                       (dfBS[\"Degree Term\"]< cohort_terms[0]+60),\"ID\"].unique()\n",
    "    if len(cohort_terms) > 1:\n",
    "        for ct in cohort_terms[1:]:\n",
    "            new = dfBS.loc[(dfBS[\"Cohort Term\"]==ct) &\n",
    "                           (dfBS[\"Degree Term\"]>=ct) &\n",
    "                           (dfBS[\"Degree Term\"]< ct+60),\"ID\"].unique()\n",
    "            ID_grad = list(set.union(set(ID_grad), set(new)))\n",
    "    sygr_trad_bs_aalana[\"all\"][ib] = len(ID_grad)/len(IDBS)\n",
    "\n",
    "print(\"N =...\")\n",
    "for k in ID_beg1_trad.keys():\n",
    "    print(k, len(ID_beg1_trad[k]))\n",
    "print(\"All:\",len(ID_beg1))\n"
   ]
  },
  {
   "cell_type": "markdown",
   "metadata": {},
   "source": [
    "#### Markov:"
   ]
  },
  {
   "cell_type": "code",
   "execution_count": 51,
   "metadata": {},
   "outputs": [],
   "source": [
    "sygr_mark_bs_aalana = {ct : np.zeros(num_samples) for ct in cohort_terms+[\"all\"]}\n",
    "\n",
    "dfSub = dfC.loc[dfC.AALANA==\"AALANA\"]\n",
    "for b in range(num_samples):\n",
    "    nmats_com = {ct : None for ct in cohort_terms+[\"all\"]}\n",
    "    pmats_com = {ct : None for ct in cohort_terms+[\"all\"]}\n",
    "\n",
    "    # each cohort\n",
    "    for ct in cohort_terms:\n",
    "        dfSub_sub = dfSub.loc[(dfSub.Term >= ct) & (dfSub.Term < ct+60)] # what data would we have at the time?\n",
    "        IDs_sub = dfSub_sub.ID.unique() # who all is in the full data set?\n",
    "        IDBS = np.unique(np.random.choice(IDs_sub, size=len(IDs_sub), replace=True)) # bootstrap resample of the full data\n",
    "        dfBS = dfSub_sub.loc[dfSub_sub.ID.isin(IDBS)].copy() # resampled data for just this cohort term\n",
    "\n",
    "        cohorts = [ct,ct+10,ct+20,ct+30,ct+40]\n",
    "        nmats = {c : None for c in cohorts+[\"all\"]}\n",
    "        pmats = {c : None for c in cohorts+[\"all\"]}\n",
    "        for c in cohorts:\n",
    "            nmats[c] = compute_matrix_las(dfBS,c)\n",
    "            pmats[c] = normalize(nmats[c])\n",
    "        nmats[\"all\"] = np.sum([nmats[c] for c in cohorts], axis=0)\n",
    "        pmats[\"all\"] = normalize(nmats[\"all\"])\n",
    "        sygr_mark_bs_aalana[ct][b] = np.linalg.matrix_power(pmats[\"all\"],6)[0,7]\n",
    "        nmats_com[ct] = nmats[\"all\"]\n",
    "        pmats_com[ct] = normalize(nmats_com[ct])\n",
    "\n",
    "    # combined\n",
    "    nmats_com[\"all\"] = np.sum([nmats_com[ct] for ct in cohort_terms], axis=0)\n",
    "    pmats_com[\"all\"] = normalize(nmats_com[\"all\"])\n",
    "    sygr_mark_bs_aalana[\"all\"][b] = np.linalg.matrix_power(pmats_com[\"all\"],6)[0,7]\n"
   ]
  },
  {
   "attachments": {},
   "cell_type": "markdown",
   "metadata": {},
   "source": [
    "Table 4, top part:"
   ]
  },
  {
   "cell_type": "code",
   "execution_count": 52,
   "metadata": {},
   "outputs": [
    {
     "name": "stdout",
     "output_type": "stream",
     "text": [
      "2131 TRAD: [0.4   0.55  0.684] [0.284]\n",
      "2131 MARK: [0.54  0.619 0.706] [0.167]\n",
      "2131 % change in CI width: [-0.414]\n",
      "\n",
      "2141 TRAD: [0.48  0.593 0.704] [0.224]\n",
      "2141 MARK: [0.567 0.644 0.734] [0.167]\n",
      "2141 % change in CI width: [-0.252]\n",
      "\n",
      "2151 TRAD: [0.591 0.702 0.826] [0.235]\n",
      "2151 MARK: [0.619 0.692 0.767] [0.149]\n",
      "2151 % change in CI width: [-0.367]\n",
      "\n",
      "all TRAD: [0.551 0.618 0.687] [0.136]\n",
      "all MARK: [0.611 0.653 0.702] [0.091]\n",
      "all % change in CI width: [-0.328]\n",
      "\n"
     ]
    }
   ],
   "source": [
    "for ct in sygr_trad_bs_aalana.keys():\n",
    "    prcs_trad = np.percentile(sygr_trad_bs_aalana[ct], [(100-conf)/2,50,100-(100-conf)/2])\n",
    "    prcs_mark = np.percentile(sygr_mark_bs_aalana[ct], [(100-conf)/2,50,100-(100-conf)/2])\n",
    "    print(ct, \"TRAD:\", np.round(prcs_trad, 3), np.round(np.diff(prcs_trad[[0,2]]),3))\n",
    "    print(ct, \"MARK:\", np.round(prcs_mark, 3), np.round(np.diff(prcs_mark[[0,2]]),3))\n",
    "    print(ct, \"% change in CI width:\",np.round((np.diff(prcs_mark[[0,2]])-np.diff(prcs_trad[[0,2]]))/np.diff(prcs_trad[[0,2]]),3))\n",
    "    print(\"\")"
   ]
  },
  {
   "cell_type": "markdown",
   "metadata": {},
   "source": [
    "Notably, the 2131 traditional grad rate estimate's CI (38-68%) doesn't even include the 2151 traditional grad rate (71%), and the 2141 just barely does."
   ]
  },
  {
   "cell_type": "code",
   "execution_count": 77,
   "metadata": {},
   "outputs": [
    {
     "ename": "SyntaxError",
     "evalue": "invalid syntax (2076352488.py, line 1)",
     "output_type": "error",
     "traceback": [
      "\u001b[0;36m  Cell \u001b[0;32mIn[77], line 1\u001b[0;36m\u001b[0m\n\u001b[0;31m    Figure 2, left part\u001b[0m\n\u001b[0m           ^\u001b[0m\n\u001b[0;31mSyntaxError\u001b[0m\u001b[0;31m:\u001b[0m invalid syntax\n"
     ]
    }
   ],
   "source": [
    "Figure 2, left part"
   ]
  },
  {
   "cell_type": "code",
   "execution_count": 53,
   "metadata": {},
   "outputs": [
    {
     "data": {
      "image/png": "[encoded data removed]",
      "text/plain": [
       "<Figure size 600x600 with 3 Axes>"
      ]
     },
     "metadata": {},
     "output_type": "display_data"
    }
   ],
   "source": [
    "tmp = {\"Traditional\" : sygr_trad_bs_aalana, \"Markov\" : sygr_mark_bs_aalana}\n",
    "for k in tmp.keys():\n",
    "    if 2131 in tmp[k].keys():\n",
    "        tmp[k][\"2013\"] = tmp[k][2131].copy()\n",
    "        del tmp[k][2131]\n",
    "        tmp[k][\"2014\"] = tmp[k][2141].copy()\n",
    "        del tmp[k][2141]\n",
    "        tmp[k][\"2015\"] = tmp[k][2151].copy()\n",
    "        del tmp[k][2151]\n",
    "        tmp[k][\"All\"] = tmp[k][\"all\"].copy()\n",
    "        del tmp[k][\"all\"]\n",
    "\n",
    "fig, ax = joypy.joyplot(tmp, color=[\"C9\",\"C6\",\"C3\",\"C1\"], alpha=0.45, overlap=.5, legend=True, \n",
    "                        grid=True, figsize=(6,6), xlabelsize=14, ylabelsize=14, x_range=[0.29,1.01])\n",
    "ax[2].set_xlabel(\"6-year graduation rate (%)\", fontsize=14)\n",
    "ax[2].set_xticks(np.arange(0.3,1.1,0.1))\n",
    "ax[2].set_xticklabels(list(range(30,110,10)))\n",
    "ax[0].set_title(\"AALANA students\", fontsize=14)\n",
    "ax[0].text(0.26,15,\"a.\",fontsize=14)\n",
    "ax[2].text(0.26,0.43,\"c.\",fontsize=14)\n",
    "ax[0].legend(fontsize=14);"
   ]
  },
  {
   "cell_type": "markdown",
   "metadata": {},
   "source": [
    "### First generation students"
   ]
  },
  {
   "cell_type": "markdown",
   "metadata": {},
   "source": [
    "#### Traditional:"
   ]
  },
  {
   "cell_type": "code",
   "execution_count": 54,
   "metadata": {},
   "outputs": [
    {
     "name": "stdout",
     "output_type": "stream",
     "text": [
      "N =...\n",
      "2131 54\n",
      "2141 51\n",
      "2151 64\n",
      "All: 169\n"
     ]
    }
   ],
   "source": [
    "sygr_trad_bs_firstgen = {ct : np.zeros(num_samples) for ct in cohort_terms+[\"all\"]}\n",
    "ID_beg1_trad = {ct : None for ct in cohort_terms}\n",
    "\n",
    "dfSub = dfC.loc[dfC[\"First Generation\"]==\"First Gen\"]\n",
    "for ib in range(num_samples):    \n",
    "    for ct in cohort_terms:\n",
    "        ID_beg1_trad[ct] = dfSub.loc[(dfSub[\"Cohort Term\"]==ct) & \n",
    "                                     (dfSub[\"Term\"]>=ct) & (dfSub[\"Term\"] < ct+10), \"ID\"].unique() # who all is in the full data set?\n",
    "        IDBS = np.unique(np.random.choice(ID_beg1_trad[ct], size=len(ID_beg1_trad[ct]), replace=True)) # bootstrap resample of the full data\n",
    "        dfBS = dfSub.loc[dfSub.ID.isin(IDBS)].copy() # resampled data for just this cohort\n",
    "        ID_grad = dfBS.loc[(dfBS[\"Cohort Term\"]==ct) &\n",
    "                           (dfBS[\"Degree Term\"]>=ct) &\n",
    "                           (dfBS[\"Degree Term\"]< ct+60),\"ID\"].unique()\n",
    "        sygr_trad_bs_firstgen[ct][ib] = len(ID_grad)/len(IDBS)\n",
    "\n",
    "    # overall:\n",
    "    ID_beg1 = np.array(list(ID_beg1_trad[2131])+list(ID_beg1_trad[2141])+list(ID_beg1_trad[2151]))\n",
    "    IDBS = np.unique(np.random.choice(ID_beg1, size=len(ID_beg1), replace=True)) # bootstrap resample of the full data\n",
    "    dfBS = dfSub.loc[dfSub.ID.isin(IDBS)].copy() # resampled data for just this cohort\n",
    "    ID_grad = dfBS.loc[(dfBS[\"Cohort Term\"]==cohort_terms[0]) &\n",
    "                       (dfBS[\"Degree Term\"]>=cohort_terms[0]) &\n",
    "                       (dfBS[\"Degree Term\"]< cohort_terms[0]+60),\"ID\"].unique()\n",
    "    if len(cohort_terms) > 1:\n",
    "        for ct in cohort_terms[1:]:\n",
    "            new = dfBS.loc[(dfBS[\"Cohort Term\"]==ct) &\n",
    "                           (dfBS[\"Degree Term\"]>=ct) &\n",
    "                           (dfBS[\"Degree Term\"]< ct+60),\"ID\"].unique()\n",
    "            ID_grad = list(set.union(set(ID_grad), set(new)))\n",
    "    sygr_trad_bs_firstgen[\"all\"][ib] = len(ID_grad)/len(IDBS)\n",
    "\n",
    "print(\"N =...\")\n",
    "for k in ID_beg1_trad.keys():\n",
    "    print(k, len(ID_beg1_trad[k]))\n",
    "print(\"All:\",len(ID_beg1))\n"
   ]
  },
  {
   "cell_type": "markdown",
   "metadata": {},
   "source": [
    "#### Markov:"
   ]
  },
  {
   "cell_type": "code",
   "execution_count": 55,
   "metadata": {},
   "outputs": [],
   "source": [
    "sygr_mark_bs_firstgen = {ct : np.zeros(num_samples) for ct in cohort_terms+[\"all\"]}\n",
    "\n",
    "dfSub = dfC.loc[dfC[\"First Generation\"]==\"First Gen\"]\n",
    "for b in range(num_samples):\n",
    "    nmats_com = {ct : None for ct in cohort_terms+[\"all\"]}\n",
    "    pmats_com = {ct : None for ct in cohort_terms+[\"all\"]}\n",
    "\n",
    "    # each cohort\n",
    "    for ct in cohort_terms:\n",
    "        dfSub_sub = dfSub.loc[(dfSub.Term >= ct) & (dfSub.Term < ct+60)] # what data would we have at the time?\n",
    "        IDs_sub = dfSub_sub.ID.unique() # who all is in the full data set?\n",
    "        IDBS = np.unique(np.random.choice(IDs_sub, size=len(IDs_sub), replace=True)) # bootstrap resample of the full data\n",
    "        dfBS = dfSub_sub.loc[dfSub_sub.ID.isin(IDBS)].copy() # resampled data for just this cohort term\n",
    "\n",
    "        cohorts = [ct,ct+10,ct+20,ct+30,ct+40]\n",
    "        nmats = {c : None for c in cohorts+[\"all\"]}\n",
    "        pmats = {c : None for c in cohorts+[\"all\"]}\n",
    "        for c in cohorts:\n",
    "            nmats[c] = compute_matrix_las(dfBS,c)\n",
    "            pmats[c] = normalize(nmats[c])\n",
    "        nmats[\"all\"] = np.sum([nmats[c] for c in cohorts], axis=0)\n",
    "        pmats[\"all\"] = normalize(nmats[\"all\"])\n",
    "        sygr_mark_bs_firstgen[ct][b] = np.linalg.matrix_power(pmats[\"all\"],6)[0,7]\n",
    "        nmats_com[ct] = nmats[\"all\"]\n",
    "        pmats_com[ct] = normalize(nmats_com[ct])\n",
    "\n",
    "    # combined\n",
    "    nmats_com[\"all\"] = np.sum([nmats_com[ct] for ct in cohort_terms], axis=0)\n",
    "    pmats_com[\"all\"] = normalize(nmats_com[\"all\"])\n",
    "    sygr_mark_bs_firstgen[\"all\"][b] = np.linalg.matrix_power(pmats_com[\"all\"],6)[0,7]\n"
   ]
  },
  {
   "attachments": {},
   "cell_type": "markdown",
   "metadata": {},
   "source": [
    "Table 4, bottom part:"
   ]
  },
  {
   "cell_type": "code",
   "execution_count": 56,
   "metadata": {},
   "outputs": [
    {
     "name": "stdout",
     "output_type": "stream",
     "text": [
      "2131 TRAD: [0.611 0.703 0.806] [0.194]\n",
      "2131 MARK: [0.643 0.7   0.756] [0.113]\n",
      "2131 % change in CI width: [-0.42]\n",
      "\n",
      "2141 TRAD: [0.571 0.667 0.767] [0.195]\n",
      "2141 MARK: [0.612 0.683 0.759] [0.147]\n",
      "2141 % change in CI width: [-0.246]\n",
      "\n",
      "2151 TRAD: [0.634 0.718 0.805] [0.171]\n",
      "2151 MARK: [0.65  0.699 0.752] [0.103]\n",
      "2151 % change in CI width: [-0.399]\n",
      "\n",
      "all TRAD: [0.643 0.697 0.748] [0.105]\n",
      "all MARK: [0.665 0.697 0.73 ] [0.065]\n",
      "all % change in CI width: [-0.377]\n",
      "\n"
     ]
    }
   ],
   "source": [
    "for ct in sygr_trad_bs_firstgen.keys():\n",
    "    prcs_trad = np.percentile(sygr_trad_bs_firstgen[ct], [(100-conf)/2,50,100-(100-conf)/2])\n",
    "    prcs_mark = np.percentile(sygr_mark_bs_firstgen[ct], [(100-conf)/2,50,100-(100-conf)/2])\n",
    "    print(ct, \"TRAD:\", np.round(prcs_trad, 3), np.round(np.diff(prcs_trad[[0,2]]),3))\n",
    "    print(ct, \"MARK:\", np.round(prcs_mark, 3), np.round(np.diff(prcs_mark[[0,2]]),3))\n",
    "    print(ct, \"% change in CI width:\",np.round((np.diff(prcs_mark[[0,2]])-np.diff(prcs_trad[[0,2]]))/np.diff(prcs_trad[[0,2]]),3))\n",
    "    print(\"\")"
   ]
  },
  {
   "attachments": {},
   "cell_type": "markdown",
   "metadata": {},
   "source": [
    "Figure 2, right part"
   ]
  },
  {
   "cell_type": "code",
   "execution_count": 57,
   "metadata": {},
   "outputs": [
    {
     "data": {
      "image/png": "[encoded data removed]",
      "text/plain": [
       "<Figure size 600x600 with 3 Axes>"
      ]
     },
     "metadata": {},
     "output_type": "display_data"
    }
   ],
   "source": [
    "tmp = {\"Traditional\" : sygr_trad_bs_firstgen, \"Markov\" : sygr_mark_bs_firstgen}\n",
    "for k in tmp.keys():\n",
    "    if 2131 in tmp[k].keys():\n",
    "        tmp[k][\"2013\"] = tmp[k][2131].copy()\n",
    "        del tmp[k][2131]\n",
    "        tmp[k][\"2014\"] = tmp[k][2141].copy()\n",
    "        del tmp[k][2141]\n",
    "        tmp[k][\"2015\"] = tmp[k][2151].copy()\n",
    "        del tmp[k][2151]\n",
    "        tmp[k][\"All\"] = tmp[k][\"all\"].copy()\n",
    "        del tmp[k][\"all\"]\n",
    "\n",
    "fig, ax = joypy.joyplot(tmp, color=[\"C9\",\"C6\",\"C3\",\"C1\"], alpha=0.45, overlap=.5, legend=False, \n",
    "                        grid=True, figsize=(6,6), xlabelsize=14, ylabelsize=14, x_range=[0.49,1.01])\n",
    "ax[2].set_xlabel(\"6-year graduation rate (%)\", fontsize=14)\n",
    "ax[2].set_xticks(np.arange(0.5,1.01,0.1))\n",
    "ax[2].set_xticklabels(list(range(50,110,10)))\n",
    "ax[0].set_title(\"First-generation students\", fontsize=14)\n",
    "ax[0].text(0.47,22,\"b.\",fontsize=14)\n",
    "ax[2].text(0.47,0.43,\"d.\",fontsize=14);\n",
    "#ax[0].legend(fontsize=14);"
   ]
  },
  {
   "cell_type": "markdown",
   "metadata": {},
   "source": [
    "<br>\n",
    "\n",
    "---\n",
    "\n",
    "## Results Section 3: LA-having vs non-LA-having students (irregularly applied intervention)\n",
    "\n",
    "Compute traditional for each of the fall 2013, 2014, and 2015 cohorts, and compare to the Markov model estimate from summer 2021. Highlight the improvement from having LAs."
   ]
  },
  {
   "cell_type": "code",
   "execution_count": 58,
   "metadata": {},
   "outputs": [],
   "source": [
    "cohort_terms = cohort_terms_full+cohort_terms_part\n",
    "\n",
    "def matrices_for_course_list(courses, LAclass_tups, df, cohort_terms):\n",
    "    # input: courses (list of (SUBJ, CRS#) tuples), LAclass_tups, df, list of terms to use\n",
    "\n",
    "    IDs_these_courses, IDs_LAs_these_courses = set(), set()\n",
    "    LA_tups_these_courses = []\n",
    "    for c in courses:\n",
    "        IDs_these_courses = set.union(IDs_these_courses,\n",
    "                                      df.loc[(df.subject==c[0]) & (df.catalog_nbr==c[1]),\"ID\"].unique())\n",
    "        this_class = [LAclass_tups[k][0]==c[0] and LAclass_tups[k][1]==c[1] for k in range(len(LAclass_tups))]\n",
    "        if np.sum(this_class) > 0:\n",
    "            LA_tups_this_class = [LAclass_tups[k] for k in [i for i, x in enumerate(this_class) if x]]\n",
    "            LA_tups_these_courses = LA_tups_these_courses + list(LA_tups_this_class)\n",
    "            for cs in LA_tups_this_class:\n",
    "                IDs_LAs_these_courses = set.union(IDs_LAs_these_courses,\n",
    "                                                  df.loc[(df.subject==cs[0]) & (df.catalog_nbr==cs[1]) & \n",
    "                                                         (df.class_section==cs[2]) & (df.Term==cs[3]),\"ID\"].unique())\n",
    "    # restrict to only the list of courses\n",
    "    dfC_all = df.loc[(df.ID.isin(IDs_these_courses))]\n",
    "    dfC_LA = df.loc[(df.ID.isin(IDs_LAs_these_courses))]\n",
    "    dfC_noLA = df.loc[(~df.ID.isin(IDs_LAs_these_courses))]\n",
    "\n",
    "    # numbers matrices for these courses\n",
    "    mats_LA_these_courses = {c : None for c in cohort_terms}\n",
    "    mats_noLA_these_courses = {c : None for c in cohort_terms}\n",
    "    for c in cohort_terms:\n",
    "        mats_LA_these_courses[c] = compute_matrix_las(dfC_LA,c,True,False)\n",
    "        mats_noLA_these_courses[c] = compute_matrix_las(dfC_noLA,c)\n",
    "\n",
    "    # sum across cohort terms and normalize    \n",
    "    mats_LA_these_courses[\"all\"] = np.sum([mats_LA_these_courses[c] for c in cohort_terms], axis=0)\n",
    "    pmats_LA_these_courses = normalize(mats_LA_these_courses[\"all\"])\n",
    "    mats_noLA_these_courses[\"all\"] = np.sum([mats_noLA_these_courses[c] for c in cohort_terms], axis=0)\n",
    "    pmats_noLA_these_courses = normalize(mats_noLA_these_courses[\"all\"])\n",
    "\n",
    "    return (pmats_LA_these_courses, pmats_noLA_these_courses, \\\n",
    "            mats_LA_these_courses, mats_noLA_these_courses, \\\n",
    "            IDs_LAs_these_courses, IDs_these_courses)"
   ]
  },
  {
   "cell_type": "code",
   "execution_count": 59,
   "metadata": {},
   "outputs": [],
   "source": [
    "def bootstrap_markov(N, courses, LAclass_tups, df, ct, get=6):\n",
    "    '''\n",
    "    get : 1, 4, or 6 -step transition rate (Y1 retention, or 4-/6-year grad rate)\n",
    "    '''\n",
    "    rate_LA, rate_noLA = np.zeros(N), np.zeros(N)\n",
    "    if get==1:\n",
    "        return_col = 1\n",
    "    else:\n",
    "        return_col = 7\n",
    "    if type(ct)!=list:\n",
    "        ctl = [ct]\n",
    "    else:\n",
    "        ctl = ct\n",
    "    for i in range(N):\n",
    "        # get a bootstrap resample\n",
    "        IDs = df.ID.unique()\n",
    "        IDBS = np.unique(np.random.choice(IDs, size=len(IDs), replace=True))\n",
    "        dfBS = df.loc[df.ID.isin(IDBS)].copy()\n",
    "        # compute transition matrices\n",
    "        pmat_LA, pmat_noLA, mats_LA, \\\n",
    "        mats_noLA, IDs_LA, IDs_all = matrices_for_course_list(courses, LAclass_tups, dfBS, ctl)\n",
    "        # compute grad/retention rates\n",
    "        newmats_LA, newmats_noLA = np.linalg.matrix_power(pmat_LA,get), np.linalg.matrix_power(pmat_noLA,get)\n",
    "        rate_LA[i] = newmats_LA[0,return_col]\n",
    "        rate_noLA[i] = newmats_noLA[0,return_col]\n",
    "    return rate_LA, rate_noLA"
   ]
  },
  {
   "cell_type": "markdown",
   "metadata": {},
   "source": [
    "<br>\n",
    "\n",
    "### High-DFW COS courses\n",
    "\n",
    "Including:\n",
    "* PHYS: 111, 112, 211A, 211, 212\n",
    "* MATH: 111, 171, 182A, 211\n",
    "  * Note that there are no instances of MATH 172, 181(A), or 182 using LAs.\n",
    "  * There is a single instance of MATH 182A using an LA.\n",
    "  * Results without MATH 211 is below this. However, there's an overall DFW rate of 25% in that course, between Fall 2013 and Fall 2019 (see further below)"
   ]
  },
  {
   "cell_type": "markdown",
   "metadata": {},
   "source": [
    "### COS students overall\n",
    "\n",
    "using `dfC` now, so already looking only at COS students"
   ]
  },
  {
   "cell_type": "code",
   "execution_count": 60,
   "metadata": {},
   "outputs": [
    {
     "name": "stdout",
     "output_type": "stream",
     "text": [
      "Took 80.78238938649496 minutes\n"
     ]
    }
   ],
   "source": [
    "courses = [(\"PHYS\",\"111\"),(\"PHYS\",\"112\"),(\"PHYS\",\"211\"),(\"PHYS\",\"211A\"),(\"PHYS\",\"212\"),\n",
    "           (\"MATH\",\"111\"), (\"MATH\",\"171\"),(\"MATH\",\"182A\"),(\"MATH\",\"211\")]\n",
    "sygr_LA = {k : None for k in cohort_terms_full+[\"all\"]}\n",
    "sygr_noLA = {k : None for k in cohort_terms_full+[\"all\"]}\n",
    "\n",
    "tbeg = time()\n",
    "for ct in cohort_terms_full:\n",
    "    sygr_LA[ct], sygr_noLA[ct] = bootstrap_markov(num_samples,courses,LAclass_tups,dfC,ct,6)\n",
    "\n",
    "sygr_LA[\"all\"], sygr_noLA[\"all\"] = bootstrap_markov(num_samples,courses,LAclass_tups,dfC,cohort_terms,6)\n",
    "tend = time()\n",
    "print(\"Took\",(tend-tbeg)/60,\"minutes\")"
   ]
  },
  {
   "cell_type": "markdown",
   "metadata": {},
   "source": [
    "Reporting just the \"all\" case, since the other results would mirror what we saw previously."
   ]
  },
  {
   "cell_type": "markdown",
   "metadata": {},
   "source": [
    "### COS, AALANA students"
   ]
  },
  {
   "cell_type": "code",
   "execution_count": 61,
   "metadata": {},
   "outputs": [
    {
     "name": "stdout",
     "output_type": "stream",
     "text": [
      "Took 15.626939964294433 minutes\n"
     ]
    }
   ],
   "source": [
    "sygr_LA_aalana = {k : None for k in cohort_terms_full+[\"all\"]}\n",
    "sygr_noLA_aalana = {k : None for k in cohort_terms_full+[\"all\"]}\n",
    "\n",
    "dfSub = dfC.loc[dfC[\"AALANA\"]==\"AALANA\"]\n",
    "#dfSub = dfC.loc[dfC[\"First Generation\"]==\"First Gen\"]\n",
    "tbeg = time()\n",
    "for ct in cohort_terms_full:\n",
    "    sygr_LA_aalana[ct], sygr_noLA_aalana[ct] = bootstrap_markov(num_samples,courses,LAclass_tups,dfSub,ct,6)\n",
    "\n",
    "sygr_LA_aalana[\"all\"], sygr_noLA_aalana[\"all\"] = bootstrap_markov(num_samples,courses,LAclass_tups,dfSub,cohort_terms,6)\n",
    "tend = time()\n",
    "print(\"Took\",(tend-tbeg)/60,\"minutes\")"
   ]
  },
  {
   "cell_type": "markdown",
   "metadata": {},
   "source": [
    "**Key point:** differences are more substantial for URM groups"
   ]
  },
  {
   "cell_type": "markdown",
   "metadata": {},
   "source": [
    "### COS, first generation students"
   ]
  },
  {
   "cell_type": "code",
   "execution_count": 62,
   "metadata": {},
   "outputs": [
    {
     "name": "stdout",
     "output_type": "stream",
     "text": [
      "Took 19.57738018433253 minutes\n"
     ]
    }
   ],
   "source": [
    "sygr_LA_firstgen = {k : None for k in cohort_terms_full+[\"all\"]}\n",
    "sygr_noLA_firstgen = {k : None for k in cohort_terms_full+[\"all\"]}\n",
    "\n",
    "dfSub = dfC.loc[dfC[\"First Generation\"]==\"First Gen\"]\n",
    "tbeg = time()\n",
    "for ct in cohort_terms_full:\n",
    "    sygr_LA_firstgen[ct], sygr_noLA_firstgen[ct] = bootstrap_markov(num_samples,courses,LAclass_tups,dfSub,ct,6)\n",
    "\n",
    "sygr_LA_firstgen[\"all\"], sygr_noLA_firstgen[\"all\"] = bootstrap_markov(num_samples,courses,LAclass_tups,dfSub,cohort_terms,6)\n",
    "tend = time()\n",
    "print(\"Took\",(tend-tbeg)/60,\"minutes\")"
   ]
  },
  {
   "cell_type": "markdown",
   "metadata": {},
   "source": [
    "### Combine all 3 of these into a single figure"
   ]
  },
  {
   "cell_type": "code",
   "execution_count": 63,
   "metadata": {},
   "outputs": [],
   "source": [
    "kdes_all = {\"noLA\" : stats.gaussian_kde(sygr_noLA[\"all\"]), \n",
    "            \"LA\"   : stats.gaussian_kde(sygr_LA[\"all\"])}\n",
    "prcs_all = {\"noLA\" : np.percentile(sygr_noLA[\"all\"], [(100-conf)/2,50,100-(100-conf)/2]),\n",
    "            \"LA\"   : np.percentile(sygr_LA[\"all\"], [(100-conf)/2,50,100-(100-conf)/2])}\n",
    "\n",
    "kdes_aalana = {\"noLA\" : stats.gaussian_kde(sygr_noLA_aalana[\"all\"]), \n",
    "               \"LA\"   : stats.gaussian_kde(sygr_LA_aalana[\"all\"])}\n",
    "prcs_aalana = {\"noLA\" : np.percentile(sygr_noLA_aalana[\"all\"], [(100-conf)/2,50,100-(100-conf)/2]),\n",
    "               \"LA\"   : np.percentile(sygr_LA_aalana[\"all\"], [(100-conf)/2,50,100-(100-conf)/2])}\n",
    "\n",
    "kdes_firstgen = {\"noLA\" : stats.gaussian_kde(sygr_noLA_firstgen[\"all\"]), \n",
    "                 \"LA\"   : stats.gaussian_kde(sygr_LA_firstgen[\"all\"])}\n",
    "prcs_firstgen = {\"noLA\" : np.percentile(sygr_noLA_firstgen[\"all\"], [(100-conf)/2,50,100-(100-conf)/2]),\n",
    "                 \"LA\"   : np.percentile(sygr_LA_firstgen[\"all\"], [(100-conf)/2,50,100-(100-conf)/2])}"
   ]
  },
  {
   "attachments": {},
   "cell_type": "markdown",
   "metadata": {},
   "source": [
    "Figure 3"
   ]
  },
  {
   "cell_type": "code",
   "execution_count": 64,
   "metadata": {},
   "outputs": [
    {
     "data": {
      "image/png": "[encoded data removed]",
      "text/plain": [
       "<Figure size 450x900 with 3 Axes>"
      ]
     },
     "metadata": {},
     "output_type": "display_data"
    }
   ],
   "source": [
    "fig,ax = plt.subplots(3,1,figsize=(4.5,9))\n",
    "x = np.linspace(start=0,stop=1,num=200)\n",
    "\n",
    "i=0 # All\n",
    "ax[i].plot(x, kdes_all[\"noLA\"].pdf(x), linewidth=2, color=\"C3\", label=\"no-LA\")\n",
    "ax[i].plot(x, kdes_all[\"LA\"].pdf(x), linewidth=2, color=\"C1\", label=\"LA\")\n",
    "ax[i].set_xlim([0.4,1]); \n",
    "ax[i].set_xticks([.4,.5,.6,.7,.8,.9,1]); \n",
    "ax[i].set_xticklabels(list(range(40,110,10)), fontsize=14)\n",
    "ax[i].set_ylabel(\"Density\", fontsize=14); ax[i].set_yticks([]); ax[i].set_ylim([-4,42])\n",
    "ax[i].plot([prcs_all[\"noLA\"][0], prcs_all[\"noLA\"][2]], [-2,-2], linewidth=2, color=\"C3\")\n",
    "ax[i].scatter(prcs_all[\"noLA\"][1], -2, color=\"C3\", s=60)\n",
    "ax[i].plot([prcs_all[\"LA\"][0], prcs_all[\"LA\"][2]],   [-2,-2], linewidth=2, color=\"C1\")\n",
    "ax[i].scatter(prcs_all[\"LA\"][1], -2, color=\"C1\", s=60)\n",
    "ax[i].text(.415,36,\"a.    All science students\", fontsize=14, backgroundcolor=\"white\")\n",
    "ax[i].legend(loc=6, fontsize=13, borderpad=.25); ax[i].grid()\n",
    "i=1 # AALANA\n",
    "ax[i].plot(x, kdes_aalana[\"noLA\"].pdf(x), linewidth=2, color=\"C3\", label=\"no-LA\")\n",
    "ax[i].plot(x, kdes_aalana[\"LA\"].pdf(x), linewidth=2, color=\"C1\", label=\"LA\")\n",
    "ax[i].set_xlim([0.4,1]); ax[i].set_xticks([.4,.5,.6,.7,.8,.9,1]); \n",
    "ax[i].set_xticklabels(list(range(40,110,10)), fontsize=14)\n",
    "ax[i].set_ylabel(\"Density\", fontsize=14); ax[i].set_yticks([]); ax[i].set_ylim([-4,35])\n",
    "ax[i].plot([prcs_aalana[\"noLA\"][0], prcs_aalana[\"noLA\"][2]], [-2,-2], linewidth=2, color=\"C3\")\n",
    "ax[i].scatter(prcs_aalana[\"noLA\"][1], -2, color=\"C3\", s=60)\n",
    "ax[i].plot([prcs_aalana[\"LA\"][0], prcs_aalana[\"LA\"][2]],   [-2,-2], linewidth=2, color=\"C1\")\n",
    "ax[i].scatter(prcs_aalana[\"LA\"][1], -2, color=\"C1\", s=60)\n",
    "ax[i].text(.415,30,\"b.    AALANA science students\", fontsize=14, backgroundcolor=\"white\")\n",
    "ax[i].grid()\n",
    "i=2 # First-gen\n",
    "ax[i].plot(x, kdes_firstgen[\"noLA\"].pdf(x), linewidth=2, color=\"C3\", label=\"no-LA\")\n",
    "ax[i].plot(x, kdes_firstgen[\"LA\"].pdf(x), linewidth=2, color=\"C1\", label=\"LA\")\n",
    "ax[i].set_xlim([0.4,1]); ax[i].set_xticks([.4,.5,.6,.7,.8,.9,1]); \n",
    "ax[i].set_xticklabels(list(range(40,110,10)), fontsize=14)\n",
    "ax[i].set_ylabel(\"Density\", fontsize=14); ax[i].set_yticks([]); ax[i].set_ylim([-4,35])\n",
    "ax[i].plot([prcs_firstgen[\"noLA\"][0], prcs_firstgen[\"noLA\"][2]], [-2,-2], linewidth=2, color=\"C3\")\n",
    "ax[i].scatter(prcs_firstgen[\"noLA\"][1], -2, color=\"C3\", s=60)\n",
    "ax[i].plot([prcs_firstgen[\"LA\"][0], prcs_firstgen[\"LA\"][2]],   [-2,-2], linewidth=2, color=\"C1\")\n",
    "ax[i].scatter(prcs_firstgen[\"LA\"][1], -2, color=\"C1\", s=60)\n",
    "ax[i].text(.415,25,\"c.    First generation\\n       science students\", fontsize=14, backgroundcolor=\"white\")\n",
    "ax[i].grid()\n",
    "#\n",
    "ax[i].set_xlabel(\"6-year graduation rate (%)\", fontsize=14);"
   ]
  },
  {
   "cell_type": "code",
   "execution_count": 65,
   "metadata": {},
   "outputs": [
    {
     "data": {
      "text/plain": [
       "0.08691986732475332"
      ]
     },
     "execution_count": 65,
     "metadata": {},
     "output_type": "execute_result"
    }
   ],
   "source": [
    "prcs_all[\"noLA\"][1]-prcs_aalana[\"noLA\"][1]"
   ]
  },
  {
   "cell_type": "code",
   "execution_count": 66,
   "metadata": {},
   "outputs": [
    {
     "data": {
      "text/plain": [
       "-0.038014056983978084"
      ]
     },
     "execution_count": 66,
     "metadata": {},
     "output_type": "execute_result"
    }
   ],
   "source": [
    "prcs_all[\"LA\"][1] - prcs_aalana[\"LA\"][1]"
   ]
  },
  {
   "cell_type": "code",
   "execution_count": 67,
   "metadata": {},
   "outputs": [
    {
     "data": {
      "text/plain": [
       "{'noLA': array([0.6596791 , 0.68122216, 0.70308994]),\n",
       " 'LA': array([0.72581487, 0.7693787 , 0.81270399])}"
      ]
     },
     "execution_count": 67,
     "metadata": {},
     "output_type": "execute_result"
    }
   ],
   "source": [
    "prcs_all"
   ]
  },
  {
   "cell_type": "code",
   "execution_count": 68,
   "metadata": {},
   "outputs": [
    {
     "data": {
      "text/plain": [
       "0.08815654507342174"
      ]
     },
     "execution_count": 68,
     "metadata": {},
     "output_type": "execute_result"
    }
   ],
   "source": [
    "prcs_all[\"LA\"][1]-prcs_all[\"noLA\"][1]"
   ]
  },
  {
   "cell_type": "code",
   "execution_count": 69,
   "metadata": {},
   "outputs": [
    {
     "data": {
      "text/plain": [
       "{'noLA': array([0.53107841, 0.59430229, 0.66324785]),\n",
       " 'LA': array([0.70612202, 0.80739276, 0.92857143])}"
      ]
     },
     "execution_count": 69,
     "metadata": {},
     "output_type": "execute_result"
    }
   ],
   "source": [
    "prcs_aalana"
   ]
  },
  {
   "cell_type": "code",
   "execution_count": 70,
   "metadata": {},
   "outputs": [
    {
     "data": {
      "text/plain": [
       "0.21309046938215315"
      ]
     },
     "execution_count": 70,
     "metadata": {},
     "output_type": "execute_result"
    }
   ],
   "source": [
    "prcs_aalana[\"LA\"][1]-prcs_aalana[\"noLA\"][1]"
   ]
  },
  {
   "cell_type": "code",
   "execution_count": 71,
   "metadata": {},
   "outputs": [
    {
     "data": {
      "text/plain": [
       "{'noLA': array([0.60009792, 0.64677891, 0.69613543]),\n",
       " 'LA': array([0.74514041, 0.82773014, 0.91188144])}"
      ]
     },
     "execution_count": 71,
     "metadata": {},
     "output_type": "execute_result"
    }
   ],
   "source": [
    "prcs_firstgen"
   ]
  },
  {
   "cell_type": "code",
   "execution_count": 72,
   "metadata": {},
   "outputs": [
    {
     "data": {
      "text/plain": [
       "0.18095122996567292"
      ]
     },
     "execution_count": 72,
     "metadata": {},
     "output_type": "execute_result"
    }
   ],
   "source": [
    "prcs_firstgen[\"LA\"][1]-prcs_firstgen[\"noLA\"][1]"
   ]
  },
  {
   "cell_type": "markdown",
   "metadata": {},
   "source": [
    "**Key Point:** LAs are a path to equity in outcomes. No overlap (or minimal?) between CIs for no-LA all vs no-LA AALANA students. But no statistically significant difference (overlapping CIs) for the all group and AALANA and First-gen students with LAs."
   ]
  },
  {
   "attachments": {},
   "cell_type": "markdown",
   "metadata": {},
   "source": [
    "<br>\n",
    "\n",
    "## Year-to-year retention/persistence rates\n",
    "\n",
    "SOM tables 2-4"
   ]
  },
  {
   "cell_type": "code",
   "execution_count": 73,
   "metadata": {},
   "outputs": [],
   "source": [
    "### COS students overall\n",
    "pmat_LA_all, pmat_noLA_all, \\\n",
    "mats_LA_all, mats_noLA_all, \\\n",
    "IDs_LA_all, IDs_all_all = matrices_for_course_list(courses, LAclass_tups, dfC, cohort_terms)\n",
    "### AALANA COS students\n",
    "pmat_LA_aalana, pmat_noLA_aalana, \\\n",
    "mats_LA_aalana, mats_noLA_aalana, \\\n",
    "IDs_LA_aalana, IDs_all_aalana = matrices_for_course_list(courses, LAclass_tups, dfC.loc[dfC.AALANA==\"AALANA\"], cohort_terms)\n",
    "### First gen COS students\n",
    "pmat_LA_firstgen, pmat_noLA_firstgen, \\\n",
    "mats_LA_firstgen, mats_noLA_firstgen, \\\n",
    "IDs_LA_firstgen, IDs_all_firstgen = matrices_for_course_list(courses, LAclass_tups, dfC.loc[dfC[\"First Generation\"]==\"First Gen\"], cohort_terms)\n"
   ]
  },
  {
   "cell_type": "code",
   "execution_count": 74,
   "metadata": {},
   "outputs": [
    {
     "name": "stdout",
     "output_type": "stream",
     "text": [
      "OVERALL:\n",
      "      no-LA   LA     Diff\n",
      "---------------------------\n",
      "Y1-2: 0.8661 0.9512 0.0851\n",
      "Y2-3: 0.9080 0.9265 0.0185\n",
      "Y3-4: 0.9072 0.9345 0.0273\n"
     ]
    }
   ],
   "source": [
    "print(\"OVERALL:\")\n",
    "print(\"      no-LA   LA     Diff\")\n",
    "print(\"---------------------------\")\n",
    "for y in range(3):\n",
    "    print(\"Y{}-{}: {:0.4f} {:0.4f} {:0.4f}\".format(\n",
    "        y+1,y+2,pmat_noLA_all[y,y+1], pmat_LA_all[y,y+1], pmat_LA_all[y,y+1]-pmat_noLA_all[y,y+1]))\n",
    "    "
   ]
  },
  {
   "cell_type": "code",
   "execution_count": 75,
   "metadata": {},
   "outputs": [
    {
     "name": "stdout",
     "output_type": "stream",
     "text": [
      "AALANA:\n",
      "      no-LA   LA     Diff\n",
      "---------------------------\n",
      "Y1-2: 0.8351 0.9231 0.0880\n",
      "Y2-3: 0.8849 0.9211 0.0362\n",
      "Y3-4: 0.8857 0.9394 0.0537\n"
     ]
    }
   ],
   "source": [
    "print(\"AALANA:\")\n",
    "print(\"      no-LA   LA     Diff\")\n",
    "print(\"---------------------------\")\n",
    "for y in range(3):\n",
    "    print(\"Y{}-{}: {:0.4f} {:0.4f} {:0.4f}\".format(\n",
    "        y+1,y+2,pmat_noLA_aalana[y,y+1], pmat_LA_aalana[y,y+1], pmat_LA_aalana[y,y+1]-pmat_noLA_aalana[y,y+1]))\n",
    "    "
   ]
  },
  {
   "cell_type": "code",
   "execution_count": 76,
   "metadata": {},
   "outputs": [
    {
     "name": "stdout",
     "output_type": "stream",
     "text": [
      "First-gen:\n",
      "      no-LA   LA     Diff\n",
      "---------------------------\n",
      "Y1-2: 0.8617 0.9565 0.0948\n",
      "Y2-3: 0.9018 0.9298 0.0280\n",
      "Y3-4: 0.9045 0.9149 0.0104\n"
     ]
    }
   ],
   "source": [
    "print(\"First-gen:\")\n",
    "print(\"      no-LA   LA     Diff\")\n",
    "print(\"---------------------------\")\n",
    "for y in range(3):\n",
    "    print(\"Y{}-{}: {:0.4f} {:0.4f} {:0.4f}\".format(\n",
    "        y+1,y+2,pmat_noLA_firstgen[y,y+1], pmat_LA_firstgen[y,y+1], pmat_LA_firstgen[y,y+1]-pmat_noLA_firstgen[y,y+1]))\n",
    "    "
   ]
  },
  {
   "cell_type": "code",
   "execution_count": null,
   "metadata": {},
   "outputs": [],
   "source": []
  },
  {
   "cell_type": "code",
   "execution_count": null,
   "metadata": {},
   "outputs": [],
   "source": []
  },
  {
   "cell_type": "code",
   "execution_count": null,
   "metadata": {},
   "outputs": [],
   "source": []
  },
  {
   "cell_type": "code",
   "execution_count": null,
   "metadata": {},
   "outputs": [],
   "source": []
  },
  {
   "cell_type": "code",
   "execution_count": null,
   "metadata": {},
   "outputs": [],
   "source": []
  },
  {
   "cell_type": "markdown",
   "metadata": {},
   "source": [
    "<br>\n",
    "\n",
    "---\n",
    "\n",
    "# old stuff below here\n",
    "\n",
    "---\n",
    "\n",
    "<br>"
   ]
  },
  {
   "cell_type": "code",
   "execution_count": null,
   "metadata": {},
   "outputs": [],
   "source": []
  },
  {
   "cell_type": "code",
   "execution_count": null,
   "metadata": {},
   "outputs": [],
   "source": []
  },
  {
   "cell_type": "code",
   "execution_count": null,
   "metadata": {},
   "outputs": [],
   "source": []
  },
  {
   "cell_type": "markdown",
   "metadata": {},
   "source": [
    "not only COS students here:"
   ]
  },
  {
   "cell_type": "code",
   "execution_count": 106,
   "metadata": {},
   "outputs": [
    {
     "name": "stdout",
     "output_type": "stream",
     "text": [
      "N   YN->N+1  YN->DropOut  YN->Grad\n",
      "----------------------------------\n",
      "1    0.946      0.054         0.0\n",
      "2    0.936      0.063       0.001\n",
      "3     0.96      0.031       0.009\n",
      "4    0.811      0.022       0.168\n",
      "5    0.215       0.04       0.745\n",
      "6                0.32        0.68\n",
      "N   YN->N+1  YN->DropOut  YN->Grad\n",
      "----------------------------------\n",
      "1    0.866      0.134         0.0\n",
      "2    0.911      0.087       0.002\n",
      "3     0.93      0.043       0.027\n",
      "4    0.532      0.029       0.439\n",
      "5    0.236      0.028       0.736\n",
      "6               0.346       0.654\n",
      "LAs:\n",
      " [0.     0.     0.     0.     0.6892 0.     0.1598 0.151 ]\n",
      "No LAs:\n",
      " [0.     0.     0.     0.     0.3907 0.     0.2643 0.3449]\n",
      "4Y graduate rate among LA-having high-DFW COS course students 0.151\n",
      "4Y graduate rate among high-DFW COS course students w/ no LAs 0.345\n",
      "LAs:\n",
      " [0.     0.     0.     0.     0.     0.     0.2345 0.7655]\n",
      "No LAs:\n",
      " [0.     0.     0.     0.     0.     0.     0.3071 0.6929]\n",
      "6Y graduate rate among LA-having high-DFW COS course students 0.766\n",
      "6Y graduate rate among high-DFW COS course students w/ no LAs 0.693\n",
      "\n",
      " 1886 students starting in Y1 with LA in a high-DFW COS course\n"
     ]
    }
   ],
   "source": [
    "courses = [(\"PHYS\",\"111\"),(\"PHYS\",\"112\"),(\"PHYS\",\"211\"),(\"PHYS\",\"211A\"),(\"PHYS\",\"212\"),\n",
    "           (\"MATH\",\"111\"), (\"MATH\",\"171\"),(\"MATH\",\"182A\"),(\"MATH\",\"211\")]\n",
    "pmat_LA_dfw, pmat_noLA_dfw, mats_LA_dfw, mats_noLA_dfw = matrices_for_course_list(courses,\n",
    "                                                                                  LAclass_tups, dfC, cohort_terms)\n",
    "# Y1 retention\n",
    "printmat(pmat_LA_dfw)\n",
    "printmat(pmat_noLA_dfw)\n",
    "# 4-year grad rate\n",
    "n=4\n",
    "newmats_LA, newmats_noLA = np.linalg.matrix_power(pmat_LA_dfw,n), np.linalg.matrix_power(pmat_noLA_dfw,n)\n",
    "print(\"LAs:\\n\",np.round(newmats_LA,4)[0,:])\n",
    "print(\"No LAs:\\n\",np.round(newmats_noLA,4)[0,:])\n",
    "print(\"{}Y graduate rate among LA-having high-DFW COS course students {:0.3f}\".format(n,newmats_LA[0,7]))\n",
    "print(\"{}Y graduate rate among high-DFW COS course students w/ no LAs {:0.3f}\".format(n,newmats_noLA[0,7]))\n",
    "# 6-year grad rate\n",
    "n=6\n",
    "newmats_LA, newmats_noLA = np.linalg.matrix_power(pmat_LA_dfw,n), np.linalg.matrix_power(pmat_noLA_dfw,n)\n",
    "print(\"LAs:\\n\",np.round(newmats_LA,4)[0,:])\n",
    "print(\"No LAs:\\n\",np.round(newmats_noLA,4)[0,:])\n",
    "print(\"{}Y graduate rate among LA-having high-DFW COS course students {:0.3f}\".format(n,newmats_LA[0,7]))\n",
    "print(\"{}Y graduate rate among high-DFW COS course students w/ no LAs {:0.3f}\".format(n,newmats_noLA[0,7]))\n",
    "\n",
    "print(\"\\n\", int(mats_LA_dfw[\"all\"][0,1]), \"students starting in Y1 with LA in a high-DFW COS course\")"
   ]
  },
  {
   "cell_type": "markdown",
   "metadata": {},
   "source": [
    "<h2 style=\"color:blue;font-size:24pt\">Now breaking it up by LA-having students and non-LA-having students</h2>\n",
    "\n",
    "* `dfLAcoursestudents_LA` is the dataframe with only entries for students who have had LAs at some point in their time at RIT\n",
    "  * as a reminder, this is adding students to the analysis starting with the AY in which they have an LA. So, if someone from the Fall 2013 cohort has an LA during Spring 2015 (spring of their second year), they are used in the Y2->Y3 transition calculations, and all subsequent transitions\n",
    "* `dfLAcoursestudents_noLA` is the dataframe with only entries for students who never had LAs during their time at RIT, but did take a non-LA version of a course that has/has had LA assistance at some point"
   ]
  },
  {
   "cell_type": "code",
   "execution_count": 279,
   "metadata": {},
   "outputs": [],
   "source": [
    "# students who ever took a course that has LA-assisted sections\n",
    "dfLAcoursestudents = df.loc[df.LAclass_students==1]\n",
    "# ... out of those students, who had an LA experience at this point or earlier?\n",
    "dfLAcoursestudents_LA = dfLAcoursestudents.loc[dfLAcoursestudents.LAexperience==1]\n",
    "# ... out of those students, who never had an LA experience ever?\n",
    "dfLAcoursestudents_noLA = dfLAcoursestudents.loc[(~dfLAcoursestudents.ID.isin(LA_students_dict.keys()))]"
   ]
  },
  {
   "cell_type": "markdown",
   "metadata": {},
   "source": [
    "How many LA-having and non-LA-having students are there, who have ever taken an LA-assisted course?"
   ]
  },
  {
   "cell_type": "code",
   "execution_count": 280,
   "metadata": {},
   "outputs": [
    {
     "data": {
      "text/plain": [
       "(11258, 19361)"
      ]
     },
     "execution_count": 280,
     "metadata": {},
     "output_type": "execute_result"
    }
   ],
   "source": [
    "len(dfLAcoursestudents_LA[\"ID\"].unique()), len(dfLAcoursestudents_noLA[\"ID\"].unique())"
   ]
  },
  {
   "cell_type": "markdown",
   "metadata": {},
   "source": [
    "### How many transfer students among the students in LA-assisted courses?\n",
    "\n",
    "Estimating based on students' first `Term` being greater than their `Cohort Term`"
   ]
  },
  {
   "cell_type": "code",
   "execution_count": 43,
   "metadata": {},
   "outputs": [
    {
     "name": "stdout",
     "output_type": "stream",
     "text": [
      "Cohort Term  N_transfer  N_total\n",
      "--------------------------------\n",
      "       2131          0     2629\n",
      "       2141         70     2492\n",
      "       2151         72     2713\n",
      "       2161         63     2390\n",
      "       2171         51     2460\n",
      "       2181         34     2452\n",
      "       2191         34     2366\n"
     ]
    }
   ],
   "source": [
    "IDs_transfer = set()\n",
    "print(\"Cohort Term  N_transfer  N_total\")\n",
    "print(\"--------------------------------\")\n",
    "for t in cohort_terms_full+cohort_terms_part:\n",
    "    IDs_this_cohort_term = dfLAcoursestudents.loc[(dfLAcoursestudents[\"Cohort Term\"]==t) & \n",
    "                                                  (dfLAcoursestudents[\"Term\"] < t),\"ID\"].unique()\n",
    "    IDs_transfer = set.union(IDs_transfer, IDs_this_cohort_term)\n",
    "    N_cohort = len(dfLAcoursestudents.loc[(dfLAcoursestudents[\"Cohort Term\"]==t),\"ID\"].unique())\n",
    "    print(f\"{int(t):>11}\",f\"{int(len(IDs_this_cohort_term)):>10}  \",f\"{int(N_cohort):>6}\")\n",
    "    "
   ]
  },
  {
   "cell_type": "markdown",
   "metadata": {},
   "source": [
    "### Enumerate how many LA-having students are Y1, Y2, etc. each academic term"
   ]
  },
  {
   "cell_type": "code",
   "execution_count": 44,
   "metadata": {},
   "outputs": [],
   "source": [
    "#                  fall terms             +         spring terms\n",
    "terms = np.sort(list(range(2131,2211,10)) + list(range(2135,2215,10)))\n",
    "prc_LAstudents = np.zeros((6,len(terms))) # columns are terms, rows are different years [y1-y6]\n",
    "num_LAstudents = np.zeros((6,len(terms))) # columns are terms, rows are different years [y1-y6]\n",
    "\n",
    "LAclasses_each_term = {t : None for t in terms}\n",
    "for t in terms:\n",
    "    # which classes had LAs this term?\n",
    "    LAclasses_each_term[t] = [LAclass_tups[k] for k in range(len(LAclass_tups)) if LAclass_tups[k][3]==t]\n",
    "    # figure out who all had LAs this semester\n",
    "    LAstudent_IDs_this_term = set()\n",
    "    for c in LAclasses_each_term[t]:\n",
    "        IDs_LAstudents = dfLAcoursestudents.loc[(dfLAcoursestudents.subject==c[0]) & \n",
    "                                                (dfLAcoursestudents.catalog_nbr==c[1]) &\n",
    "                                                (dfLAcoursestudents.class_section==c[2]) &\n",
    "                                                (dfLAcoursestudents.Term==c[3]), \"ID\"].unique()\n",
    "        LAstudent_IDs_this_term = set.union(LAstudent_IDs_this_term, IDs_LAstudents)\n",
    "    # of those who had LAs, how many are in Y1 (cohort year == this year), Y2, etc.\n",
    "    LAstudent_IDs_this_term = list(LAstudent_IDs_this_term)\n",
    "    num_total = len(LAstudent_IDs_this_term)\n",
    "    dfTerm = dfLAcoursestudents.loc[(dfLAcoursestudents.ID.isin(LAstudent_IDs_this_term)) &\n",
    "                                    (dfLAcoursestudents.Term==t),\n",
    "                                    [\"ID\",\"Cohort Term\",\"Term\",\"Acad Plan\",\"College\"]].drop_duplicates(subset=\"ID\")\n",
    "    dfTerm[\"Term Offset\"] = dfTerm[\"Term\"] - dfTerm[\"Cohort Term\"]\n",
    "    num_Y1 = dfTerm.loc[(dfTerm[\"Term Offset\"] >= 0 ) & (dfTerm[\"Term Offset\"] < 10),\"ID\"].count()\n",
    "    num_Y2 = dfTerm.loc[(dfTerm[\"Term Offset\"] >= 10) & (dfTerm[\"Term Offset\"] < 20),\"ID\"].count()\n",
    "    num_Y3 = dfTerm.loc[(dfTerm[\"Term Offset\"] >= 20) & (dfTerm[\"Term Offset\"] < 30),\"ID\"].count()\n",
    "    num_Y4 = dfTerm.loc[(dfTerm[\"Term Offset\"] >= 30) & (dfTerm[\"Term Offset\"] < 40),\"ID\"].count()\n",
    "    num_Y5 = dfTerm.loc[(dfTerm[\"Term Offset\"] >= 40) & (dfTerm[\"Term Offset\"] < 50),\"ID\"].count()\n",
    "    num_Y6 = dfTerm.loc[(dfTerm[\"Term Offset\"] >= 50) & (dfTerm[\"Term Offset\"] < 60),\"ID\"].count()\n",
    "    num_total_cohortvalid = num_Y1+num_Y2+num_Y3+num_Y4+num_Y5+num_Y6\n",
    "    num_LAstudents[:,terms==t] = np.transpose(np.array([[num_Y1, num_Y2, num_Y3, num_Y4, num_Y5, num_Y6]]))\n",
    "    prc_LAstudents[:,terms==t] = num_LAstudents[:,terms==t]/num_total_cohortvalid"
   ]
  },
  {
   "cell_type": "code",
   "execution_count": 45,
   "metadata": {},
   "outputs": [
    {
     "data": {
      "image/png": "[encoded data removed]",
      "text/plain": [
       "<Figure size 648x648 with 2 Axes>"
      ]
     },
     "metadata": {
      "needs_background": "light"
     },
     "output_type": "display_data"
    }
   ],
   "source": [
    "fig,ax = plt.subplots(nrows=2, ncols=1, figsize=(9,9))\n",
    "ax[0].bar(terms,num_LAstudents[0,:], width=2, label=\"Y1\")\n",
    "ax[0].bar(terms,num_LAstudents[1,:],bottom=np.sum(num_LAstudents[:1,:],0), width=2, label=\"Y2\")\n",
    "ax[0].bar(terms,num_LAstudents[2,:],bottom=np.sum(num_LAstudents[:2,:],0), width=2, label=\"Y3\")\n",
    "ax[0].bar(terms,num_LAstudents[3,:],bottom=np.sum(num_LAstudents[:3,:],0), width=2, label=\"Y4\")\n",
    "ax[0].bar(terms,num_LAstudents[4,:],bottom=np.sum(num_LAstudents[:4,:],0), width=2, label=\"Y5\")\n",
    "ax[0].bar(terms,num_LAstudents[5,:],bottom=np.sum(num_LAstudents[:5,:],0), width=2, label=\"Y6\")\n",
    "ax[0].set_xlim([2128,2217]); ax[0].legend()\n",
    "ax[0].set_xticks([2133,2143,2153,2163,2173,2183,2193,2203])\n",
    "ax[0].set_xticklabels([\"2013-14\",\"2014-15\",\"2015-16\",\"2016-17\",\"2017-18\",\"2018-19\",\"2019-20\",\"2020-21\"])\n",
    "ax[0].set_xlabel(\"Academic Year\");\n",
    "ax[0].set_ylabel(\"Number of distinct LA-having students in each\\nYear (1-6) since their cohort year\");\n",
    "ax[0].text(2130,1350,\"a.\",fontsize=14);\n",
    "\n",
    "ax[1].bar(terms,prc_LAstudents[0,:], width=2, label=\"Y1\")\n",
    "ax[1].bar(terms,prc_LAstudents[1,:],bottom=np.sum(prc_LAstudents[:1,:],0), width=2, label=\"Y2\")\n",
    "ax[1].bar(terms,prc_LAstudents[2,:],bottom=np.sum(prc_LAstudents[:2,:],0), width=2, label=\"Y3\")\n",
    "ax[1].bar(terms,prc_LAstudents[3,:],bottom=np.sum(prc_LAstudents[:3,:],0), width=2, label=\"Y4\")\n",
    "ax[1].bar(terms,prc_LAstudents[4,:],bottom=np.sum(prc_LAstudents[:4,:],0), width=2, label=\"Y5\")\n",
    "ax[1].bar(terms,prc_LAstudents[5,:],bottom=np.sum(prc_LAstudents[:5,:],0), width=2, label=\"Y6\")\n",
    "ax[1].set_xlim([2128,2217]); #ax[1].legend();\n",
    "ax[1].set_xticks([2133,2143,2153,2163,2173,2183,2193,2203])\n",
    "ax[1].set_xticklabels([\"2013-14\",\"2014-15\",\"2015-16\",\"2016-17\",\"2017-18\",\"2018-19\",\"2019-20\",\"2020-21\"]);\n",
    "ax[1].set_xlabel(\"Academic Year\");\n",
    "ax[1].set_ylabel(\"Proportion of LA-having students in each\\nYear (1-6) since their cohort year\");\n",
    "ax[1].text(2130,1.08,\"b.\",fontsize=14);\n",
    "plt.savefig('LAstudentBreakdownByYear.png')\n"
   ]
  },
  {
   "cell_type": "code",
   "execution_count": 46,
   "metadata": {},
   "outputs": [
    {
     "data": {
      "image/png": "[encoded data removed]",
      "text/plain": [
       "<Figure size 648x360 with 1 Axes>"
      ]
     },
     "metadata": {
      "needs_background": "light"
     },
     "output_type": "display_data"
    },
    {
     "data": {
      "image/png": "[encoded data removed]",
      "text/plain": [
       "<Figure size 648x360 with 1 Axes>"
      ]
     },
     "metadata": {
      "needs_background": "light"
     },
     "output_type": "display_data"
    }
   ],
   "source": [
    "fig,ax = plt.subplots(nrows=1, ncols=1, figsize=(9,5))\n",
    "plt.bar(terms,prc_LAstudents[0,:], width=2, label=\"Y1\")\n",
    "plt.bar(terms,prc_LAstudents[1,:],bottom=np.sum(prc_LAstudents[:1,:],0), width=2, label=\"Y2\")\n",
    "plt.bar(terms,prc_LAstudents[2,:],bottom=np.sum(prc_LAstudents[:2,:],0), width=2, label=\"Y3\")\n",
    "plt.bar(terms,prc_LAstudents[3,:],bottom=np.sum(prc_LAstudents[:3,:],0), width=2, label=\"Y4\")\n",
    "plt.bar(terms,prc_LAstudents[4,:],bottom=np.sum(prc_LAstudents[:4,:],0), width=2, label=\"Y5\")\n",
    "plt.bar(terms,prc_LAstudents[5,:],bottom=np.sum(prc_LAstudents[:5,:],0), width=2, label=\"Y6\")\n",
    "plt.xlim([2128,2217]); plt.legend();\n",
    "plt.xticks([2133,2143,2153,2163,2173,2183,2193,2203],\n",
    "           labels=[\"2013-14\",\"2014-15\",\"2015-16\",\"2016-17\",\"2017-18\",\"2018-19\",\"2019-20\",\"2020-21\"]);\n",
    "plt.xlabel(\"Academic Year\");\n",
    "plt.ylabel(\"Proportion of LA-having students in each\\nYear (1-6) since their cohort year\");\n",
    "plt.savefig('LAstudentBreakdownByYear_prc.png')\n",
    "\n",
    "fig,ax = plt.subplots(nrows=1, ncols=1, figsize=(9,5))\n",
    "plt.bar(terms,num_LAstudents[0,:], width=2, label=\"Y1\")\n",
    "plt.bar(terms,num_LAstudents[1,:],bottom=np.sum(num_LAstudents[:1,:],0), width=2, label=\"Y2\")\n",
    "plt.bar(terms,num_LAstudents[2,:],bottom=np.sum(num_LAstudents[:2,:],0), width=2, label=\"Y3\")\n",
    "plt.bar(terms,num_LAstudents[3,:],bottom=np.sum(num_LAstudents[:3,:],0), width=2, label=\"Y4\")\n",
    "plt.bar(terms,num_LAstudents[4,:],bottom=np.sum(num_LAstudents[:4,:],0), width=2, label=\"Y5\")\n",
    "plt.bar(terms,num_LAstudents[5,:],bottom=np.sum(num_LAstudents[:5,:],0), width=2, label=\"Y6\")\n",
    "plt.xlim([2128,2217]); plt.legend();\n",
    "plt.xticks([2133,2143,2153,2163,2173,2183,2193,2203],\n",
    "           labels=[\"2013-14\",\"2014-15\",\"2015-16\",\"2016-17\",\"2017-18\",\"2018-19\",\"2019-20\",\"2020-21\"]);\n",
    "plt.xlabel(\"Academic Year\");\n",
    "plt.ylabel(\"Number of distinct LA-having students in each\\nYear (1-6) since their cohort year\");\n",
    "plt.savefig('LAstudentBreakdownByYear_num.png')\n"
   ]
  },
  {
   "cell_type": "markdown",
   "metadata": {},
   "source": [
    "Compute the numbers matrices:"
   ]
  },
  {
   "cell_type": "code",
   "execution_count": 281,
   "metadata": {},
   "outputs": [],
   "source": [
    "mats_LA = {c : None for c in cohort_terms_full+cohort_terms_part}\n",
    "mats_noLA = {c : None for c in cohort_terms_full+cohort_terms_part}\n",
    "for c in cohort_terms_full+cohort_terms_part:\n",
    "    mats_LA[c] = compute_matrix_las(dfLAcoursestudents_LA,c)\n",
    "    mats_noLA[c] = compute_matrix_las(dfLAcoursestudents_noLA,c)"
   ]
  },
  {
   "cell_type": "markdown",
   "metadata": {},
   "source": [
    "Numbers matrices for COS majors"
   ]
  },
  {
   "cell_type": "code",
   "execution_count": 284,
   "metadata": {},
   "outputs": [],
   "source": [
    "mats_LA_cos = {c : None for c in cohort_terms_full+cohort_terms_part}\n",
    "mats_noLA_cos = {c : None for c in cohort_terms_full+cohort_terms_part}\n",
    "for c in cohort_terms_full+cohort_terms_part:\n",
    "    mats_LA_cos[c] = compute_matrix_las(dfLAcoursestudents_LA.loc[dfLAcoursestudents_LA.ID.isin(IDs_cos)],c)\n",
    "    mats_noLA_cos[c] = compute_matrix_las(dfLAcoursestudents_noLA.loc[dfLAcoursestudents_noLA.ID.isin(IDs_cos)],c)"
   ]
  },
  {
   "cell_type": "markdown",
   "metadata": {},
   "source": [
    "Normalize them individually, since might want to look at differences from estimating using a single cohort vs all:\n",
    "\n",
    "(full-data cohorts only)\n",
    "\n",
    "Will get a divide-by-zero error for the normalization of the PHYS no-LA matrices for one of the cohort years. Highlights the importance of the ability of this approach to combine information across cohorts!"
   ]
  },
  {
   "cell_type": "code",
   "execution_count": 285,
   "metadata": {},
   "outputs": [],
   "source": [
    "pmats_LA = {c : normalize(mats_LA[c]) for c in cohort_terms_full}\n",
    "pmats_noLA = {c : normalize(mats_noLA[c]) for c in cohort_terms_full}\n",
    "\n",
    "pmats_LA_cos = {c : normalize(mats_LA_cos[c]) for c in cohort_terms_full}\n",
    "pmats_noLA_cos = {c : normalize(mats_noLA_cos[c]) for c in cohort_terms_full}"
   ]
  },
  {
   "cell_type": "markdown",
   "metadata": {},
   "source": [
    "But the focus is probably on the entire combined matrix, so combine them, and normalize:"
   ]
  },
  {
   "cell_type": "code",
   "execution_count": 286,
   "metadata": {},
   "outputs": [],
   "source": [
    "mats_LA[\"all\"] = np.sum([mats_LA[c] for c in cohort_terms_full+cohort_terms_part], axis=0)\n",
    "pmats_LA[\"all\"] = normalize(mats_LA[\"all\"])\n",
    "mats_LA[\"full\"] = np.sum([mats_LA[c] for c in cohort_terms_full], axis=0)\n",
    "pmats_LA[\"full\"] = normalize(mats_LA[\"full\"])\n",
    "\n",
    "mats_noLA[\"all\"] = np.sum([mats_noLA[c] for c in cohort_terms_full+cohort_terms_part], axis=0)\n",
    "pmats_noLA[\"all\"] = normalize(mats_noLA[\"all\"])\n",
    "mats_noLA[\"full\"] = np.sum([mats_noLA[c] for c in cohort_terms_full], axis=0)\n",
    "pmats_noLA[\"full\"] = normalize(mats_noLA[\"full\"])\n",
    "\n",
    "# for COS majors\n",
    "mats_LA_cos[\"all\"] = np.sum([mats_LA_cos[c] for c in cohort_terms_full+cohort_terms_part], axis=0)\n",
    "pmats_LA_cos[\"all\"] = normalize(mats_LA_cos[\"all\"])\n",
    "mats_LA_cos[\"full\"] = np.sum([mats_LA_cos[c] for c in cohort_terms_full], axis=0)\n",
    "pmats_LA_cos[\"full\"] = normalize(mats_LA_cos[\"full\"])\n",
    "\n",
    "mats_noLA_cos[\"all\"] = np.sum([mats_noLA_cos[c] for c in cohort_terms_full+cohort_terms_part], axis=0)\n",
    "pmats_noLA_cos[\"all\"] = normalize(mats_noLA_cos[\"all\"])\n",
    "mats_noLA_cos[\"full\"] = np.sum([mats_noLA_cos[c] for c in cohort_terms_full], axis=0)\n",
    "pmats_noLA_cos[\"full\"] = normalize(mats_noLA_cos[\"full\"])"
   ]
  },
  {
   "cell_type": "markdown",
   "metadata": {},
   "source": [
    "### Compare Y1 retention:\n",
    "\n",
    "Y1 retention is notably higher among students who have had LAs than those who did not. Full-data only vs using all cohorts (including partial data) don't have much of an effect.\n",
    "\n",
    "The matrices at the top are for all (full+partial) cohorts"
   ]
  },
  {
   "cell_type": "code",
   "execution_count": 287,
   "metadata": {},
   "outputs": [
    {
     "name": "stdout",
     "output_type": "stream",
     "text": [
      "=======================================================\n",
      "All students who touched LA-assisted courses:\n",
      "\n",
      "LAs:\n",
      "N   YN->N+1  YN->DropOut  YN->Grad\n",
      "----------------------------------\n",
      "1     3903       359           0\n",
      "2     5206       405           9\n",
      "3     4439       167          79\n",
      "4     2660       101         990\n",
      "5      441        75        1629\n",
      "6                162         311\n",
      "\n",
      "No LAs:\n",
      "N   YN->N+1  YN->DropOut  YN->Grad\n",
      "----------------------------------\n",
      "1     8607      1190           1\n",
      "2     6678       671          14\n",
      "3     5291       254         149\n",
      "4     2711       122        1459\n",
      "5      529        59        1511\n",
      "6                181         348\n",
      "\n",
      "\n",
      "=======================================================\n",
      "All students who touched LA-assisted courses, and ever had a COS major:\n",
      "\n",
      "LAs:\n",
      "N   YN->N+1  YN->DropOut  YN->Grad\n",
      "----------------------------------\n",
      "1      892       116           0\n",
      "2      909        87           3\n",
      "3      737        44          27\n",
      "4      214        26         366\n",
      "5       52         5         123\n",
      "6                 20          35\n",
      "\n",
      "No LAs:\n",
      "N   YN->N+1  YN->DropOut  YN->Grad\n",
      "----------------------------------\n",
      "1      228        54           0\n",
      "2      179        19           0\n",
      "3      148        10           3\n",
      "4       59         5          64\n",
      "5       10         0          42\n",
      "6                  7           3\n"
     ]
    }
   ],
   "source": [
    "print(\"=======================================================\")\n",
    "print(\"All students who touched LA-assisted courses:\\n\")\n",
    "print(\"LAs:\")\n",
    "printmat(mats_LA[\"all\"])\n",
    "print(\"\\nNo LAs:\")\n",
    "printmat(mats_noLA[\"all\"])\n",
    "\n",
    "print(\"\\n\\n=======================================================\")\n",
    "print(\"All students who touched LA-assisted courses, and ever had a COS major:\\n\")\n",
    "print(\"LAs:\")\n",
    "printmat(mats_LA_cos[\"all\"])\n",
    "print(\"\\nNo LAs:\")\n",
    "printmat(mats_noLA_cos[\"all\"])"
   ]
  },
  {
   "cell_type": "code",
   "execution_count": 288,
   "metadata": {
    "scrolled": false
   },
   "outputs": [
    {
     "name": "stdout",
     "output_type": "stream",
     "text": [
      "=======================================================\n",
      "All students who touched LA-assisted courses:\n",
      "\n",
      "W/ LAs:\n",
      "N   YN->N+1  YN->DropOut  YN->Grad\n",
      "----------------------------------\n",
      "1    0.916      0.084         0.0\n",
      "2    0.926      0.072       0.002\n",
      "3    0.947      0.036       0.017\n",
      "4    0.709      0.027       0.264\n",
      "5    0.206      0.035       0.759\n",
      "6               0.342       0.658\n",
      "\n",
      "No LAs:\n",
      "N   YN->N+1  YN->DropOut  YN->Grad\n",
      "----------------------------------\n",
      "1    0.878      0.121         0.0\n",
      "2    0.907      0.091       0.002\n",
      "3    0.929      0.045       0.026\n",
      "4    0.632      0.028        0.34\n",
      "5    0.252      0.028        0.72\n",
      "6               0.342       0.658\n",
      "\n",
      "Using Full-data cohorts only\n",
      "  Y1 retention among LA-having students 0.927\n",
      "  Y1 retention among students w/ no LAs 0.869\n",
      "Using Full and Partial-data cohorts\n",
      "  Y1 retention among LA-having students 0.916\n",
      "  Y1 retention among students w/ no LAs 0.878\n",
      "\n",
      "\n",
      "=======================================================\n",
      "All students who touched LA-assisted courses, and ever had a COS major:\n",
      "\n",
      "W/ LAs:\n",
      "N   YN->N+1  YN->DropOut  YN->Grad\n",
      "----------------------------------\n",
      "1    0.885      0.115         0.0\n",
      "2     0.91      0.087       0.003\n",
      "3    0.912      0.054       0.033\n",
      "4    0.353      0.043       0.604\n",
      "5    0.289      0.028       0.683\n",
      "6               0.364       0.636\n",
      "\n",
      "No LAs:\n",
      "N   YN->N+1  YN->DropOut  YN->Grad\n",
      "----------------------------------\n",
      "1    0.809      0.191         0.0\n",
      "2    0.904      0.096         0.0\n",
      "3    0.919      0.062       0.019\n",
      "4    0.461      0.039         0.5\n",
      "5    0.192        0.0       0.808\n",
      "6                 0.7         0.3\n",
      "\n",
      "Using Full-data cohorts only\n",
      "  Y1 retention among LA-having students 0.893\n",
      "  Y1 retention among students w/ no LAs 0.780\n",
      "Using Full and Partial-data cohorts\n",
      "  Y1 retention among LA-having students 0.885\n",
      "  Y1 retention among students w/ no LAs 0.809\n"
     ]
    }
   ],
   "source": [
    "print(\"=======================================================\")\n",
    "print(\"All students who touched LA-assisted courses:\\n\")\n",
    "print(\"W/ LAs:\")\n",
    "printmat(pmats_LA[\"all\"])\n",
    "print(\"\\nNo LAs:\")\n",
    "printmat(pmats_noLA[\"all\"])\n",
    "print()\n",
    "print(\"Using Full-data cohorts only\")\n",
    "print(\"  Y1 retention among LA-having students {:0.3f}\".format(pmats_LA[\"full\"][0,1]))\n",
    "print(\"  Y1 retention among students w/ no LAs {:0.3f}\".format(pmats_noLA[\"full\"][0,1]))\n",
    "print(\"Using Full and Partial-data cohorts\")\n",
    "print(\"  Y1 retention among LA-having students {:0.3f}\".format(pmats_LA[\"all\"][0,1]))\n",
    "print(\"  Y1 retention among students w/ no LAs {:0.3f}\".format(pmats_noLA[\"all\"][0,1]))\n",
    "\n",
    "print(\"\\n\\n=======================================================\")\n",
    "print(\"All students who touched LA-assisted courses, and ever had a COS major:\\n\")\n",
    "print(\"W/ LAs:\")\n",
    "printmat(pmats_LA_cos[\"all\"])\n",
    "print(\"\\nNo LAs:\")\n",
    "printmat(pmats_noLA_cos[\"all\"])\n",
    "print()\n",
    "print(\"Using Full-data cohorts only\")\n",
    "print(\"  Y1 retention among LA-having students {:0.3f}\".format(pmats_LA_cos[\"full\"][0,1]))\n",
    "print(\"  Y1 retention among students w/ no LAs {:0.3f}\".format(pmats_noLA_cos[\"full\"][0,1]))\n",
    "print(\"Using Full and Partial-data cohorts\")\n",
    "print(\"  Y1 retention among LA-having students {:0.3f}\".format(pmats_LA_cos[\"all\"][0,1]))\n",
    "print(\"  Y1 retention among students w/ no LAs {:0.3f}\".format(pmats_noLA_cos[\"all\"][0,1]))"
   ]
  },
  {
   "cell_type": "markdown",
   "metadata": {},
   "source": [
    "### Compare 4Y graduation rate:"
   ]
  },
  {
   "cell_type": "code",
   "execution_count": 289,
   "metadata": {},
   "outputs": [
    {
     "name": "stdout",
     "output_type": "stream",
     "text": [
      "=======================================================\n",
      "All students who touched LA-assisted courses:\n",
      "\n",
      "Using only Full-data Cohorts:\n",
      "LAs:\n",
      " [0.    0.    0.    0.    0.603 0.    0.171 0.226]\n",
      "No LAs:\n",
      " [0.    0.    0.    0.    0.467 0.    0.269 0.264]\n",
      "4Y graduate rate among LA-having students 0.226\n",
      "4Y graduate rate among students w/ no LAs 0.264\n",
      "\n",
      "Using Full and Partial-data Cohorts:\n",
      "LAs:\n",
      " [0.    0.    0.    0.    0.57  0.    0.202 0.228]\n",
      "No LAs:\n",
      " [0.    0.    0.    0.    0.468 0.    0.258 0.274]\n",
      "4Y graduate rate among LA-having students 0.228\n",
      "4Y graduate rate among students w/ no LAs 0.274\n",
      "\n",
      "\n",
      "=======================================================\n",
      "All students who touched LA-assisted courses, and ever had a COS major:\n",
      "\n",
      "Using only Full-data Cohorts:\n",
      "LAs:\n",
      " [0.    0.    0.    0.    0.286 0.    0.25  0.464]\n",
      "No LAs:\n",
      " [0.    0.    0.    0.    0.317 0.    0.36  0.323]\n",
      "4Y graduate rate among LA-having students 0.464\n",
      "4Y graduate rate among students w/ no LAs 0.323\n",
      "\n",
      "Using Full and Partial-data Cohorts:\n",
      "LAs:\n",
      " [0.    0.    0.    0.    0.259 0.    0.268 0.473]\n",
      "No LAs:\n",
      " [0.    0.    0.    0.    0.31  0.    0.341 0.35 ]\n",
      "4Y graduate rate among LA-having students 0.473\n",
      "4Y graduate rate among students w/ no LAs 0.350\n"
     ]
    }
   ],
   "source": [
    "n = 4\n",
    "\n",
    "print(\"=======================================================\")\n",
    "print(\"All students who touched LA-assisted courses:\\n\")\n",
    "print(\"Using only Full-data Cohorts:\")\n",
    "newmats_LA, newmats_noLA = np.linalg.matrix_power(pmats_LA[\"full\"],n), np.linalg.matrix_power(pmats_noLA[\"full\"],n)\n",
    "print(\"LAs:\\n\",np.round(newmats_LA,3)[0,:])\n",
    "print(\"No LAs:\\n\",np.round(newmats_noLA,3)[0,:])\n",
    "print(\"{}Y graduate rate among LA-having students {:0.3f}\".format(n,newmats_LA[0,7]))\n",
    "print(\"{}Y graduate rate among students w/ no LAs {:0.3f}\".format(n,newmats_noLA[0,7]))\n",
    "\n",
    "print(\"\\nUsing Full and Partial-data Cohorts:\")\n",
    "newmats_LA, newmats_noLA = np.linalg.matrix_power(pmats_LA[\"all\"],n), np.linalg.matrix_power(pmats_noLA[\"all\"],n)\n",
    "print(\"LAs:\\n\",np.round(newmats_LA,3)[0,:])\n",
    "print(\"No LAs:\\n\",np.round(newmats_noLA,3)[0,:])\n",
    "print(\"{}Y graduate rate among LA-having students {:0.3f}\".format(n,newmats_LA[0,7]))\n",
    "print(\"{}Y graduate rate among students w/ no LAs {:0.3f}\".format(n,newmats_noLA[0,7]))\n",
    "\n",
    "print(\"\\n\\n=======================================================\")\n",
    "print(\"All students who touched LA-assisted courses, and ever had a COS major:\\n\")\n",
    "print(\"Using only Full-data Cohorts:\")\n",
    "newmats_LA, newmats_noLA = np.linalg.matrix_power(pmats_LA_cos[\"full\"],n), np.linalg.matrix_power(pmats_noLA_cos[\"full\"],n)\n",
    "print(\"LAs:\\n\",np.round(newmats_LA,3)[0,:])\n",
    "print(\"No LAs:\\n\",np.round(newmats_noLA,3)[0,:])\n",
    "print(\"{}Y graduate rate among LA-having students {:0.3f}\".format(n,newmats_LA[0,7]))\n",
    "print(\"{}Y graduate rate among students w/ no LAs {:0.3f}\".format(n,newmats_noLA[0,7]))\n",
    "\n",
    "print(\"\\nUsing Full and Partial-data Cohorts:\")\n",
    "newmats_LA, newmats_noLA = np.linalg.matrix_power(pmats_LA_cos[\"all\"],n), np.linalg.matrix_power(pmats_noLA_cos[\"all\"],n)\n",
    "print(\"LAs:\\n\",np.round(newmats_LA,3)[0,:])\n",
    "print(\"No LAs:\\n\",np.round(newmats_noLA,3)[0,:])\n",
    "print(\"{}Y graduate rate among LA-having students {:0.3f}\".format(n,newmats_LA[0,7]))\n",
    "print(\"{}Y graduate rate among students w/ no LAs {:0.3f}\".format(n,newmats_noLA[0,7]))\n"
   ]
  },
  {
   "cell_type": "markdown",
   "metadata": {},
   "source": [
    "### Compare 6Y graduation rate:"
   ]
  },
  {
   "cell_type": "code",
   "execution_count": 290,
   "metadata": {},
   "outputs": [
    {
     "name": "stdout",
     "output_type": "stream",
     "text": [
      "=======================================================\n",
      "All students who touched LA-assisted courses:\n",
      "\n",
      "Using only Full-data Cohorts:\n",
      "LAs:\n",
      " [0.    0.    0.    0.    0.    0.    0.234 0.766]\n",
      "No LAs:\n",
      " [0.    0.    0.    0.    0.    0.    0.323 0.677]\n",
      "6Y graduate rate among LA-having students 0.766\n",
      "6Y graduate rate among students w/ no LAs 0.677\n",
      "\n",
      "Using Full and Partial-data Cohorts:\n",
      "LAs:\n",
      " [0.    0.    0.    0.    0.    0.    0.262 0.738]\n",
      "No LAs:\n",
      " [0.    0.    0.    0.    0.    0.    0.312 0.688]\n",
      "6Y graduate rate among LA-having students 0.738\n",
      "6Y graduate rate among students w/ no LAs 0.688\n",
      "\n",
      "\n",
      "=======================================================\n",
      "All students who touched LA-assisted courses, and ever had a COS major:\n",
      "\n",
      "Using only Full-data Cohorts:\n",
      "LAs:\n",
      " [0.    0.    0.    0.    0.    0.    0.288 0.712]\n",
      "No LAs:\n",
      " [0.    0.    0.    0.    0.    0.    0.402 0.598]\n",
      "6Y graduate rate among LA-having students 0.712\n",
      "6Y graduate rate among students w/ no LAs 0.598\n",
      "\n",
      "Using Full and Partial-data Cohorts:\n",
      "LAs:\n",
      " [0.    0.    0.    0.    0.    0.    0.302 0.698]\n",
      "No LAs:\n",
      " [0.    0.    0.    0.    0.    0.    0.382 0.618]\n",
      "6Y graduate rate among LA-having students 0.698\n",
      "6Y graduate rate among students w/ no LAs 0.618\n"
     ]
    }
   ],
   "source": [
    "n = 6\n",
    "\n",
    "print(\"=======================================================\")\n",
    "print(\"All students who touched LA-assisted courses:\\n\")\n",
    "print(\"Using only Full-data Cohorts:\")\n",
    "newmats_LA, newmats_noLA = np.linalg.matrix_power(pmats_LA[\"full\"],n), np.linalg.matrix_power(pmats_noLA[\"full\"],n)\n",
    "print(\"LAs:\\n\",np.round(newmats_LA,3)[0,:])\n",
    "print(\"No LAs:\\n\",np.round(newmats_noLA,3)[0,:])\n",
    "print(\"{}Y graduate rate among LA-having students {:0.3f}\".format(n,newmats_LA[0,7]))\n",
    "print(\"{}Y graduate rate among students w/ no LAs {:0.3f}\".format(n,newmats_noLA[0,7]))\n",
    "\n",
    "print(\"\\nUsing Full and Partial-data Cohorts:\")\n",
    "newmats_LA, newmats_noLA = np.linalg.matrix_power(pmats_LA[\"all\"],n), np.linalg.matrix_power(pmats_noLA[\"all\"],n)\n",
    "print(\"LAs:\\n\",np.round(newmats_LA,3)[0,:])\n",
    "print(\"No LAs:\\n\",np.round(newmats_noLA,3)[0,:])\n",
    "print(\"{}Y graduate rate among LA-having students {:0.3f}\".format(n,newmats_LA[0,7]))\n",
    "print(\"{}Y graduate rate among students w/ no LAs {:0.3f}\".format(n,newmats_noLA[0,7]))\n",
    "\n",
    "print(\"\\n\\n=======================================================\")\n",
    "print(\"All students who touched LA-assisted courses, and ever had a COS major:\\n\")\n",
    "print(\"Using only Full-data Cohorts:\")\n",
    "newmats_LA, newmats_noLA = np.linalg.matrix_power(pmats_LA_cos[\"full\"],n), np.linalg.matrix_power(pmats_noLA_cos[\"full\"],n)\n",
    "print(\"LAs:\\n\",np.round(newmats_LA,3)[0,:])\n",
    "print(\"No LAs:\\n\",np.round(newmats_noLA,3)[0,:])\n",
    "print(\"{}Y graduate rate among LA-having students {:0.3f}\".format(n,newmats_LA[0,7]))\n",
    "print(\"{}Y graduate rate among students w/ no LAs {:0.3f}\".format(n,newmats_noLA[0,7]))\n",
    "\n",
    "print(\"\\nUsing Full and Partial-data Cohorts:\")\n",
    "newmats_LA, newmats_noLA = np.linalg.matrix_power(pmats_LA_cos[\"all\"],n), np.linalg.matrix_power(pmats_noLA_cos[\"all\"],n)\n",
    "print(\"LAs:\\n\",np.round(newmats_LA,3)[0,:])\n",
    "print(\"No LAs:\\n\",np.round(newmats_noLA,3)[0,:])\n",
    "print(\"{}Y graduate rate among LA-having students {:0.3f}\".format(n,newmats_LA[0,7]))\n",
    "print(\"{}Y graduate rate among students w/ no LAs {:0.3f}\".format(n,newmats_noLA[0,7]))\n"
   ]
  },
  {
   "cell_type": "markdown",
   "metadata": {},
   "source": [
    "<br>\n",
    "\n",
    "---\n",
    "\n",
    "<h1 style=\"font-size:24pt;color:purple\">Restricting to specific high-DFW COS courses</h1>"
   ]
  },
  {
   "cell_type": "code",
   "execution_count": 55,
   "metadata": {},
   "outputs": [],
   "source": [
    "cohort_terms = cohort_terms_full+cohort_terms_part\n",
    "\n",
    "def matrices_for_course_list(courses, LAclass_tups, df, cohort_terms):\n",
    "    # input: courses (list of (SUBJ, CRS#) tuples), LAclass_tups, df, list of terms to use\n",
    "\n",
    "    IDs_these_courses, IDs_LAs_these_courses = set(), set()\n",
    "    LA_tups_these_courses = []\n",
    "    for c in courses:\n",
    "        IDs_these_courses = set.union(IDs_these_courses,\n",
    "                                      df.loc[(df.subject==c[0]) & (df.catalog_nbr==c[1]),\"ID\"].unique())\n",
    "        this_class = [LAclass_tups[k][0]==c[0] and LAclass_tups[k][1]==c[1] for k in range(len(LAclass_tups))]\n",
    "        if np.sum(this_class) > 0:\n",
    "            LA_tups_this_class = [LAclass_tups[k] for k in [i for i, x in enumerate(this_class) if x]]\n",
    "            LA_tups_these_courses = LA_tups_these_courses + list(LA_tups_this_class)\n",
    "            for cs in LA_tups_this_class:\n",
    "                IDs_LAs_these_courses = set.union(IDs_LAs_these_courses,\n",
    "                                                  df.loc[(df.subject==cs[0]) & (df.catalog_nbr==cs[1]) & \n",
    "                                                         (df.class_section==cs[2]) & (df.Term==cs[3]),\"ID\"].unique())\n",
    "    # restrict to only the list of courses\n",
    "    dfC_all = df.loc[(df.ID.isin(IDs_these_courses))]\n",
    "    dfC_LA = df.loc[(df.ID.isin(IDs_LAs_these_courses))]\n",
    "    dfC_noLA = df.loc[(~df.ID.isin(IDs_LAs_these_courses))]\n",
    "\n",
    "    # numbers matrices for these courses\n",
    "    mats_LA_these_courses = {c : None for c in cohort_terms}\n",
    "    mats_noLA_these_courses = {c : None for c in cohort_terms}\n",
    "    for c in cohort_terms:\n",
    "        mats_LA_these_courses[c] = compute_matrix_las(dfC_LA,c,True,False)\n",
    "        mats_noLA_these_courses[c] = compute_matrix_las(dfC_noLA,c,True,False)\n",
    "\n",
    "    # sum across cohort terms and normalize    \n",
    "    mats_LA_these_courses[\"all\"] = np.sum([mats_LA_these_courses[c] for c in cohort_terms], axis=0)\n",
    "    pmats_LA_these_courses = normalize(mats_LA_these_courses[\"all\"])\n",
    "    mats_noLA_these_courses[\"all\"] = np.sum([mats_noLA_these_courses[c] for c in cohort_terms], axis=0)\n",
    "    pmats_noLA_these_courses = normalize(mats_noLA_these_courses[\"all\"])\n",
    "\n",
    "    return (pmats_LA_these_courses, pmats_noLA_these_courses, mats_LA_these_courses, mats_noLA_these_courses)"
   ]
  },
  {
   "cell_type": "markdown",
   "metadata": {},
   "source": [
    "<br>\n",
    "\n",
    "### High-DFW COS courses\n",
    "\n",
    "Including:\n",
    "* PHYS: 111, 112, 211A, 211, 212\n",
    "* MATH: 111, 171, 182A, 211\n",
    "  * Note that there are no instances of MATH 172, 181(A), or 182 using LAs.\n",
    "  * There is a single instance of MATH 182A using an LA.\n",
    "  * Results without MATH 211 is below this. However, there's an overall DFW rate of 25% in that course, between Fall 2013 and Fall 2019 (see further below)\n",
    "  \n",
    "Y1 retention:\n",
    "* Among students who have LAs in this set of courses: 97%\n",
    "* Non-LA students in this same set of courses: 87%"
   ]
  },
  {
   "cell_type": "code",
   "execution_count": 56,
   "metadata": {},
   "outputs": [
    {
     "name": "stdout",
     "output_type": "stream",
     "text": [
      "N   YN->N+1  YN->DropOut  YN->Grad\n",
      "----------------------------------\n",
      "1    0.946      0.054         0.0\n",
      "2    0.937      0.063         0.0\n",
      "3    0.965      0.031       0.004\n",
      "4    0.813      0.021       0.166\n",
      "5    0.219      0.037       0.744\n",
      "6               0.329       0.671\n",
      "N   YN->N+1  YN->DropOut  YN->Grad\n",
      "----------------------------------\n",
      "1    0.866      0.134         0.0\n",
      "2    0.912      0.087       0.001\n",
      "3    0.938      0.043       0.019\n",
      "4    0.544      0.029       0.427\n",
      "5    0.251      0.027       0.722\n",
      "6               0.403       0.597\n",
      "LAs:\n",
      " [0.     0.     0.     0.     0.6951 0.     0.1594 0.1455]\n",
      "No LAs:\n",
      " [0.     0.     0.     0.     0.4035 0.     0.2643 0.3322]\n",
      "4Y graduate rate among LA-having high-DFW COS course students 0.145\n",
      "4Y graduate rate among high-DFW COS course students w/ no LAs 0.332\n",
      "LAs:\n",
      " [0.     0.     0.     0.     0.     0.     0.2354 0.7646]\n",
      "No LAs:\n",
      " [0.     0.     0.     0.     0.     0.     0.3161 0.6839]\n",
      "6Y graduate rate among LA-having high-DFW COS course students 0.765\n",
      "6Y graduate rate among high-DFW COS course students w/ no LAs 0.684\n",
      "\n",
      " 1886 students starting in Y1 with LA in a high-DFW COS course\n"
     ]
    }
   ],
   "source": [
    "courses = [(\"PHYS\",\"111\"),(\"PHYS\",\"112\"),(\"PHYS\",\"211\"),(\"PHYS\",\"211A\"),(\"PHYS\",\"212\"),\n",
    "           (\"MATH\",\"111\"), (\"MATH\",\"171\"),(\"MATH\",\"182A\"),(\"MATH\",\"211\")]\n",
    "pmat_LA_dfw, pmat_noLA_dfw, mats_LA_dfw, mats_noLA_dfw = matrices_for_course_list(courses,\n",
    "                                                                                  LAclass_tups, df, cohort_terms)\n",
    "# Y1 retention\n",
    "printmat(pmat_LA_dfw)\n",
    "printmat(pmat_noLA_dfw)\n",
    "# 4-year grad rate\n",
    "n=4\n",
    "newmats_LA, newmats_noLA = np.linalg.matrix_power(pmat_LA_dfw,n), np.linalg.matrix_power(pmat_noLA_dfw,n)\n",
    "print(\"LAs:\\n\",np.round(newmats_LA,4)[0,:])\n",
    "print(\"No LAs:\\n\",np.round(newmats_noLA,4)[0,:])\n",
    "print(\"{}Y graduate rate among LA-having high-DFW COS course students {:0.3f}\".format(n,newmats_LA[0,7]))\n",
    "print(\"{}Y graduate rate among high-DFW COS course students w/ no LAs {:0.3f}\".format(n,newmats_noLA[0,7]))\n",
    "# 6-year grad rate\n",
    "n=6\n",
    "newmats_LA, newmats_noLA = np.linalg.matrix_power(pmat_LA_dfw,n), np.linalg.matrix_power(pmat_noLA_dfw,n)\n",
    "print(\"LAs:\\n\",np.round(newmats_LA,4)[0,:])\n",
    "print(\"No LAs:\\n\",np.round(newmats_noLA,4)[0,:])\n",
    "print(\"{}Y graduate rate among LA-having high-DFW COS course students {:0.3f}\".format(n,newmats_LA[0,7]))\n",
    "print(\"{}Y graduate rate among high-DFW COS course students w/ no LAs {:0.3f}\".format(n,newmats_noLA[0,7]))\n",
    "\n",
    "print(\"\\n\", int(mats_LA_dfw[\"all\"][0,1]), \"students starting in Y1 with LA in a high-DFW COS course\")"
   ]
  },
  {
   "cell_type": "markdown",
   "metadata": {},
   "source": [
    "<br>\n",
    "\n",
    "### Confidence intervals for difference in proportions\n",
    "\n",
    "$$\\hat{p}_1 - \\hat{p}_2 \\pm z_{\\alpha/2} \\sqrt{\\dfrac{\\hat{p}_1(1-\\hat{p}_1)}{n_1} + \\dfrac{\\hat{p}_2(1-\\hat{p}_2)}{n_2}}$$\n",
    "\n",
    "For a transition probability in row $i$, the sample sizes $n_1$ and $n_2$ should be the total number of students from row $i$."
   ]
  },
  {
   "cell_type": "code",
   "execution_count": 57,
   "metadata": {},
   "outputs": [],
   "source": [
    "z_10 = stats.norm.ppf(1-0.1/2)\n",
    "z_05 = stats.norm.ppf(1-0.05/2)\n",
    "z_01 = stats.norm.ppf(1-0.01/2)"
   ]
  },
  {
   "cell_type": "markdown",
   "metadata": {},
   "source": [
    "#### For year-to-year transitions"
   ]
  },
  {
   "cell_type": "code",
   "execution_count": 58,
   "metadata": {},
   "outputs": [],
   "source": [
    "significances = np.zeros(pmat_LA_dfw.shape)\n",
    "for i in range(pmat_LA_dfw.shape[0]):\n",
    "    for j in range(pmat_LA_dfw.shape[1]):\n",
    "        p1, p2 = pmat_LA_dfw[i,j], pmat_noLA_dfw[i,j]\n",
    "        n1, n2 = np.sum(mats_LA_dfw[\"all\"][i,:]), np.sum(mats_noLA_dfw[\"all\"][i,:])\n",
    "        pdiff = p1-p2\n",
    "        pdiff_std = np.sqrt( p1*(1-p1)/n1 + p2*(1-p2)/n2 )\n",
    "        ci_99 = [pdiff + pm*z_01*pdiff_std for pm in [-1,1]]\n",
    "        if np.prod(ci_99) > 0:\n",
    "            significances[i,j] = 0.01\n",
    "        else:\n",
    "            ci_95 = [pdiff + pm*z_05*pdiff_std for pm in [-1,1]]\n",
    "            if np.prod(ci_95) > 0:\n",
    "                significances[i,j] = 0.05\n",
    "            else:\n",
    "                ci_90 = [pdiff + pm*z_10*pdiff_std for pm in [-1,1]]\n",
    "                if np.prod(ci_90) > 0:\n",
    "                    significances[i,j] = 0.1"
   ]
  },
  {
   "cell_type": "code",
   "execution_count": 59,
   "metadata": {},
   "outputs": [
    {
     "data": {
      "text/plain": [
       "array([[0.  , 0.01, 0.  , 0.  , 0.  , 0.  , 0.01, 0.  ],\n",
       "       [0.  , 0.  , 0.01, 0.  , 0.  , 0.  , 0.01, 0.01],\n",
       "       [0.  , 0.  , 0.  , 0.01, 0.  , 0.  , 0.01, 0.01],\n",
       "       [0.  , 0.  , 0.  , 0.  , 0.01, 0.  , 0.05, 0.01],\n",
       "       [0.  , 0.  , 0.  , 0.  , 0.  , 0.05, 0.1 , 0.  ],\n",
       "       [0.  , 0.  , 0.  , 0.  , 0.  , 0.  , 0.05, 0.05],\n",
       "       [0.  , 0.  , 0.  , 0.  , 0.  , 0.  , 0.  , 0.  ],\n",
       "       [0.  , 0.  , 0.  , 0.  , 0.  , 0.  , 0.  , 0.  ]])"
      ]
     },
     "execution_count": 59,
     "metadata": {},
     "output_type": "execute_result"
    }
   ],
   "source": [
    "significances    "
   ]
  },
  {
   "cell_type": "markdown",
   "metadata": {},
   "source": [
    "<br>\n",
    "\n",
    "#### Significance for the 4Y and 6Y graduation rates\n",
    "\n",
    "These are the proportions moving from Y1 to Grad states in 4 or 6 steps. So the denominators for these proportions are the Y1 totals."
   ]
  },
  {
   "cell_type": "code",
   "execution_count": 60,
   "metadata": {},
   "outputs": [
    {
     "name": "stdout",
     "output_type": "stream",
     "text": [
      "4Y grad rate difference significant at 1%\n",
      "6Y grad rate difference significant at 1%\n"
     ]
    }
   ],
   "source": [
    "i,j = 0,7\n",
    "\n",
    "n=4\n",
    "newmats_LA, newmats_noLA = np.linalg.matrix_power(pmat_LA_dfw,n), np.linalg.matrix_power(pmat_noLA_dfw,n)\n",
    "p1, p2 = newmats_LA[i,j], newmats_noLA[i,j]\n",
    "n1, n2 = np.sum(mats_LA_dfw[\"all\"][i,:]), np.sum(mats_noLA_dfw[\"all\"][i,:])\n",
    "pdiff = p1-p2\n",
    "pdiff_std = np.sqrt( p1*(1-p1)/n1 + p2*(1-p2)/n2 )\n",
    "ci_99 = [pdiff + pm*z_01*pdiff_std for pm in [-1,1]]\n",
    "if np.prod(ci_99) > 0:\n",
    "    print(\"4Y grad rate difference significant at 1%\")\n",
    "else:\n",
    "    ci_95 = [pdiff + pm*z_05*pdiff_std for pm in [-1,1]]\n",
    "    if np.prod(ci_95) > 0:\n",
    "        print(\"4Y grad rate difference significant at 5%\")\n",
    "    else:\n",
    "        ci_90 = [pdiff + pm*z_10*pdiff_std for pm in [-1,1]]\n",
    "        if np.prod(ci_90) > 0:\n",
    "            print(\"4Y grad rate difference significant at 10%\")\n",
    "        else:\n",
    "            print(\"4Y grad rate difference NOT significant\")\n",
    "\n",
    "n=6\n",
    "newmats_LA, newmats_noLA = np.linalg.matrix_power(pmat_LA_dfw,n), np.linalg.matrix_power(pmat_noLA_dfw,n)\n",
    "p1, p2 = newmats_LA[i,j], newmats_noLA[i,j]\n",
    "n1, n2 = np.sum(mats_LA_dfw[\"all\"][i,:]), np.sum(mats_noLA_dfw[\"all\"][i,:])\n",
    "pdiff = p1-p2\n",
    "pdiff_std = np.sqrt( p1*(1-p1)/n1 + p2*(1-p2)/n2 )\n",
    "ci_99 = [pdiff + pm*z_01*pdiff_std for pm in [-1,1]]\n",
    "if np.prod(ci_99) > 0:\n",
    "    print(\"6Y grad rate difference significant at 1%\")\n",
    "else:\n",
    "    ci_95 = [pdiff + pm*z_05*pdiff_std for pm in [-1,1]]\n",
    "    if np.prod(ci_95) > 0:\n",
    "        print(\"6Y grad rate difference significant at 5%\")\n",
    "    else:\n",
    "        ci_90 = [pdiff + pm*z_10*pdiff_std for pm in [-1,1]]\n",
    "        if np.prod(ci_90) > 0:\n",
    "            print(\"6Y grad rate difference significant at 10%\")\n",
    "        else:\n",
    "            print(\"6Y grad rate difference NOT significant\")"
   ]
  },
  {
   "cell_type": "markdown",
   "metadata": {},
   "source": [
    "<br>\n",
    "\n",
    "#### Calculate numbers of students in each of the courses, and numbers of sections"
   ]
  },
  {
   "cell_type": "code",
   "execution_count": 61,
   "metadata": {},
   "outputs": [],
   "source": [
    "student_counts_LA, section_counts_LA = np.zeros((len(courses),len(terms))), np.zeros((len(courses),len(terms)))\n",
    "student_counts_noLA, section_counts_noLA = np.zeros((len(courses),len(terms))), np.zeros((len(courses),len(terms)))\n",
    "total_no_student = 0\n",
    "for t in terms:\n",
    "    ti = list(terms).index(t)\n",
    "    for c in courses:\n",
    "        ci = courses.index(c)\n",
    "        subj = c[0]\n",
    "        crs = c[1]\n",
    "        dfSubset = df.loc[(df.subject==subj) & (df.catalog_nbr==crs) & (df.Term==t)].copy()\n",
    "        # LA sections of this course this term, excluding recitation, lab, and \"splits\"\n",
    "        LA_tups_this_class = [tup for tup in LAclass_tups if (tup[0]==subj and tup[1]==crs and tup[3]==t and\n",
    "                                                              \"L\" not in tup[2] and \"R\" not in tup[2] and \"S\" not in tup[2])]\n",
    "        # check that they actually have students in them\n",
    "        num_no_students = 0\n",
    "        LA_sections = []\n",
    "        for tup in LA_tups_this_class:\n",
    "            num_students_this_section = len(dfSubset.loc[(dfSubset.class_section==tup[2]),\"ID\"].unique())\n",
    "            student_counts_LA[ci,ti] += num_students_this_section\n",
    "            LA_sections.append(tup[2])\n",
    "            if num_students_this_section==0:\n",
    "                num_no_students += 1\n",
    "                total_no_student += 1\n",
    "        section_counts_LA[ci,ti] = len(LA_tups_this_class) - num_no_students\n",
    "        # non-LA sections of this course, this term, ... \n",
    "        sections_this_term = dfSubset.loc[(dfSubset[\"class_section\"].str.find(\"S\")==-1) &\n",
    "                                          (dfSubset[\"class_section\"].str.find(\"R\")==-1) & \n",
    "                                          (dfSubset[\"class_section\"].str.find(\"L\")==-1),\"class_section\"].unique()\n",
    "        noLA_sections = list(set.difference(set(sections_this_term), set(LA_sections)))\n",
    "        section_counts_noLA[ci,ti] = len(noLA_sections) \n",
    "        # non-LA students this course\n",
    "        for sec in noLA_sections:\n",
    "            student_counts_noLA[ci,ti] += len(dfSubset.loc[(dfSubset[\"class_section\"]==sec),\"ID\"].unique())\n",
    "        "
   ]
  },
  {
   "cell_type": "code",
   "execution_count": 62,
   "metadata": {},
   "outputs": [],
   "source": [
    "csv_to_write = []\n",
    "for c in courses:\n",
    "    ci = courses.index(c)\n",
    "    row_str_LA = c[0]+c[1]+\" LA\"\n",
    "    row_str_noLA = c[0]+c[1]+\" no-LA\"\n",
    "    for t in terms:\n",
    "        ti = list(terms).index(t)\n",
    "        row_str_LA = row_str_LA + \",\" + str(int(student_counts_LA[ci,ti])) + \" (\" + str(int(section_counts_LA[ci,ti])) + \")\"\n",
    "        row_str_noLA = row_str_noLA + \",\" + str(int(student_counts_noLA[ci,ti])) + \" (\" + str(int(section_counts_noLA[ci,ti])) + \")\"\n",
    "    row_str_LA = row_str_LA + \",\" + str(int(np.sum(student_counts_LA[ci,:]))) + \" (\" + str(int(np.sum(section_counts_LA[ci,:]))) + \")\"\n",
    "    row_str_noLA = row_str_noLA + \",\" + str(int(np.sum(student_counts_noLA[ci,:]))) + \" (\" + str(int(np.sum(section_counts_noLA[ci,:]))) + \")\"\n",
    "    csv_to_write.append(row_str_LA)\n",
    "    csv_to_write.append(row_str_noLA)\n"
   ]
  },
  {
   "cell_type": "code",
   "execution_count": 63,
   "metadata": {},
   "outputs": [],
   "source": [
    "pd.DataFrame(csv_to_write).to_csv(\"counts.csv\")"
   ]
  },
  {
   "cell_type": "code",
   "execution_count": 64,
   "metadata": {},
   "outputs": [
    {
     "data": {
      "text/plain": [
       "(6130.0, 26970.0)"
      ]
     },
     "execution_count": 64,
     "metadata": {},
     "output_type": "execute_result"
    }
   ],
   "source": [
    "np.sum(student_counts_LA), np.sum(student_counts_noLA)"
   ]
  },
  {
   "cell_type": "markdown",
   "metadata": {},
   "source": [
    "<br>\n",
    "\n",
    "### Same, subsetting down to only students who ever had a COS major"
   ]
  },
  {
   "cell_type": "code",
   "execution_count": 65,
   "metadata": {},
   "outputs": [
    {
     "name": "stdout",
     "output_type": "stream",
     "text": [
      "N   YN->N+1  YN->DropOut  YN->Grad\n",
      "----------------------------------\n",
      "1    0.951      0.049         0.0\n",
      "2    0.926      0.074         0.0\n",
      "3    0.943      0.039       0.017\n",
      "4    0.433      0.022       0.545\n",
      "5    0.241      0.034       0.724\n",
      "6               0.571       0.429\n",
      "N   YN->N+1  YN->DropOut  YN->Grad\n",
      "----------------------------------\n",
      "1    0.866      0.134         0.0\n",
      "2    0.909      0.089       0.002\n",
      "3     0.91       0.06        0.03\n",
      "4    0.369      0.048       0.583\n",
      "5    0.302      0.017       0.682\n",
      "6               0.407       0.593\n",
      "LAs:\n",
      " [0.     0.     0.     0.     0.3596 0.     0.172  0.4684]\n",
      "No LAs:\n",
      " [0.     0.     0.     0.     0.2643 0.     0.2923 0.4433]\n",
      "4Y graduate rate among LA-having high-DFW COS course students (COS-only) 0.4684\n",
      "4Y graduate rate among high-DFW COS course students w/ no LAs (COS-only) 0.4433\n",
      "LAs:\n",
      " [0.    0.    0.    0.    0.    0.    0.234 0.766]\n",
      "No LAs:\n",
      " [0.     0.     0.     0.     0.     0.     0.3293 0.6707]\n",
      "6Y graduate rate among LA-having high-DFW COS course students (COS-only) 0.7660\n",
      "6Y graduate rate among high-DFW COS course students w/ no LAs (COS-only) 0.6707\n",
      "\n",
      " 195 students starting in Y1 with LA in a high-DFW COS course (COS-only)\n"
     ]
    }
   ],
   "source": [
    "pmat_LA_dfw_cos, pmat_noLA_dfw_cos, mats_LA_dfw_cos, mats_noLA_dfw_cos = matrices_for_course_list(courses, \n",
    "                                                                                                  LAclass_tups, \n",
    "                                                                                                  df.loc[df.ID.isin(IDs_cos)], \n",
    "                                                                                                  cohort_terms)\n",
    "# Y1 retention\n",
    "printmat(pmat_LA_dfw_cos)\n",
    "printmat(pmat_noLA_dfw_cos)\n",
    "# 4-year grad rate\n",
    "n=4\n",
    "newmats_LA, newmats_noLA = np.linalg.matrix_power(pmat_LA_dfw_cos,n), np.linalg.matrix_power(pmat_noLA_dfw_cos,n)\n",
    "print(\"LAs:\\n\",np.round(newmats_LA,4)[0,:])\n",
    "print(\"No LAs:\\n\",np.round(newmats_noLA,4)[0,:])\n",
    "print(\"{}Y graduate rate among LA-having high-DFW COS course students (COS-only) {:0.4f}\".format(n,newmats_LA[0,7]))\n",
    "print(\"{}Y graduate rate among high-DFW COS course students w/ no LAs (COS-only) {:0.4f}\".format(n,newmats_noLA[0,7]))\n",
    "# 6-year grad rate\n",
    "n=6\n",
    "newmats_LA, newmats_noLA = np.linalg.matrix_power(pmat_LA_dfw_cos,n), np.linalg.matrix_power(pmat_noLA_dfw_cos,n)\n",
    "print(\"LAs:\\n\",np.round(newmats_LA,4)[0,:])\n",
    "print(\"No LAs:\\n\",np.round(newmats_noLA,4)[0,:])\n",
    "print(\"{}Y graduate rate among LA-having high-DFW COS course students (COS-only) {:0.4f}\".format(n,newmats_LA[0,7]))\n",
    "print(\"{}Y graduate rate among high-DFW COS course students w/ no LAs (COS-only) {:0.4f}\".format(n,newmats_noLA[0,7]))\n",
    "\n",
    "print(\"\\n\", int(mats_LA_dfw_cos[\"all\"][0,1]), \"students starting in Y1 with LA in a high-DFW COS course (COS-only)\")"
   ]
  },
  {
   "cell_type": "markdown",
   "metadata": {},
   "source": [
    "Significances for year-to-year transitions:"
   ]
  },
  {
   "cell_type": "code",
   "execution_count": 66,
   "metadata": {},
   "outputs": [
    {
     "name": "stdout",
     "output_type": "stream",
     "text": [
      "[[0.   0.01 0.   0.   0.   0.   0.01 0.  ]\n",
      " [0.   0.   0.   0.   0.   0.   0.   0.  ]\n",
      " [0.   0.   0.   0.1  0.   0.   0.   0.  ]\n",
      " [0.   0.   0.   0.   0.   0.   0.1  0.  ]\n",
      " [0.   0.   0.   0.   0.   0.   0.   0.  ]\n",
      " [0.   0.   0.   0.   0.   0.   0.   0.  ]\n",
      " [0.   0.   0.   0.   0.   0.   0.   0.  ]\n",
      " [0.   0.   0.   0.   0.   0.   0.   0.  ]]\n"
     ]
    }
   ],
   "source": [
    "significances_cos = np.zeros(pmat_LA_dfw_cos.shape)\n",
    "for i in range(pmat_LA_dfw_cos.shape[0]):\n",
    "    for j in range(pmat_LA_dfw_cos.shape[1]):\n",
    "        p1, p2 = pmat_LA_dfw_cos[i,j], pmat_noLA_dfw_cos[i,j]\n",
    "        n1, n2 = np.sum(mats_LA_dfw_cos[\"all\"][i,:]), np.sum(mats_noLA_dfw_cos[\"all\"][i,:])\n",
    "        pdiff = p1-p2\n",
    "        pdiff_std = np.sqrt( p1*(1-p1)/n1 + p2*(1-p2)/n2 )\n",
    "        ci_99 = [pdiff + pm*z_01*pdiff_std for pm in [-1,1]]\n",
    "        if np.prod(ci_99) > 0:\n",
    "            significances_cos[i,j] = 0.01\n",
    "        else:\n",
    "            ci_95 = [pdiff + pm*z_05*pdiff_std for pm in [-1,1]]\n",
    "            if np.prod(ci_95) > 0:\n",
    "                significances_cos[i,j] = 0.05\n",
    "            else:\n",
    "                ci_90 = [pdiff + pm*z_10*pdiff_std for pm in [-1,1]]\n",
    "                if np.prod(ci_90) > 0:\n",
    "                    significances_cos[i,j] = 0.1\n",
    "print(significances_cos)"
   ]
  },
  {
   "cell_type": "markdown",
   "metadata": {},
   "source": [
    "Significances for 4y and 6y graduation rates:"
   ]
  },
  {
   "cell_type": "code",
   "execution_count": 67,
   "metadata": {},
   "outputs": [
    {
     "name": "stdout",
     "output_type": "stream",
     "text": [
      "4Y grad rate difference NOT significant\n",
      "6Y grad rate difference significant at 1%\n"
     ]
    }
   ],
   "source": [
    "i,j = 0,7\n",
    "\n",
    "n=4\n",
    "newmats_LA, newmats_noLA = np.linalg.matrix_power(pmat_LA_dfw_cos,n), np.linalg.matrix_power(pmat_noLA_dfw_cos,n)\n",
    "p1, p2 = newmats_LA[i,j], newmats_noLA[i,j]\n",
    "n1, n2 = np.sum(mats_LA_dfw_cos[\"all\"][i,:]), np.sum(mats_noLA_dfw_cos[\"all\"][i,:])\n",
    "pdiff = p1-p2\n",
    "pdiff_std = np.sqrt( p1*(1-p1)/n1 + p2*(1-p2)/n2 )\n",
    "ci_99 = [pdiff + pm*z_01*pdiff_std for pm in [-1,1]]\n",
    "if np.prod(ci_99) > 0:\n",
    "    print(\"4Y grad rate difference significant at 1%\")\n",
    "else:\n",
    "    ci_95 = [pdiff + pm*z_05*pdiff_std for pm in [-1,1]]\n",
    "    if np.prod(ci_95) > 0:\n",
    "        print(\"4Y grad rate difference significant at 5%\")\n",
    "    else:\n",
    "        ci_90 = [pdiff + pm*z_10*pdiff_std for pm in [-1,1]]\n",
    "        if np.prod(ci_90) > 0:\n",
    "            print(\"4Y grad rate difference significant at 10%\")\n",
    "        else:\n",
    "            print(\"4Y grad rate difference NOT significant\")\n",
    "\n",
    "n=6\n",
    "newmats_LA, newmats_noLA = np.linalg.matrix_power(pmat_LA_dfw_cos,n), np.linalg.matrix_power(pmat_noLA_dfw_cos,n)\n",
    "p1, p2 = newmats_LA[i,j], newmats_noLA[i,j]\n",
    "n1, n2 = np.sum(mats_LA_dfw_cos[\"all\"][i,:]), np.sum(mats_noLA_dfw_cos[\"all\"][i,:])\n",
    "pdiff = p1-p2\n",
    "pdiff_std = np.sqrt( p1*(1-p1)/n1 + p2*(1-p2)/n2 )\n",
    "ci_99 = [pdiff + pm*z_01*pdiff_std for pm in [-1,1]]\n",
    "if np.prod(ci_99) > 0:\n",
    "    print(\"6Y grad rate difference significant at 1%\")\n",
    "else:\n",
    "    ci_95 = [pdiff + pm*z_05*pdiff_std for pm in [-1,1]]\n",
    "    if np.prod(ci_95) > 0:\n",
    "        print(\"6Y grad rate difference significant at 5%\")\n",
    "    else:\n",
    "        ci_90 = [pdiff + pm*z_10*pdiff_std for pm in [-1,1]]\n",
    "        if np.prod(ci_90) > 0:\n",
    "            print(\"6Y grad rate difference significant at 10%\")\n",
    "        else:\n",
    "            print(\"6Y grad rate difference NOT significant\")"
   ]
  },
  {
   "cell_type": "code",
   "execution_count": null,
   "metadata": {},
   "outputs": [],
   "source": []
  },
  {
   "cell_type": "code",
   "execution_count": null,
   "metadata": {},
   "outputs": [],
   "source": []
  },
  {
   "cell_type": "code",
   "execution_count": null,
   "metadata": {},
   "outputs": [],
   "source": []
  },
  {
   "cell_type": "markdown",
   "metadata": {},
   "source": [
    "<br>\n",
    "\n",
    "---\n",
    "\n",
    "# STASHED CODE\n",
    "\n",
    "\n",
    "---\n",
    "\n",
    "<br>"
   ]
  },
  {
   "cell_type": "code",
   "execution_count": null,
   "metadata": {},
   "outputs": [],
   "source": []
  },
  {
   "cell_type": "code",
   "execution_count": null,
   "metadata": {},
   "outputs": [],
   "source": []
  },
  {
   "cell_type": "code",
   "execution_count": null,
   "metadata": {},
   "outputs": [],
   "source": []
  },
  {
   "cell_type": "code",
   "execution_count": 58,
   "metadata": {},
   "outputs": [
    {
     "data": {
      "image/png": "[encoded data removed]",
      "text/plain": [
       "<Figure size 432x432 with 3 Axes>"
      ]
     },
     "metadata": {
      "needs_background": "light"
     },
     "output_type": "display_data"
    }
   ],
   "source": [
    "tmp = {\"No-LA\" : sygr_noLA, \"LA\" : sygr_LA}\n",
    "\n",
    "fig, ax = joypy.joyplot(tmp, color=[\"C9\",\"C6\",\"C3\",\"C1\"], alpha=0.45, overlap=.5, legend=True, \n",
    "                        grid=True, figsize=(6,6), xlabelsize=14, ylabelsize=14, x_range=[0.49,1.01])\n",
    "ax[2].set_xlabel(\"6-year graduation rate\", fontsize=14);\n",
    "ax[0].legend(fontsize=14);"
   ]
  },
  {
   "cell_type": "markdown",
   "metadata": {},
   "source": [
    "Here, actually want to group by year instead of LA/no-LA"
   ]
  },
  {
   "cell_type": "code",
   "execution_count": 67,
   "metadata": {},
   "outputs": [
    {
     "data": {
      "image/png": "[encoded data removed]",
      "text/plain": [
       "<Figure size 432x432 with 5 Axes>"
      ]
     },
     "metadata": {
      "needs_background": "light"
     },
     "output_type": "display_data"
    }
   ],
   "source": [
    "tmp = {k : {\"no-LA\" : sygr_noLA[k], \"LA\" : sygr_LA[k]} for k in sygr_LA.keys()}\n",
    "\n",
    "fig, ax = joypy.joyplot(tmp, color=[\"C3\",\"C1\"], alpha=0.45, overlap=.31, legend=True, \n",
    "                        grid=True, figsize=(6,6), xlabelsize=14, ylabelsize=14, x_range=[0.49,1.01])\n",
    "ax[4].set_xlabel(\"6-year graduation rate\", fontsize=14);\n",
    "ax[0].legend(fontsize=14);"
   ]
  }
 ],
 "metadata": {
  "kernelspec": {
   "display_name": "Python 3",
   "language": "python",
   "name": "python3"
  },
  "language_info": {
   "codemirror_mode": {
    "name": "ipython",
    "version": 3
   },
   "file_extension": ".py",
   "mimetype": "text/x-python",
   "name": "python",
   "nbconvert_exporter": "python",
   "pygments_lexer": "ipython3",
   "version": "3.9.6"
  },
  "vscode": {
   "interpreter": {
    "hash": "31f2aee4e71d21fbe5cf8b01ff0e069b9275f58929596ceb00d14d90e3e16cd6"
   }
  }
 },
 "nbformat": 4,
 "nbformat_minor": 4
}
